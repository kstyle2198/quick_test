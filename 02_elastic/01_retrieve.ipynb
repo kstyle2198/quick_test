{
 "cells": [
  {
   "cell_type": "code",
   "execution_count": 12,
   "id": "d20b3a99",
   "metadata": {},
   "outputs": [
    {
     "data": {
      "text/plain": [
       "<langchain_elasticsearch.vectorstores.ElasticsearchStore at 0x257ff2f71d0>"
      ]
     },
     "execution_count": 12,
     "metadata": {},
     "output_type": "execute_result"
    }
   ],
   "source": [
    "from typing import Union, List\n",
    "from langchain_ollama import OllamaEmbeddings\n",
    "from langchain_elasticsearch import ElasticsearchStore, DenseVectorStrategy\n",
    "\n",
    "def load_elastic_vectorstore(index_names: Union[str, List[str]]):\n",
    "    # 단일 문자열인 경우 리스트로 변환\n",
    "    if isinstance(index_names, str):\n",
    "        index_names = [index_names]\n",
    "    \n",
    "    vector_store = ElasticsearchStore(\n",
    "        index_name=index_names, \n",
    "        embedding=OllamaEmbeddings(\n",
    "            base_url=\"http://localhost:11434\", \n",
    "            model=\"bge-m3:latest\"\n",
    "        ), \n",
    "        es_url=\"http://localhost:9200\",\n",
    "        es_user=\"Kstyle\",\n",
    "        es_password=\"12345\",\n",
    "        # strategy=DenseVectorStrategy(hybrid=True)\n",
    "    )\n",
    "    return vector_store\n",
    "\n",
    "\n",
    "index_names = [\"ship_safety\"]\n",
    "vector_store = load_elastic_vectorstore(index_names=index_names)\n",
    "vector_store"
   ]
  },
  {
   "cell_type": "code",
   "execution_count": 13,
   "id": "f1b3bcfc",
   "metadata": {},
   "outputs": [
    {
     "data": {
      "text/plain": [
       "[Document(metadata={'filename': '안전보건 실무길잡이_선박건조 및 수리업.pdf', 'page': '0', 'lv1_cat': '안전', 'lv2_cat': '가이드'}, page_content='This page explains 안전보건 실무길잡이_선박건조 및 수리업 that belongs to 안전 and  가이드 categories.\\n안전보건 실무길잡이\\n\\n선박건조 및 수리업\\n\\n<!-- image -->\\n\\n산업재해예방\\n\\n안전보건공단\\n\\n<!-- image -->')]"
      ]
     },
     "execution_count": 13,
     "metadata": {},
     "output_type": "execute_result"
    }
   ],
   "source": [
    "results = vector_store.similarity_search(\n",
    "    query=\"중대재해의 정의\",\n",
    "    k=5,\n",
    "    filter=[{\"term\": {\"metadata.lv2_cat.keyword\": \"가이드\"}}],\n",
    ")\n",
    "results"
   ]
  },
  {
   "cell_type": "code",
   "execution_count": 14,
   "id": "a88ca8fe",
   "metadata": {},
   "outputs": [
    {
     "data": {
      "text/plain": [
       "[Document(metadata={'filename': '안전보건 실무길잡이_선박건조 및 수리업.pdf', 'page': '32'}, page_content='This page explains 안전보건 실무길잡이_선박건조 및 수리업 that belongs to 안전 and  가이드 categories.\\n<!-- image -->\\n\\n## Check Box\\n\\n## 용어의 정의\\n\\n- 사업주는 산업재해 조사표에 근로자 대표의 확인올 받아야 하여, 그 기재 내용에 대하여\\n- 산업재해가 발생한 경우 다음 사항울 기록하고 3년간 보존한다.\\n- 사업장의 개요 및 근로자의 인적사항, 재해 발생의 일시 및 장소 재해 발생의 원인 및 과정, 재해 재발방지 계획\\n- 하는 경우 갈음활 수있음\\n\\n## 중대재해\\n\\n0 사망자가 1명 이상 발생한 재해   0 3개월 이상의 요양이 필요한 부상자가 동시에 2명 이상 발생한 재해 부상자 또는 직업성 질병자가 동시에 10명 이상 발생한 재해름 말한다.\\n\\n## 지체없이\\n\\n정당한 사유재해 등으로 인한 통신수단의 이용이 곤란하거나 재해자 응급구호; 2차 재해 재발방지루 위한 조치\\n\\n## 3일 이상의 휴업\\n\\n(휴업일수에 사고 발생일은 포함되지 않으나 법정공휴일 또는 근로 제공 의무가 없는 휴무일은 포함)\\n\\n## 작업중지 요건\\n\\n0 고용노동부장관은 . (중락).. 해당 사업장에 산재가 다시 발생할 급박한 위험이 있다고 판단 되는 경우 그 작업의 중지름 명할 수 있음\\n\\n- 중대재해가 발생한 해당 직업 중대재해가 발생한 작업과 동일한 작업\\n\\n0고용노동부장관은 토사 구축물의봉과 화재 폭발 유해하거나 위험한 물질의 누출 등으로 인해 중대재해가 발생해 . (중락). 확산월 수 있다고 판단되는 등 불가피한 경우 해당사업장의\\n\\n<!-- image -->'),\n",
       " Document(metadata={'filename': '중대재해 처벌 등에 관한 법률(법률)(제17907호)(20220127).pdf', 'page': '4'}, page_content='This page explains 중대재해 처벌 등에 관한 법률(법률)(제17907호)(20220127) that belongs to 안전 and  법령 categories.\\n- ② 제1항에도 불구하고 제16조는 공포한 날부터 시행한다.\\n- 제2조(다른 법률의 개정) 법원조직법 중 일부를 다음과 같이 개정한다.\\n- 제32조제1항제3호에 아목을 다음과 같이 신설한다.\\n- 아. 「중대재해 처벌 등에 관한 법률」 제6조제1항ㆍ제3항 및 제10조제1항에 해당하는 사건'),\n",
       " Document(metadata={'filename': '사고사례_16.pdf', 'page': '0', 'lv1_cat': '안전', 'lv2_cat': '사고사례'}, page_content='This page explains 사고사례_16 that belongs to 안전 and  사고사례 categories.\\n## 중 대 재 해 사 례\\n\\n(문의) 061-288-8732\\n\\n제공 : 한국산업안전보건공단 부산광역본부 조선업재해예방센터\\n\\n## 건조중인 FRP 선박 내부에서 원인 미상의 화재로 인해 화상을 입음\\n\\n## &lt; 재 해 개 요&gt;\\n\\n2023. 5. 12.(금) 금) 16:10경 전남 여수시 소재 ○○○ 사업장에서 어창내부 적층작업 중인 FRP 선박 내부에서 원인 미상의 화재가 발생하여 작업자 3명이 화상을 입고 치료하던 중 1명이 2023. 5. 17. 사망한 재해임\\n\\n## □ 사고형태 및 피해정도 : 화상 / 사망 1명 , 부상 2명\\n\\n【화재발생 장면】\\n\\n<!-- image -->\\n\\n## □ 동종재해 예방대책\\n\\n## m 화재예방조치 실시\\n\\n- -사업주는 인화성 액체의 증기가 존재하여 화재가 발생할 우려가 있는 장소에서는 폭발 또는 화재를 예방하기 위해 환풍기 , 배풍기 등 환기장치를 적절하게 설치해야 함 (인화성물질로 인한 화재폭발 분위기를 낮추기 위해 환기팬 등을 사용한 강제환기를 실시해야 함)\\n- -화재의 원인이 될 우려가 있는 물질을 취급하는 장소에는 소화설비를 설치해야 함 .\\n\\n## m 경화제 취급관리 철저\\n\\n- -이물질 혼입을 방지하기 위해 지정된 구역에서만 수지와 경화제를 혼합하고 , 경화제는 뚜껑이 있는 원래의 용기(또는 전용용기)에만 담아서 사용해야 하며 , 사용 후에는 밀 봉해야 함'),\n",
       " Document(metadata={'filename': '대법원 2023. 12. 28. 선고 2023도12316 판결.pdf', 'page': '3'}, page_content='This page explains 대법원 2023. 12. 28. 선고 2023도12316 판결 that belongs to 안전 and  판례 categories.\\n<!-- image -->\\n\\n따라서 중대재해처벌법 위반(산업재해치사)죄와 업무상과실치사죄 역시 행위의 동일성이 인정되어 상상적 경 합 관계에 있다 .\\n\\n나 . 결국 원심이 피고인들에 대한 쟁점 공소사실 부분을 상상적 경합 관계로 판단한 것은 정당하고 , 거기에 상고이유 주장과 같이 죄수 판단에 관한 법리를 오해하여 판결에 영향을 미친 잘못이 없다 . 3 . 나머지 부분에 관한 판단\\n\\n검사는 피고인들에 대한 원심판결 전부에 대하여 상고하였으나 , 안전조치 및 보건조치 불이행으로 인한 산업 안전보건법 위반 부분에 관하여는 상고장이나 상고이유서에 구체적인 불복이유의 기재가 없다 .\\n\\n## 4 . 결론\\n\\n상고를 모두 기각하기로 하여 , 관여 대법관의 일치된 의견으로 주문과 같이 판결한다 .\\n\\n## 대법관 노정희(재판장) 안철상 이흥구 오석준(주심)')]"
      ]
     },
     "execution_count": 14,
     "metadata": {},
     "output_type": "execute_result"
    }
   ],
   "source": [
    "retriever = vector_store.as_retriever(\n",
    "    search_type=\"similarity_score_threshold\", \n",
    "    search_kwargs={\"score_threshold\": 0.6},\n",
    ")\n",
    "retriever.invoke(\"중대재해의 정의\")"
   ]
  },
  {
   "cell_type": "code",
   "execution_count": 15,
   "id": "46a82973",
   "metadata": {},
   "outputs": [
    {
     "data": {
      "text/plain": [
       "[Document(metadata={'filename': '안전보건 실무길잡이_선박건조 및 수리업.pdf', 'page': '32'}, page_content='This page explains 안전보건 실무길잡이_선박건조 및 수리업 that belongs to 안전 and  가이드 categories.\\n<!-- image -->\\n\\n## Check Box\\n\\n## 용어의 정의\\n\\n- 사업주는 산업재해 조사표에 근로자 대표의 확인올 받아야 하여, 그 기재 내용에 대하여\\n- 산업재해가 발생한 경우 다음 사항울 기록하고 3년간 보존한다.\\n- 사업장의 개요 및 근로자의 인적사항, 재해 발생의 일시 및 장소 재해 발생의 원인 및 과정, 재해 재발방지 계획\\n- 하는 경우 갈음활 수있음\\n\\n## 중대재해\\n\\n0 사망자가 1명 이상 발생한 재해   0 3개월 이상의 요양이 필요한 부상자가 동시에 2명 이상 발생한 재해 부상자 또는 직업성 질병자가 동시에 10명 이상 발생한 재해름 말한다.\\n\\n## 지체없이\\n\\n정당한 사유재해 등으로 인한 통신수단의 이용이 곤란하거나 재해자 응급구호; 2차 재해 재발방지루 위한 조치\\n\\n## 3일 이상의 휴업\\n\\n(휴업일수에 사고 발생일은 포함되지 않으나 법정공휴일 또는 근로 제공 의무가 없는 휴무일은 포함)\\n\\n## 작업중지 요건\\n\\n0 고용노동부장관은 . (중락).. 해당 사업장에 산재가 다시 발생할 급박한 위험이 있다고 판단 되는 경우 그 작업의 중지름 명할 수 있음\\n\\n- 중대재해가 발생한 해당 직업 중대재해가 발생한 작업과 동일한 작업\\n\\n0고용노동부장관은 토사 구축물의봉과 화재 폭발 유해하거나 위험한 물질의 누출 등으로 인해 중대재해가 발생해 . (중락). 확산월 수 있다고 판단되는 등 불가피한 경우 해당사업장의\\n\\n<!-- image -->'),\n",
       " Document(metadata={'filename': '중대재해 처벌 등에 관한 법률(법률)(제17907호)(20220127).pdf', 'page': '4'}, page_content='This page explains 중대재해 처벌 등에 관한 법률(법률)(제17907호)(20220127) that belongs to 안전 and  법령 categories.\\n- ② 제1항에도 불구하고 제16조는 공포한 날부터 시행한다.\\n- 제2조(다른 법률의 개정) 법원조직법 중 일부를 다음과 같이 개정한다.\\n- 제32조제1항제3호에 아목을 다음과 같이 신설한다.\\n- 아. 「중대재해 처벌 등에 관한 법률」 제6조제1항ㆍ제3항 및 제10조제1항에 해당하는 사건'),\n",
       " Document(metadata={'filename': '사고사례_25.pdf', 'page': '0', 'lv1_cat': '안전', 'lv2_cat': '사고사례'}, page_content=\"This page explains 사고사례_25 that belongs to 안전 and  사고사례 categories.\\n제공 : 한국산업안전보건공단 부산광역본부 조선업재해예방센터\\n\\n## 크레인 불시 작동으로 중량물에 끼임\\n\\n## &lt; 재 해 개 요&gt;\\n\\n'21.4.30.(금) 금) 18시 50분경 경남 소재 ○○○사업장에서 XX자 X자 구조물(X-brace, 약 42톤)톤)을 주 기둥(Leg)에 설치하기 위해 골리앗크레인으로 잡은 상태에서 취부작업 중 , 크레인 불시 상승으로 X자 구조물이 이탈되면서 용접작업 중인 재해자를 덮쳐 구조물과 작업발판 사이에 머리가 끼여 사망함\\n\\n※ 1대의 크레인으로 2가지 작업을 병행하던 중 오작동으로 사고발생\\n\\n## □ 사고형태 및 피해정도 : 끼임 / 사망 1명\\n\\n【재해상황도 및 기인물】\\n\\n<!-- image -->\\n\\n## □ 재해예방대책\\n\\n## ❍ 중량물이 고정되기 전 줄걸이 해제 금지 및 크레인 병행작업 금지\\n\\n- -X자 구조물 등 중량물을 설치하는 경우 안전하게 고정된 후 줄걸이 해제하며 , 크레인 1대로 여러 작업을 동시에 수행하는 병행작업 금지\\n\\n※ 무리한 작업공정 진행 금지\\n\\n본 속보는 동종재해 예방을 위해 조선업재해예방센터에서 제작하여 제공하공하는 것이므로 동종 시설의 자체점검 및 적정한 조치실시 , 근로자교자교육 자료 등으로 활용 바랍니다. 다. 인터넷 주소 www.kosha.or.kr/자료마당/당/재해사례/국내재해사례/례/조선업 클릭\\n\\n<!-- image -->\"),\n",
       " Document(metadata={'filename': '대법원 2023. 12. 28. 선고 2023도12316 판결.pdf', 'page': '3'}, page_content='This page explains 대법원 2023. 12. 28. 선고 2023도12316 판결 that belongs to 안전 and  판례 categories.\\n<!-- image -->\\n\\n따라서 중대재해처벌법 위반(산업재해치사)죄와 업무상과실치사죄 역시 행위의 동일성이 인정되어 상상적 경 합 관계에 있다 .\\n\\n나 . 결국 원심이 피고인들에 대한 쟁점 공소사실 부분을 상상적 경합 관계로 판단한 것은 정당하고 , 거기에 상고이유 주장과 같이 죄수 판단에 관한 법리를 오해하여 판결에 영향을 미친 잘못이 없다 . 3 . 나머지 부분에 관한 판단\\n\\n검사는 피고인들에 대한 원심판결 전부에 대하여 상고하였으나 , 안전조치 및 보건조치 불이행으로 인한 산업 안전보건법 위반 부분에 관하여는 상고장이나 상고이유서에 구체적인 불복이유의 기재가 없다 .\\n\\n## 4 . 결론\\n\\n상고를 모두 기각하기로 하여 , 관여 대법관의 일치된 의견으로 주문과 같이 판결한다 .\\n\\n## 대법관 노정희(재판장) 안철상 이흥구 오석준(주심)'),\n",
       " Document(metadata={'filename': '사고사례_16.pdf', 'page': '0', 'lv1_cat': '안전', 'lv2_cat': '사고사례'}, page_content='This page explains 사고사례_16 that belongs to 안전 and  사고사례 categories.\\n## 중 대 재 해 사 례\\n\\n(문의) 061-288-8732\\n\\n제공 : 한국산업안전보건공단 부산광역본부 조선업재해예방센터\\n\\n## 건조중인 FRP 선박 내부에서 원인 미상의 화재로 인해 화상을 입음\\n\\n## &lt; 재 해 개 요&gt;\\n\\n2023. 5. 12.(금) 금) 16:10경 전남 여수시 소재 ○○○ 사업장에서 어창내부 적층작업 중인 FRP 선박 내부에서 원인 미상의 화재가 발생하여 작업자 3명이 화상을 입고 치료하던 중 1명이 2023. 5. 17. 사망한 재해임\\n\\n## □ 사고형태 및 피해정도 : 화상 / 사망 1명 , 부상 2명\\n\\n【화재발생 장면】\\n\\n<!-- image -->\\n\\n## □ 동종재해 예방대책\\n\\n## m 화재예방조치 실시\\n\\n- -사업주는 인화성 액체의 증기가 존재하여 화재가 발생할 우려가 있는 장소에서는 폭발 또는 화재를 예방하기 위해 환풍기 , 배풍기 등 환기장치를 적절하게 설치해야 함 (인화성물질로 인한 화재폭발 분위기를 낮추기 위해 환기팬 등을 사용한 강제환기를 실시해야 함)\\n- -화재의 원인이 될 우려가 있는 물질을 취급하는 장소에는 소화설비를 설치해야 함 .\\n\\n## m 경화제 취급관리 철저\\n\\n- -이물질 혼입을 방지하기 위해 지정된 구역에서만 수지와 경화제를 혼합하고 , 경화제는 뚜껑이 있는 원래의 용기(또는 전용용기)에만 담아서 사용해야 하며 , 사용 후에는 밀 봉해야 함')]"
      ]
     },
     "execution_count": 15,
     "metadata": {},
     "output_type": "execute_result"
    }
   ],
   "source": [
    "retriever = vector_store.as_retriever(\n",
    "    search_type=\"mmr\", \n",
    "    search_kwargs={\"fetch_k\": 10, \"k\":5},\n",
    ")\n",
    "retriever.invoke(\"중대재해의 정의\")"
   ]
  },
  {
   "cell_type": "code",
   "execution_count": null,
   "id": "4000a25b",
   "metadata": {},
   "outputs": [],
   "source": []
  }
 ],
 "metadata": {
  "kernelspec": {
   "display_name": ".venv",
   "language": "python",
   "name": "python3"
  },
  "language_info": {
   "codemirror_mode": {
    "name": "ipython",
    "version": 3
   },
   "file_extension": ".py",
   "mimetype": "text/x-python",
   "name": "python",
   "nbconvert_exporter": "python",
   "pygments_lexer": "ipython3",
   "version": "3.12.6"
  }
 },
 "nbformat": 4,
 "nbformat_minor": 5
}
