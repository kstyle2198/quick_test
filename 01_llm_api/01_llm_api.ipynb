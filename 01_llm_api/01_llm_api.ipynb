{
 "cells": [
  {
   "cell_type": "code",
   "execution_count": 2,
   "id": "1954e966",
   "metadata": {},
   "outputs": [],
   "source": [
    "import os\n",
    "from dotenv import load_dotenv\n",
    "load_dotenv(override=True)\n",
    "api_key=os.environ.get(\"openrouter_api_key\")"
   ]
  },
  {
   "cell_type": "markdown",
   "id": "2ed32b0e",
   "metadata": {},
   "source": [
    "# Ollama"
   ]
  },
  {
   "cell_type": "code",
   "execution_count": 6,
   "id": "d0178719",
   "metadata": {},
   "outputs": [
    {
     "data": {
      "text/plain": [
       "OllamaEmbeddings(model='bge-m3:latest', base_url='http://localhost:11434', client_kwargs={}, mirostat=None, mirostat_eta=None, mirostat_tau=None, num_ctx=None, num_gpu=None, keep_alive=None, num_thread=None, repeat_last_n=None, repeat_penalty=None, temperature=None, stop=None, tfs_z=None, top_k=None, top_p=None)"
      ]
     },
     "execution_count": 6,
     "metadata": {},
     "output_type": "execute_result"
    }
   ],
   "source": [
    "from langchain_ollama import OllamaEmbeddings\n",
    "embeddings =  OllamaEmbeddings(base_url=\"http://localhost:11434\", model=\"bge-m3:latest\")\n",
    "embeddings"
   ]
  },
  {
   "cell_type": "code",
   "execution_count": 5,
   "id": "e95ea48e",
   "metadata": {},
   "outputs": [
    {
     "data": {
      "text/plain": [
       "\"<think>\\nOkay, so the user is asking for the capital of France. I know that France is a country in Europe, and I remember that Paris is its capital. But wait, maybe I should double-check that. Let me think. France has several major cities, like Lyon, Marseille, and Bordeaux, but I'm pretty sure Paris is the capital. Why is that? Well, Paris has been the political, cultural, and economic center of France for a long time. It's where the French government is located, and it's the largest city in the country. \\n\\nWait, but sometimes people might confuse other countries. For example, the capital of Belgium is Brussels, and the capital of Spain is Madrid. But France is definitely Paris. Maybe I should mention that Paris is also the seat of the French government, including the presidential palace and the parliament. Also, it's home to many important institutions and has a rich history. \\n\\nI should make sure there's no confusion with other French cities. For instance, some might think of Avignon or Versailles, but those aren't capitals. Versailles is a famous palace, but it's not the capital. Also, historically, the capital has changed a few times, but Paris has been the capital since the 13th century. \\n\\nSo, the answer is Paris. I should state that clearly and perhaps add a bit of context to reinforce why it's correct.\\n</think>\\n\\nThe capital of France is **Paris**. It is the political, cultural, and economic heart of the country, home to key institutions such as the French government, the Eiffel Tower, and numerous historical landmarks. Paris has served as the capital since the 13th century and remains the largest and most significant city in France.\""
      ]
     },
     "execution_count": 5,
     "metadata": {},
     "output_type": "execute_result"
    }
   ],
   "source": [
    "from langchain_openai import ChatOpenAI\n",
    "llm = ChatOpenAI(\n",
    "    model = \"qwen3:4b\",\n",
    "    base_url=\"http://localhost:11434/v1\",\n",
    "    api_key=\"ollama\",\n",
    ")\n",
    "from langchain_core.messages import HumanMessage\n",
    "response = llm.invoke([\n",
    "    HumanMessage(content=\"What's the capital of France?\")\n",
    "])\n",
    "response.content"
   ]
  },
  {
   "cell_type": "markdown",
   "id": "a4cab648",
   "metadata": {},
   "source": [
    "# OpenRouter"
   ]
  },
  {
   "cell_type": "code",
   "execution_count": null,
   "id": "736de7b4",
   "metadata": {},
   "outputs": [
    {
     "name": "stdout",
     "output_type": "stream",
     "text": [
      "The capital of France is **Paris**. It is a major city in Europe and is known for its iconic landmarks such as the Eiffel Tower, the Louvre Museum, and Notre-Dame Cathedral. Paris serves as the political, economic, and cultural center of France.\n"
     ]
    }
   ],
   "source": [
    "from langchain_openai import ChatOpenAI\n",
    "llm = ChatOpenAI(\n",
    "    model = \"qwen/qwen3-30b-a3b:free\", #\"qwen/qwen3-4b:free\",\n",
    "    base_url=\"https://openrouter.ai/api/v1\",\n",
    "    api_key=api_key,\n",
    ")\n",
    "from langchain_core.messages import HumanMessage\n",
    "response = llm.invoke([\n",
    "    HumanMessage(content=\"What's the capital of France?\")\n",
    "])\n",
    "print(response.content)"
   ]
  },
  {
   "cell_type": "code",
   "execution_count": 3,
   "id": "6e29ff29",
   "metadata": {},
   "outputs": [
    {
     "name": "stdout",
     "output_type": "stream",
     "text": [
      "한국의 수도는 **서울(Seoul)**입니다. 서구는 대한민국의 정치, 경제, 문화 중심지로, 국회의사당, 대통령실, 세종문화Hall 등 중요한 기관들이 위치해 있습니다. 또한, 서울은 빅데이터, 기술, 문화, 관광 명소로 유명하며 세계적인 도시로 발전하고 있는 편입니다. 주요 도시로는 부산(Busan), 인천(Incheon), 대구(Daegu) 등도 있지만, 정치적 권력과 중심 역할을 맡고 있는 곳은 서울입니다.\n"
     ]
    }
   ],
   "source": [
    "from openai import OpenAI\n",
    "\n",
    "client = OpenAI(\n",
    "  base_url=\"https://openrouter.ai/api/v1\",\n",
    "  api_key=api_key,\n",
    ")\n",
    "\n",
    "completion = client.chat.completions.create(\n",
    "  # extra_headers={\n",
    "  #   \"HTTP-Referer\": \"<YOUR_SITE_URL>\", # Optional. Site URL for rankings on openrouter.ai.\n",
    "  #   \"X-Title\": \"<YOUR_SITE_NAME>\", # Optional. Site title for rankings on openrouter.ai.\n",
    "  # },\n",
    "  extra_body={},\n",
    "  model=\"qwen/qwen3-4b:free\",\n",
    "  messages=[\n",
    "    {\n",
    "      \"role\": \"user\",\n",
    "      \"content\": \"한국의 수도\"\n",
    "    }\n",
    "  ]\n",
    ")\n",
    "print(completion.choices[0].message.content)"
   ]
  },
  {
   "cell_type": "markdown",
   "id": "421c7fde",
   "metadata": {},
   "source": [
    "# Groq"
   ]
  },
  {
   "cell_type": "code",
   "execution_count": null,
   "id": "9e56b26d",
   "metadata": {},
   "outputs": [
    {
     "data": {
      "text/plain": [
       "'The capital of France is Paris.'"
      ]
     },
     "execution_count": 7,
     "metadata": {},
     "output_type": "execute_result"
    }
   ],
   "source": [
    "from langchain_groq import ChatGroq\n",
    "llm = ChatGroq(model=\"llama-3.3-70b-versatile\", temperature=0,max_tokens=3000,) # \"gemma2-9b-it\", qwen-qwq-32b\n",
    "from langchain_core.messages import HumanMessage\n",
    "response = llm.invoke([\n",
    "    HumanMessage(content=\"What's the capital of France?\")\n",
    "])\n",
    "response.content"
   ]
  },
  {
   "cell_type": "code",
   "execution_count": null,
   "id": "042b7561",
   "metadata": {},
   "outputs": [],
   "source": []
  }
 ],
 "metadata": {
  "kernelspec": {
   "display_name": ".venv",
   "language": "python",
   "name": "python3"
  },
  "language_info": {
   "codemirror_mode": {
    "name": "ipython",
    "version": 3
   },
   "file_extension": ".py",
   "mimetype": "text/x-python",
   "name": "python",
   "nbconvert_exporter": "python",
   "pygments_lexer": "ipython3",
   "version": "3.12.6"
  }
 },
 "nbformat": 4,
 "nbformat_minor": 5
}
