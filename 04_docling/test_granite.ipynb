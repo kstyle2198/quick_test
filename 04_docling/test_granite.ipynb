{
 "cells": [
  {
   "cell_type": "code",
   "execution_count": 2,
   "id": "3c756992",
   "metadata": {},
   "outputs": [
    {
     "name": "stderr",
     "output_type": "stream",
     "text": [
      "d:\\AI_PROJECT\\quick_test\\.venv\\Lib\\site-packages\\tqdm\\auto.py:21: TqdmWarning: IProgress not found. Please update jupyter and ipywidgets. See https://ipywidgets.readthedocs.io/en/stable/user_install.html\n",
      "  from .autonotebook import tqdm as notebook_tqdm\n"
     ]
    }
   ],
   "source": [
    "import logging\n",
    "import os\n",
    "from pathlib import Path\n",
    "import requests\n",
    "from dotenv import load_dotenv\n",
    "from docling.datamodel.base_models import InputFormat\n",
    "from docling.datamodel.pipeline_options import (\n",
    "    ApiVlmOptions,\n",
    "    ResponseFormat,\n",
    "    VlmPipelineOptions,\n",
    ")\n",
    "from docling.document_converter import DocumentConverter, PdfFormatOption\n",
    "from docling.pipeline.vlm_pipeline import VlmPipeline\n",
    "from io import BytesIO\n",
    "from PIL import Image"
   ]
  },
  {
   "cell_type": "code",
   "execution_count": 3,
   "id": "d6206378",
   "metadata": {},
   "outputs": [],
   "source": [
    "def ollama_vlm_options(model: str, prompt: str):\n",
    "    options = ApiVlmOptions(\n",
    "        url=\"http://localhost:11434/v1/chat/completions\",  # the default Ollama endpoint\n",
    "        params=dict(\n",
    "            model=model,\n",
    "        ),\n",
    "        prompt=prompt,\n",
    "        timeout=300,  # Increased timeout to 300 seconds\n",
    "        scale=1.0,\n",
    "        response_format=ResponseFormat.MARKDOWN,\n",
    "    )\n",
    "    return options"
   ]
  },
  {
   "cell_type": "code",
   "execution_count": 4,
   "id": "53cdf57f",
   "metadata": {},
   "outputs": [],
   "source": [
    "logger = logging.getLogger(__name__)  # Get the logger"
   ]
  },
  {
   "cell_type": "code",
   "execution_count": 1,
   "id": "1ce589fe",
   "metadata": {},
   "outputs": [],
   "source": [
    "# def api_image_request(url: str, prompt: str, image_data: bytes, timeout: int) -> str:\n",
    "#     \"\"\"\n",
    "#     Sends an image and prompt to a VLM API and returns the text response.\n",
    "\n",
    "#     Args:\n",
    "#         url: The URL of the VLM API endpoint.\n",
    "#         prompt: The text prompt to send with the image.\n",
    "#         image_data: The image data as bytes.\n",
    "#         timeout: The timeout for the request in seconds.\n",
    "\n",
    "#     Returns:\n",
    "#         The text response from the API.\n",
    "\n",
    "#     Raises:\n",
    "#         requests.exceptions.HTTPError: If the API returns an HTTP error.\n",
    "#         Exception: For other errors during the API call.\n",
    "#     \"\"\"\n",
    "#     try:\n",
    "#         logger.debug(f\"api_image_request: Sending request to URL: {url}\")  # Log URL\n",
    "#         logger.debug(f\"api_image_request: Prompt: {prompt[:50]}...\")  # Log first 50 chars of prompt\n",
    "#         logger.debug(f\"api_image_request: Image data length: {len(image_data)} bytes\")  # Log image size\n",
    "\n",
    "#         r = requests.post(\n",
    "#             url,\n",
    "#             headers={\"Content-Type\": \"multipart/form-data\"},\n",
    "#             files={\n",
    "#                 \"image\": (\"image.jpg\", image_data, \"image/jpeg\"),\n",
    "#                 \"prompt\": (None, prompt),\n",
    "#             },\n",
    "#             timeout=timeout,\n",
    "#         )\n",
    "\n",
    "#         logger.debug(f\"api_image_request: Response status code: {r.status_code}\")  # Log status code\n",
    "#         logger.debug(f\"api_image_request: Response text: {r.text[:100]}...\")  # Log first 100 chars of response\n",
    "\n",
    "#         r.raise_for_status()\n",
    "#         return r.text\n",
    "#     except requests.exceptions.HTTPError as e:\n",
    "#         logger.error(f\"api_image_request: HTTPError: {e}, Response text: {e.response.text}\")\n",
    "#         raise e\n",
    "#     except Exception as e:\n",
    "#         logger.error(f\"api_image_request: Exception: {e}\")\n",
    "#         raise e"
   ]
  },
  {
   "cell_type": "code",
   "execution_count": 10,
   "id": "bbffe0f0",
   "metadata": {},
   "outputs": [],
   "source": [
    "def main(path:str):\n",
    "    logging.basicConfig(level=logging.INFO)\n",
    "    input_doc_path = Path(path)\n",
    "    output_file_path = Path(\"output.md\")  # Define the output file\n",
    "\n",
    "    pipeline_options = VlmPipelineOptions(\n",
    "        enable_remote_services=True\n",
    "    )\n",
    "\n",
    "    pipeline_options.vlm_options = ollama_vlm_options(\n",
    "        model=\"granite3.2-vision:latest\",\n",
    "        prompt=\"OCR the full page to markdown.\",\n",
    "    )\n",
    "\n",
    "    doc_converter = DocumentConverter(\n",
    "        format_options={\n",
    "            InputFormat.PDF: PdfFormatOption(\n",
    "                pipeline_options=pipeline_options,\n",
    "                pipeline_cls=VlmPipeline,\n",
    "            )\n",
    "        }\n",
    "    )\n",
    "    try:\n",
    "        result = doc_converter.convert(input_doc_path)\n",
    "        markdown_content = result.document.export_to_markdown()\n",
    "        print(markdown_content)\n",
    "\n",
    "        # Write the markdown content to a file\n",
    "        with open(output_file_path, \"w\", encoding=\"utf-8\") as f:\n",
    "            f.write(markdown_content)\n",
    "        logging.info(f\"Markdown output written to {output_file_path}\")\n",
    "    except Exception as e:\n",
    "        logging.error(f\"An error occurred: {e}\")  # catch any error\n",
    "        print(f\"An error occurred: {e}\")"
   ]
  },
  {
   "cell_type": "code",
   "execution_count": 12,
   "id": "feef4be5",
   "metadata": {},
   "outputs": [
    {
     "name": "stderr",
     "output_type": "stream",
     "text": [
      "INFO:docling.document_converter:Going to convert document batch...\n",
      "INFO:docling.document_converter:Initializing pipeline for StandardPdfPipeline with options hash 70041f74270850b7bedf7c8f5c2dcede\n",
      "INFO:docling.utils.accelerator_utils:Accelerator device: 'cpu'\n",
      "INFO:docling.utils.accelerator_utils:Accelerator device: 'cpu'\n",
      "INFO:docling.utils.accelerator_utils:Accelerator device: 'cpu'\n",
      "INFO:docling.pipeline.base_pipeline:Processing document invoce_01.png\n",
      "INFO:docling.document_converter:Finished converting document invoce_01.png in 48.70 sec.\n",
      "INFO:root:Markdown output written to output.md\n"
     ]
    },
    {
     "name": "stdout",
     "output_type": "stream",
     "text": [
      "## Sample Invoice @ Click to edit\n",
      "\n",
      "YOUR COMPANY\n",
      "\n",
      "1234 Your Street California 90210 United States 1-888-123-4567 City,\n",
      "\n",
      "Billed To\n",
      "\n",
      "Date |ssued\n",
      "\n",
      "Invoice Number\n",
      "\n",
      "Amount Due\n",
      "\n",
      "Your Client 1234 Clients Street City, California 90210 United States 1-888-123-8910\n",
      "\n",
      "26/3/2021\n",
      "\n",
      "INV-10012\n",
      "\n",
      "$1,699.48\n",
      "\n",
      "Due Date\n",
      "\n",
      "25/4/2021\n",
      "\n",
      "| DESCRIPTION                                    | RATE              | QTY   | AMOUNT    |\n",
      "|------------------------------------------------|-------------------|-------|-----------|\n",
      "| Services                                       | 555.00            | 10    | 5550.00   |\n",
      "| Cost ofvarious services                        | #Tax              |       |           |\n",
      "| Consulting                                     | 57500             | 15    |           |\n",
      "| Consultant for your business.                  | +Tax              |       |           |\n",
      "| Materials                                      | 5123.39           |       | 5123.39   |\n",
      "| Costof materials and supplies to complete job. | #Tax              |       |           |\n",
      "|                                                | Subtotal          |       | $1,798.39 |\n",
      "|                                                | Discount          |       |           |\n",
      "|                                                | Tax               |       | +880.93   |\n",
      "|                                                | Total             |       | $1,699.48 |\n",
      "|                                                | Deposit Requested |       | 5169.95   |\n",
      "|                                                | Deposit Due       |       |           |\n",
      "\n",
      "Notes\n",
      "\n",
      "Thank you for your business!\n",
      "\n",
      "Terms\n",
      "\n",
      "Please pay within 30 days using the link in your invoice email.\n"
     ]
    }
   ],
   "source": [
    "path = \"C:/Users/jongb/Desktop/임시/invoce_01.png\"\n",
    "result = main(path=path)\n",
    "result\n"
   ]
  },
  {
   "cell_type": "code",
   "execution_count": null,
   "id": "25de65ba",
   "metadata": {},
   "outputs": [],
   "source": []
  }
 ],
 "metadata": {
  "kernelspec": {
   "display_name": ".venv",
   "language": "python",
   "name": "python3"
  },
  "language_info": {
   "codemirror_mode": {
    "name": "ipython",
    "version": 3
   },
   "file_extension": ".py",
   "mimetype": "text/x-python",
   "name": "python",
   "nbconvert_exporter": "python",
   "pygments_lexer": "ipython3",
   "version": "3.12.6"
  }
 },
 "nbformat": 4,
 "nbformat_minor": 5
}
