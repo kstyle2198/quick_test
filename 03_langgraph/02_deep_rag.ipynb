{
 "cells": [
  {
   "cell_type": "code",
   "execution_count": 1,
   "id": "c050eac7",
   "metadata": {},
   "outputs": [],
   "source": [
    "import os\n",
    "from dotenv import load_dotenv\n",
    "load_dotenv(override=True)\n",
    "api_key=os.environ.get(\"openrouter_api_key\")"
   ]
  },
  {
   "cell_type": "code",
   "execution_count": 2,
   "id": "7c4bcf21",
   "metadata": {},
   "outputs": [
    {
     "data": {
      "text/plain": [
       "ChatOpenAI(client=<openai.resources.chat.completions.completions.Completions object at 0x000002631CEE3950>, async_client=<openai.resources.chat.completions.completions.AsyncCompletions object at 0x000002631CF02240>, root_client=<openai.OpenAI object at 0x000002631CCF16A0>, root_async_client=<openai.AsyncOpenAI object at 0x000002631CEE39B0>, model_name='qwen/qwen3-14b:free', model_kwargs={}, openai_api_key=SecretStr('**********'), openai_api_base='https://openrouter.ai/api/v1')"
      ]
     },
     "execution_count": 2,
     "metadata": {},
     "output_type": "execute_result"
    }
   ],
   "source": [
    "from langchain_openai import ChatOpenAI\n",
    "llm = ChatOpenAI(\n",
    "    model = \"qwen/qwen3-14b:free\", # \"qwen/qwen3-14b:free\", \"qwen/qwen3-30b-a3b:free\",\n",
    "    base_url=\"https://openrouter.ai/api/v1\",\n",
    "    api_key=api_key,\n",
    "    )\n",
    "llm\n",
    "# from langchain_groq import ChatGroq\n",
    "# llm = ChatGroq(model=\"llama-3.3-70b-versatile\", temperature=0,max_tokens=3000,) # \"gemma2-9b-it\", qwen-qwq-32b\n",
    "# llm"
   ]
  },
  {
   "cell_type": "code",
   "execution_count": 3,
   "id": "6acf6ee8-163f-4d50-b325-286c5c7810ba",
   "metadata": {},
   "outputs": [
    {
     "data": {
      "text/plain": [
       "<langchain_elasticsearch.vectorstores.ElasticsearchStore at 0x2631ce62090>"
      ]
     },
     "execution_count": 3,
     "metadata": {},
     "output_type": "execute_result"
    }
   ],
   "source": [
    "from typing import Union, List\n",
    "from langchain_ollama import OllamaEmbeddings\n",
    "from langchain_elasticsearch import ElasticsearchStore, DenseVectorStrategy\n",
    "\n",
    "def load_elastic_vectorstore(index_names: Union[str, List[str]]):\n",
    "    # 단일 문자열인 경우 리스트로 변환\n",
    "    if isinstance(index_names, str):\n",
    "        index_names = [index_names]\n",
    "    \n",
    "    vector_store = ElasticsearchStore(\n",
    "        index_name=index_names, \n",
    "        embedding=OllamaEmbeddings(\n",
    "            base_url=\"http://localhost:11434\", \n",
    "            model=\"bge-m3:latest\"\n",
    "        ), \n",
    "        es_url=\"http://localhost:9200\",\n",
    "        es_user=\"Kstyle\",\n",
    "        es_password=\"12345\",\n",
    "    )\n",
    "    return vector_store\n",
    "\n",
    "\n",
    "index_names = [\"ship_safety\"]\n",
    "vector_store = load_elastic_vectorstore(index_names=index_names)\n",
    "vector_store"
   ]
  },
  {
   "cell_type": "code",
   "execution_count": null,
   "id": "bfeaa10b-3458-4245-968c-3890256eb64d",
   "metadata": {},
   "outputs": [
    {
     "name": "stderr",
     "output_type": "stream",
     "text": [
      "d:\\AI_PROJECT\\quick_test\\.venv\\Lib\\site-packages\\tqdm\\auto.py:21: TqdmWarning: IProgress not found. Please update jupyter and ipywidgets. See https://ipywidgets.readthedocs.io/en/stable/user_install.html\n",
      "  from .autonotebook import tqdm as notebook_tqdm\n"
     ]
    },
    {
     "data": {
      "text/plain": [
       "<FlagEmbedding.inference.reranker.encoder_only.base.BaseReranker at 0x2631cdbe240>"
      ]
     },
     "execution_count": 4,
     "metadata": {},
     "output_type": "execute_result"
    }
   ],
   "source": [
    "from FlagEmbedding import FlagReranker\n",
    "reranking_model_path = \"D:/LLMs/bge-reranker-v2-m3\"\n",
    "reranker = FlagReranker(model_name_or_path=reranking_model_path, \n",
    "                        use_fp16=True,\n",
    "                        batch_size=512,\n",
    "                        max_length=2048,\n",
    "                        normalize=True)\n",
    "reranker"
   ]
  },
  {
   "cell_type": "markdown",
   "id": "a3781699",
   "metadata": {},
   "source": [
    "# Planning"
   ]
  },
  {
   "cell_type": "code",
   "execution_count": 5,
   "id": "53d2cc40",
   "metadata": {},
   "outputs": [],
   "source": [
    "from typing import Annotated, List, TypedDict, Literal\n",
    "from pydantic import BaseModel, Field\n",
    "import operator\n",
    "\n",
    "class SearchQuery(BaseModel):\n",
    "    search_query: str = Field(None, description=\"Query for web search.\")\n",
    "\n",
    "class Queries(BaseModel):\n",
    "    queries: List[SearchQuery] = Field(description=\"List of search queries.\",)\n",
    "\n",
    "class Section(BaseModel):\n",
    "    name: str = Field(description=\"Name for this section of the report.\",)\n",
    "    description: str = Field(description=\"Brief overview of the main topics and concepts to be covered in this section.\",)\n",
    "    research: bool = Field(description=\"Whether to perform web research for this section of the report.\")\n",
    "    content: str = Field(description=\"The content of the section.\")   \n",
    "\n",
    "class ReportState(TypedDict):\n",
    "    topic: str # Report topic    \n",
    "    feedback_on_report_plan: str # Feedback on the report plan\n",
    "    sections: list[Section] # List of report sections \n",
    "    completed_sections: Annotated[list, operator.add] # Send() API key\n",
    "    report_sections_from_research: str # String of any completed sections from research to write final sections\n",
    "    final_report: str # Final report\n",
    "    index_names:list\n",
    "    k:int"
   ]
  },
  {
   "cell_type": "code",
   "execution_count": 6,
   "id": "cbc5278b",
   "metadata": {},
   "outputs": [],
   "source": [
    "report_planner_query_writer_instructions=\"\"\"당신은 보고서를 위한 조사를 수행하고 있습니다.. \n",
    "\n",
    "<Report topic>\n",
    "{topic}\n",
    "</Report topic>\n",
    "\n",
    "<Report organization>\n",
    "{report_organization}\n",
    "</Report organization>\n",
    "\n",
    "<Task>\n",
    "당신의 목표는 보고서의 각 섹션을 계획하는 데 도움이 될 수 있는 웹 검색 쿼리 {number_of_queries}개를 생성하는 것입니다.\n",
    "생성된 쿼리는 다음 조건을 만족해야 합니다:\n",
    "\n",
    "    - 보고서 주제와 관련이 있어야 합니다.\n",
    "    - 보고서 구성에 명시된 요구사항을 충족하는 데 도움이 되어야 합니다.\n",
    "\n",
    "검색 쿼리는 고품질의 관련 자료를 찾을 수 있을 정도로 구체적이어야 하며, 동시에 보고서 구조 전반을 아우를 수 있도록 폭넓게 다루어야 합니다.\n",
    "</Task>\n",
    "\n",
    "<Format>\n",
    "Queries 도구를 호출하세요\n",
    "</Format>\n",
    "\"\"\"\n",
    "\n",
    "\n",
    "DEFAULT_REPORT_STRUCTURE = \"\"\"다음 구조를 사용하여 사용자가 제공한 주제에 대한 보고서를 작성하세요:\n",
    "\n",
    "1. 서론 (조사 불필요)\n",
    "\n",
    "    - 주제 영역에 대한 간략한 개요\n",
    "\n",
    "2. 본론\n",
    "\n",
    "    - 각 본론 항목은 사용자가 제공한 주제의 하위 주제에 초점을 맞춰야 함\n",
    "\n",
    "3. 결론\n",
    "\n",
    "    - 본론 내용을 요약하는 구조적 요소 1개 포함 (목록 또는 표 중 하나)\n",
    "    - 보고서의 간결한 요약 제공\"\"\"\n",
    "\n",
    "topic = \"최근 판례 동향을 고려한, 사고 유형별 중대재해 예방 대책\"\n",
    "\n",
    "number_of_queries = 2"
   ]
  },
  {
   "cell_type": "code",
   "execution_count": 7,
   "id": "fecb1c6b",
   "metadata": {
    "scrolled": true
   },
   "outputs": [
    {
     "name": "stdout",
     "output_type": "stream",
     "text": [
      "당신은 보고서를 위한 조사를 수행하고 있습니다.. \n",
      "\n",
      "<Report topic>\n",
      "최근 판례 동향을 고려한, 사고 유형별 중대재해 예방 대책\n",
      "</Report topic>\n",
      "\n",
      "<Report organization>\n",
      "다음 구조를 사용하여 사용자가 제공한 주제에 대한 보고서를 작성하세요:\n",
      "\n",
      "1. 서론 (조사 불필요)\n",
      "\n",
      "    - 주제 영역에 대한 간략한 개요\n",
      "\n",
      "2. 본론\n",
      "\n",
      "    - 각 본론 항목은 사용자가 제공한 주제의 하위 주제에 초점을 맞춰야 함\n",
      "\n",
      "3. 결론\n",
      "\n",
      "    - 본론 내용을 요약하는 구조적 요소 1개 포함 (목록 또는 표 중 하나)\n",
      "    - 보고서의 간결한 요약 제공\n",
      "</Report organization>\n",
      "\n",
      "<Task>\n",
      "당신의 목표는 보고서의 각 섹션을 계획하는 데 도움이 될 수 있는 웹 검색 쿼리 2개를 생성하는 것입니다.\n",
      "생성된 쿼리는 다음 조건을 만족해야 합니다:\n",
      "\n",
      "    - 보고서 주제와 관련이 있어야 합니다.\n",
      "    - 보고서 구성에 명시된 요구사항을 충족하는 데 도움이 되어야 합니다.\n",
      "\n",
      "검색 쿼리는 고품질의 관련 자료를 찾을 수 있을 정도로 구체적이어야 하며, 동시에 보고서 구조 전반을 아우를 수 있도록 폭넓게 다루어야 합니다.\n",
      "</Task>\n",
      "\n",
      "<Format>\n",
      "Queries 도구를 호출하세요\n",
      "</Format>\n",
      "\n"
     ]
    }
   ],
   "source": [
    "system_instructions_query = report_planner_query_writer_instructions.format(topic=topic, report_organization=DEFAULT_REPORT_STRUCTURE, number_of_queries=number_of_queries)\n",
    "print(system_instructions_query)"
   ]
  },
  {
   "cell_type": "code",
   "execution_count": 8,
   "id": "a9eb5abe",
   "metadata": {},
   "outputs": [
    {
     "data": {
      "text/plain": [
       "RunnableBinding(bound=ChatOpenAI(client=<openai.resources.chat.completions.completions.Completions object at 0x000002631CEE3950>, async_client=<openai.resources.chat.completions.completions.AsyncCompletions object at 0x000002631CF02240>, root_client=<openai.OpenAI object at 0x000002631CCF16A0>, root_async_client=<openai.AsyncOpenAI object at 0x000002631CEE39B0>, model_name='qwen/qwen3-14b:free', model_kwargs={}, openai_api_key=SecretStr('**********'), openai_api_base='https://openrouter.ai/api/v1'), kwargs={'response_format': <class '__main__.Queries'>, 'ls_structured_output_format': {'kwargs': {'method': 'json_schema', 'strict': None}, 'schema': {'type': 'function', 'function': {'name': 'Queries', 'description': '', 'parameters': {'properties': {'queries': {'description': 'List of search queries.', 'items': {'properties': {'search_query': {'default': None, 'description': 'Query for web search.', 'type': 'string'}}, 'type': 'object'}, 'type': 'array'}}, 'required': ['queries'], 'type': 'object'}}}}}, config={}, config_factories=[])\n",
       "| RunnableBinding(bound=RunnableLambda(...), kwargs={}, config={}, config_factories=[], custom_output_type=<class '__main__.Queries'>)"
      ]
     },
     "execution_count": 8,
     "metadata": {},
     "output_type": "execute_result"
    }
   ],
   "source": [
    "structured_llm = llm.with_structured_output(Queries)\n",
    "structured_llm"
   ]
  },
  {
   "cell_type": "code",
   "execution_count": 10,
   "id": "c86bc547",
   "metadata": {
    "scrolled": true
   },
   "outputs": [
    {
     "ename": "ValidationError",
     "evalue": "1 validation error for Queries\n  Invalid JSON: expected value at line 1 column 1 [type=json_invalid, input_value='Queries\\n1. \"최근 중... 법규 개선 사례\"', input_type=str]\n    For further information visit https://errors.pydantic.dev/2.11/v/json_invalid",
     "output_type": "error",
     "traceback": [
      "\u001b[31m---------------------------------------------------------------------------\u001b[39m",
      "\u001b[31mValidationError\u001b[39m                           Traceback (most recent call last)",
      "\u001b[36mCell\u001b[39m\u001b[36m \u001b[39m\u001b[32mIn[10]\u001b[39m\u001b[32m, line 2\u001b[39m\n\u001b[32m      1\u001b[39m \u001b[38;5;28;01mfrom\u001b[39;00m\u001b[38;5;250m \u001b[39m\u001b[34;01mlangchain_core\u001b[39;00m\u001b[34;01m.\u001b[39;00m\u001b[34;01mmessages\u001b[39;00m\u001b[38;5;250m \u001b[39m\u001b[38;5;28;01mimport\u001b[39;00m HumanMessage, SystemMessage\n\u001b[32m----> \u001b[39m\u001b[32m2\u001b[39m results = \u001b[43mstructured_llm\u001b[49m\u001b[43m.\u001b[49m\u001b[43minvoke\u001b[49m\u001b[43m(\u001b[49m\u001b[43m[\u001b[49m\u001b[43mSystemMessage\u001b[49m\u001b[43m(\u001b[49m\u001b[43mcontent\u001b[49m\u001b[43m=\u001b[49m\u001b[43msystem_instructions_query\u001b[49m\u001b[43m)\u001b[49m\u001b[43m,\u001b[49m\n\u001b[32m      3\u001b[39m \u001b[43m                                 \u001b[49m\u001b[43mHumanMessage\u001b[49m\u001b[43m(\u001b[49m\u001b[43mcontent\u001b[49m\u001b[43m=\u001b[49m\u001b[33;43m\"\u001b[39;49m\u001b[33;43m보고서의 섹션을 계획하는 데 도움이 되는 검색 쿼리를 생성합니다.\u001b[39;49m\u001b[33;43m\"\u001b[39;49m\u001b[43m)\u001b[49m\u001b[43m]\u001b[49m\u001b[43m)\u001b[49m\n\u001b[32m      4\u001b[39m \u001b[38;5;28mprint\u001b[39m(results)\n",
      "\u001b[36mFile \u001b[39m\u001b[32md:\\AI_PROJECT\\quick_test\\.venv\\Lib\\site-packages\\langchain_core\\runnables\\base.py:3032\u001b[39m, in \u001b[36mRunnableSequence.invoke\u001b[39m\u001b[34m(self, input, config, **kwargs)\u001b[39m\n\u001b[32m   3030\u001b[39m \u001b[38;5;28;01mwith\u001b[39;00m set_config_context(config) \u001b[38;5;28;01mas\u001b[39;00m context:\n\u001b[32m   3031\u001b[39m     \u001b[38;5;28;01mif\u001b[39;00m i == \u001b[32m0\u001b[39m:\n\u001b[32m-> \u001b[39m\u001b[32m3032\u001b[39m         \u001b[38;5;28minput\u001b[39m = \u001b[43mcontext\u001b[49m\u001b[43m.\u001b[49m\u001b[43mrun\u001b[49m\u001b[43m(\u001b[49m\u001b[43mstep\u001b[49m\u001b[43m.\u001b[49m\u001b[43minvoke\u001b[49m\u001b[43m,\u001b[49m\u001b[43m \u001b[49m\u001b[38;5;28;43minput\u001b[39;49m\u001b[43m,\u001b[49m\u001b[43m \u001b[49m\u001b[43mconfig\u001b[49m\u001b[43m,\u001b[49m\u001b[43m \u001b[49m\u001b[43m*\u001b[49m\u001b[43m*\u001b[49m\u001b[43mkwargs\u001b[49m\u001b[43m)\u001b[49m\n\u001b[32m   3033\u001b[39m     \u001b[38;5;28;01melse\u001b[39;00m:\n\u001b[32m   3034\u001b[39m         \u001b[38;5;28minput\u001b[39m = context.run(step.invoke, \u001b[38;5;28minput\u001b[39m, config)\n",
      "\u001b[36mFile \u001b[39m\u001b[32md:\\AI_PROJECT\\quick_test\\.venv\\Lib\\site-packages\\langchain_core\\runnables\\base.py:5416\u001b[39m, in \u001b[36mRunnableBindingBase.invoke\u001b[39m\u001b[34m(self, input, config, **kwargs)\u001b[39m\n\u001b[32m   5409\u001b[39m \u001b[38;5;129m@override\u001b[39m\n\u001b[32m   5410\u001b[39m \u001b[38;5;28;01mdef\u001b[39;00m\u001b[38;5;250m \u001b[39m\u001b[34minvoke\u001b[39m(\n\u001b[32m   5411\u001b[39m     \u001b[38;5;28mself\u001b[39m,\n\u001b[32m   (...)\u001b[39m\u001b[32m   5414\u001b[39m     **kwargs: Optional[Any],\n\u001b[32m   5415\u001b[39m ) -> Output:\n\u001b[32m-> \u001b[39m\u001b[32m5416\u001b[39m     \u001b[38;5;28;01mreturn\u001b[39;00m \u001b[38;5;28;43mself\u001b[39;49m\u001b[43m.\u001b[49m\u001b[43mbound\u001b[49m\u001b[43m.\u001b[49m\u001b[43minvoke\u001b[49m\u001b[43m(\u001b[49m\n\u001b[32m   5417\u001b[39m \u001b[43m        \u001b[49m\u001b[38;5;28;43minput\u001b[39;49m\u001b[43m,\u001b[49m\n\u001b[32m   5418\u001b[39m \u001b[43m        \u001b[49m\u001b[38;5;28;43mself\u001b[39;49m\u001b[43m.\u001b[49m\u001b[43m_merge_configs\u001b[49m\u001b[43m(\u001b[49m\u001b[43mconfig\u001b[49m\u001b[43m)\u001b[49m\u001b[43m,\u001b[49m\n\u001b[32m   5419\u001b[39m \u001b[43m        \u001b[49m\u001b[43m*\u001b[49m\u001b[43m*\u001b[49m\u001b[43m{\u001b[49m\u001b[43m*\u001b[49m\u001b[43m*\u001b[49m\u001b[38;5;28;43mself\u001b[39;49m\u001b[43m.\u001b[49m\u001b[43mkwargs\u001b[49m\u001b[43m,\u001b[49m\u001b[43m \u001b[49m\u001b[43m*\u001b[49m\u001b[43m*\u001b[49m\u001b[43mkwargs\u001b[49m\u001b[43m}\u001b[49m\u001b[43m,\u001b[49m\n\u001b[32m   5420\u001b[39m \u001b[43m    \u001b[49m\u001b[43m)\u001b[49m\n",
      "\u001b[36mFile \u001b[39m\u001b[32md:\\AI_PROJECT\\quick_test\\.venv\\Lib\\site-packages\\langchain_core\\language_models\\chat_models.py:370\u001b[39m, in \u001b[36mBaseChatModel.invoke\u001b[39m\u001b[34m(self, input, config, stop, **kwargs)\u001b[39m\n\u001b[32m    358\u001b[39m \u001b[38;5;129m@override\u001b[39m\n\u001b[32m    359\u001b[39m \u001b[38;5;28;01mdef\u001b[39;00m\u001b[38;5;250m \u001b[39m\u001b[34minvoke\u001b[39m(\n\u001b[32m    360\u001b[39m     \u001b[38;5;28mself\u001b[39m,\n\u001b[32m   (...)\u001b[39m\u001b[32m    365\u001b[39m     **kwargs: Any,\n\u001b[32m    366\u001b[39m ) -> BaseMessage:\n\u001b[32m    367\u001b[39m     config = ensure_config(config)\n\u001b[32m    368\u001b[39m     \u001b[38;5;28;01mreturn\u001b[39;00m cast(\n\u001b[32m    369\u001b[39m         \u001b[33m\"\u001b[39m\u001b[33mChatGeneration\u001b[39m\u001b[33m\"\u001b[39m,\n\u001b[32m--> \u001b[39m\u001b[32m370\u001b[39m         \u001b[38;5;28;43mself\u001b[39;49m\u001b[43m.\u001b[49m\u001b[43mgenerate_prompt\u001b[49m\u001b[43m(\u001b[49m\n\u001b[32m    371\u001b[39m \u001b[43m            \u001b[49m\u001b[43m[\u001b[49m\u001b[38;5;28;43mself\u001b[39;49m\u001b[43m.\u001b[49m\u001b[43m_convert_input\u001b[49m\u001b[43m(\u001b[49m\u001b[38;5;28;43minput\u001b[39;49m\u001b[43m)\u001b[49m\u001b[43m]\u001b[49m\u001b[43m,\u001b[49m\n\u001b[32m    372\u001b[39m \u001b[43m            \u001b[49m\u001b[43mstop\u001b[49m\u001b[43m=\u001b[49m\u001b[43mstop\u001b[49m\u001b[43m,\u001b[49m\n\u001b[32m    373\u001b[39m \u001b[43m            \u001b[49m\u001b[43mcallbacks\u001b[49m\u001b[43m=\u001b[49m\u001b[43mconfig\u001b[49m\u001b[43m.\u001b[49m\u001b[43mget\u001b[49m\u001b[43m(\u001b[49m\u001b[33;43m\"\u001b[39;49m\u001b[33;43mcallbacks\u001b[39;49m\u001b[33;43m\"\u001b[39;49m\u001b[43m)\u001b[49m\u001b[43m,\u001b[49m\n\u001b[32m    374\u001b[39m \u001b[43m            \u001b[49m\u001b[43mtags\u001b[49m\u001b[43m=\u001b[49m\u001b[43mconfig\u001b[49m\u001b[43m.\u001b[49m\u001b[43mget\u001b[49m\u001b[43m(\u001b[49m\u001b[33;43m\"\u001b[39;49m\u001b[33;43mtags\u001b[39;49m\u001b[33;43m\"\u001b[39;49m\u001b[43m)\u001b[49m\u001b[43m,\u001b[49m\n\u001b[32m    375\u001b[39m \u001b[43m            \u001b[49m\u001b[43mmetadata\u001b[49m\u001b[43m=\u001b[49m\u001b[43mconfig\u001b[49m\u001b[43m.\u001b[49m\u001b[43mget\u001b[49m\u001b[43m(\u001b[49m\u001b[33;43m\"\u001b[39;49m\u001b[33;43mmetadata\u001b[39;49m\u001b[33;43m\"\u001b[39;49m\u001b[43m)\u001b[49m\u001b[43m,\u001b[49m\n\u001b[32m    376\u001b[39m \u001b[43m            \u001b[49m\u001b[43mrun_name\u001b[49m\u001b[43m=\u001b[49m\u001b[43mconfig\u001b[49m\u001b[43m.\u001b[49m\u001b[43mget\u001b[49m\u001b[43m(\u001b[49m\u001b[33;43m\"\u001b[39;49m\u001b[33;43mrun_name\u001b[39;49m\u001b[33;43m\"\u001b[39;49m\u001b[43m)\u001b[49m\u001b[43m,\u001b[49m\n\u001b[32m    377\u001b[39m \u001b[43m            \u001b[49m\u001b[43mrun_id\u001b[49m\u001b[43m=\u001b[49m\u001b[43mconfig\u001b[49m\u001b[43m.\u001b[49m\u001b[43mpop\u001b[49m\u001b[43m(\u001b[49m\u001b[33;43m\"\u001b[39;49m\u001b[33;43mrun_id\u001b[39;49m\u001b[33;43m\"\u001b[39;49m\u001b[43m,\u001b[49m\u001b[43m \u001b[49m\u001b[38;5;28;43;01mNone\u001b[39;49;00m\u001b[43m)\u001b[49m\u001b[43m,\u001b[49m\n\u001b[32m    378\u001b[39m \u001b[43m            \u001b[49m\u001b[43m*\u001b[49m\u001b[43m*\u001b[49m\u001b[43mkwargs\u001b[49m\u001b[43m,\u001b[49m\n\u001b[32m    379\u001b[39m \u001b[43m        \u001b[49m\u001b[43m)\u001b[49m.generations[\u001b[32m0\u001b[39m][\u001b[32m0\u001b[39m],\n\u001b[32m    380\u001b[39m     ).message\n",
      "\u001b[36mFile \u001b[39m\u001b[32md:\\AI_PROJECT\\quick_test\\.venv\\Lib\\site-packages\\langchain_core\\language_models\\chat_models.py:947\u001b[39m, in \u001b[36mBaseChatModel.generate_prompt\u001b[39m\u001b[34m(self, prompts, stop, callbacks, **kwargs)\u001b[39m\n\u001b[32m    938\u001b[39m \u001b[38;5;129m@override\u001b[39m\n\u001b[32m    939\u001b[39m \u001b[38;5;28;01mdef\u001b[39;00m\u001b[38;5;250m \u001b[39m\u001b[34mgenerate_prompt\u001b[39m(\n\u001b[32m    940\u001b[39m     \u001b[38;5;28mself\u001b[39m,\n\u001b[32m   (...)\u001b[39m\u001b[32m    944\u001b[39m     **kwargs: Any,\n\u001b[32m    945\u001b[39m ) -> LLMResult:\n\u001b[32m    946\u001b[39m     prompt_messages = [p.to_messages() \u001b[38;5;28;01mfor\u001b[39;00m p \u001b[38;5;129;01min\u001b[39;00m prompts]\n\u001b[32m--> \u001b[39m\u001b[32m947\u001b[39m     \u001b[38;5;28;01mreturn\u001b[39;00m \u001b[38;5;28;43mself\u001b[39;49m\u001b[43m.\u001b[49m\u001b[43mgenerate\u001b[49m\u001b[43m(\u001b[49m\u001b[43mprompt_messages\u001b[49m\u001b[43m,\u001b[49m\u001b[43m \u001b[49m\u001b[43mstop\u001b[49m\u001b[43m=\u001b[49m\u001b[43mstop\u001b[49m\u001b[43m,\u001b[49m\u001b[43m \u001b[49m\u001b[43mcallbacks\u001b[49m\u001b[43m=\u001b[49m\u001b[43mcallbacks\u001b[49m\u001b[43m,\u001b[49m\u001b[43m \u001b[49m\u001b[43m*\u001b[49m\u001b[43m*\u001b[49m\u001b[43mkwargs\u001b[49m\u001b[43m)\u001b[49m\n",
      "\u001b[36mFile \u001b[39m\u001b[32md:\\AI_PROJECT\\quick_test\\.venv\\Lib\\site-packages\\langchain_core\\language_models\\chat_models.py:766\u001b[39m, in \u001b[36mBaseChatModel.generate\u001b[39m\u001b[34m(self, messages, stop, callbacks, tags, metadata, run_name, run_id, **kwargs)\u001b[39m\n\u001b[32m    763\u001b[39m \u001b[38;5;28;01mfor\u001b[39;00m i, m \u001b[38;5;129;01min\u001b[39;00m \u001b[38;5;28menumerate\u001b[39m(input_messages):\n\u001b[32m    764\u001b[39m     \u001b[38;5;28;01mtry\u001b[39;00m:\n\u001b[32m    765\u001b[39m         results.append(\n\u001b[32m--> \u001b[39m\u001b[32m766\u001b[39m             \u001b[38;5;28;43mself\u001b[39;49m\u001b[43m.\u001b[49m\u001b[43m_generate_with_cache\u001b[49m\u001b[43m(\u001b[49m\n\u001b[32m    767\u001b[39m \u001b[43m                \u001b[49m\u001b[43mm\u001b[49m\u001b[43m,\u001b[49m\n\u001b[32m    768\u001b[39m \u001b[43m                \u001b[49m\u001b[43mstop\u001b[49m\u001b[43m=\u001b[49m\u001b[43mstop\u001b[49m\u001b[43m,\u001b[49m\n\u001b[32m    769\u001b[39m \u001b[43m                \u001b[49m\u001b[43mrun_manager\u001b[49m\u001b[43m=\u001b[49m\u001b[43mrun_managers\u001b[49m\u001b[43m[\u001b[49m\u001b[43mi\u001b[49m\u001b[43m]\u001b[49m\u001b[43m \u001b[49m\u001b[38;5;28;43;01mif\u001b[39;49;00m\u001b[43m \u001b[49m\u001b[43mrun_managers\u001b[49m\u001b[43m \u001b[49m\u001b[38;5;28;43;01melse\u001b[39;49;00m\u001b[43m \u001b[49m\u001b[38;5;28;43;01mNone\u001b[39;49;00m\u001b[43m,\u001b[49m\n\u001b[32m    770\u001b[39m \u001b[43m                \u001b[49m\u001b[43m*\u001b[49m\u001b[43m*\u001b[49m\u001b[43mkwargs\u001b[49m\u001b[43m,\u001b[49m\n\u001b[32m    771\u001b[39m \u001b[43m            \u001b[49m\u001b[43m)\u001b[49m\n\u001b[32m    772\u001b[39m         )\n\u001b[32m    773\u001b[39m     \u001b[38;5;28;01mexcept\u001b[39;00m \u001b[38;5;167;01mBaseException\u001b[39;00m \u001b[38;5;28;01mas\u001b[39;00m e:\n\u001b[32m    774\u001b[39m         \u001b[38;5;28;01mif\u001b[39;00m run_managers:\n",
      "\u001b[36mFile \u001b[39m\u001b[32md:\\AI_PROJECT\\quick_test\\.venv\\Lib\\site-packages\\langchain_core\\language_models\\chat_models.py:1012\u001b[39m, in \u001b[36mBaseChatModel._generate_with_cache\u001b[39m\u001b[34m(self, messages, stop, run_manager, **kwargs)\u001b[39m\n\u001b[32m   1010\u001b[39m     result = generate_from_stream(\u001b[38;5;28miter\u001b[39m(chunks))\n\u001b[32m   1011\u001b[39m \u001b[38;5;28;01melif\u001b[39;00m inspect.signature(\u001b[38;5;28mself\u001b[39m._generate).parameters.get(\u001b[33m\"\u001b[39m\u001b[33mrun_manager\u001b[39m\u001b[33m\"\u001b[39m):\n\u001b[32m-> \u001b[39m\u001b[32m1012\u001b[39m     result = \u001b[38;5;28;43mself\u001b[39;49m\u001b[43m.\u001b[49m\u001b[43m_generate\u001b[49m\u001b[43m(\u001b[49m\n\u001b[32m   1013\u001b[39m \u001b[43m        \u001b[49m\u001b[43mmessages\u001b[49m\u001b[43m,\u001b[49m\u001b[43m \u001b[49m\u001b[43mstop\u001b[49m\u001b[43m=\u001b[49m\u001b[43mstop\u001b[49m\u001b[43m,\u001b[49m\u001b[43m \u001b[49m\u001b[43mrun_manager\u001b[49m\u001b[43m=\u001b[49m\u001b[43mrun_manager\u001b[49m\u001b[43m,\u001b[49m\u001b[43m \u001b[49m\u001b[43m*\u001b[49m\u001b[43m*\u001b[49m\u001b[43mkwargs\u001b[49m\n\u001b[32m   1014\u001b[39m \u001b[43m    \u001b[49m\u001b[43m)\u001b[49m\n\u001b[32m   1015\u001b[39m \u001b[38;5;28;01melse\u001b[39;00m:\n\u001b[32m   1016\u001b[39m     result = \u001b[38;5;28mself\u001b[39m._generate(messages, stop=stop, **kwargs)\n",
      "\u001b[36mFile \u001b[39m\u001b[32md:\\AI_PROJECT\\quick_test\\.venv\\Lib\\site-packages\\langchain_openai\\chat_models\\base.py:935\u001b[39m, in \u001b[36mBaseChatOpenAI._generate\u001b[39m\u001b[34m(self, messages, stop, run_manager, **kwargs)\u001b[39m\n\u001b[32m    933\u001b[39m payload.pop(\u001b[33m\"\u001b[39m\u001b[33mstream\u001b[39m\u001b[33m\"\u001b[39m)\n\u001b[32m    934\u001b[39m \u001b[38;5;28;01mtry\u001b[39;00m:\n\u001b[32m--> \u001b[39m\u001b[32m935\u001b[39m     response = \u001b[38;5;28;43mself\u001b[39;49m\u001b[43m.\u001b[49m\u001b[43mroot_client\u001b[49m\u001b[43m.\u001b[49m\u001b[43mbeta\u001b[49m\u001b[43m.\u001b[49m\u001b[43mchat\u001b[49m\u001b[43m.\u001b[49m\u001b[43mcompletions\u001b[49m\u001b[43m.\u001b[49m\u001b[43mparse\u001b[49m\u001b[43m(\u001b[49m\u001b[43m*\u001b[49m\u001b[43m*\u001b[49m\u001b[43mpayload\u001b[49m\u001b[43m)\u001b[49m\n\u001b[32m    936\u001b[39m \u001b[38;5;28;01mexcept\u001b[39;00m openai.BadRequestError \u001b[38;5;28;01mas\u001b[39;00m e:\n\u001b[32m    937\u001b[39m     _handle_openai_bad_request(e)\n",
      "\u001b[36mFile \u001b[39m\u001b[32md:\\AI_PROJECT\\quick_test\\.venv\\Lib\\site-packages\\openai\\resources\\beta\\chat\\completions.py:158\u001b[39m, in \u001b[36mCompletions.parse\u001b[39m\u001b[34m(self, messages, model, audio, response_format, frequency_penalty, function_call, functions, logit_bias, logprobs, max_completion_tokens, max_tokens, metadata, modalities, n, parallel_tool_calls, prediction, presence_penalty, reasoning_effort, seed, service_tier, stop, store, stream_options, temperature, tool_choice, tools, top_logprobs, top_p, user, web_search_options, extra_headers, extra_query, extra_body, timeout)\u001b[39m\n\u001b[32m    151\u001b[39m \u001b[38;5;28;01mdef\u001b[39;00m\u001b[38;5;250m \u001b[39m\u001b[34mparser\u001b[39m(raw_completion: ChatCompletion) -> ParsedChatCompletion[ResponseFormatT]:\n\u001b[32m    152\u001b[39m     \u001b[38;5;28;01mreturn\u001b[39;00m _parse_chat_completion(\n\u001b[32m    153\u001b[39m         response_format=response_format,\n\u001b[32m    154\u001b[39m         chat_completion=raw_completion,\n\u001b[32m    155\u001b[39m         input_tools=tools,\n\u001b[32m    156\u001b[39m     )\n\u001b[32m--> \u001b[39m\u001b[32m158\u001b[39m \u001b[38;5;28;01mreturn\u001b[39;00m \u001b[38;5;28;43mself\u001b[39;49m\u001b[43m.\u001b[49m\u001b[43m_post\u001b[49m\u001b[43m(\u001b[49m\n\u001b[32m    159\u001b[39m \u001b[43m    \u001b[49m\u001b[33;43m\"\u001b[39;49m\u001b[33;43m/chat/completions\u001b[39;49m\u001b[33;43m\"\u001b[39;49m\u001b[43m,\u001b[49m\n\u001b[32m    160\u001b[39m \u001b[43m    \u001b[49m\u001b[43mbody\u001b[49m\u001b[43m=\u001b[49m\u001b[43mmaybe_transform\u001b[49m\u001b[43m(\u001b[49m\n\u001b[32m    161\u001b[39m \u001b[43m        \u001b[49m\u001b[43m{\u001b[49m\n\u001b[32m    162\u001b[39m \u001b[43m            \u001b[49m\u001b[33;43m\"\u001b[39;49m\u001b[33;43mmessages\u001b[39;49m\u001b[33;43m\"\u001b[39;49m\u001b[43m:\u001b[49m\u001b[43m \u001b[49m\u001b[43mmessages\u001b[49m\u001b[43m,\u001b[49m\n\u001b[32m    163\u001b[39m \u001b[43m            \u001b[49m\u001b[33;43m\"\u001b[39;49m\u001b[33;43mmodel\u001b[39;49m\u001b[33;43m\"\u001b[39;49m\u001b[43m:\u001b[49m\u001b[43m \u001b[49m\u001b[43mmodel\u001b[49m\u001b[43m,\u001b[49m\n\u001b[32m    164\u001b[39m \u001b[43m            \u001b[49m\u001b[33;43m\"\u001b[39;49m\u001b[33;43maudio\u001b[39;49m\u001b[33;43m\"\u001b[39;49m\u001b[43m:\u001b[49m\u001b[43m \u001b[49m\u001b[43maudio\u001b[49m\u001b[43m,\u001b[49m\n\u001b[32m    165\u001b[39m \u001b[43m            \u001b[49m\u001b[33;43m\"\u001b[39;49m\u001b[33;43mfrequency_penalty\u001b[39;49m\u001b[33;43m\"\u001b[39;49m\u001b[43m:\u001b[49m\u001b[43m \u001b[49m\u001b[43mfrequency_penalty\u001b[49m\u001b[43m,\u001b[49m\n\u001b[32m    166\u001b[39m \u001b[43m            \u001b[49m\u001b[33;43m\"\u001b[39;49m\u001b[33;43mfunction_call\u001b[39;49m\u001b[33;43m\"\u001b[39;49m\u001b[43m:\u001b[49m\u001b[43m \u001b[49m\u001b[43mfunction_call\u001b[49m\u001b[43m,\u001b[49m\n\u001b[32m    167\u001b[39m \u001b[43m            \u001b[49m\u001b[33;43m\"\u001b[39;49m\u001b[33;43mfunctions\u001b[39;49m\u001b[33;43m\"\u001b[39;49m\u001b[43m:\u001b[49m\u001b[43m \u001b[49m\u001b[43mfunctions\u001b[49m\u001b[43m,\u001b[49m\n\u001b[32m    168\u001b[39m \u001b[43m            \u001b[49m\u001b[33;43m\"\u001b[39;49m\u001b[33;43mlogit_bias\u001b[39;49m\u001b[33;43m\"\u001b[39;49m\u001b[43m:\u001b[49m\u001b[43m \u001b[49m\u001b[43mlogit_bias\u001b[49m\u001b[43m,\u001b[49m\n\u001b[32m    169\u001b[39m \u001b[43m            \u001b[49m\u001b[33;43m\"\u001b[39;49m\u001b[33;43mlogprobs\u001b[39;49m\u001b[33;43m\"\u001b[39;49m\u001b[43m:\u001b[49m\u001b[43m \u001b[49m\u001b[43mlogprobs\u001b[49m\u001b[43m,\u001b[49m\n\u001b[32m    170\u001b[39m \u001b[43m            \u001b[49m\u001b[33;43m\"\u001b[39;49m\u001b[33;43mmax_completion_tokens\u001b[39;49m\u001b[33;43m\"\u001b[39;49m\u001b[43m:\u001b[49m\u001b[43m \u001b[49m\u001b[43mmax_completion_tokens\u001b[49m\u001b[43m,\u001b[49m\n\u001b[32m    171\u001b[39m \u001b[43m            \u001b[49m\u001b[33;43m\"\u001b[39;49m\u001b[33;43mmax_tokens\u001b[39;49m\u001b[33;43m\"\u001b[39;49m\u001b[43m:\u001b[49m\u001b[43m \u001b[49m\u001b[43mmax_tokens\u001b[49m\u001b[43m,\u001b[49m\n\u001b[32m    172\u001b[39m \u001b[43m            \u001b[49m\u001b[33;43m\"\u001b[39;49m\u001b[33;43mmetadata\u001b[39;49m\u001b[33;43m\"\u001b[39;49m\u001b[43m:\u001b[49m\u001b[43m \u001b[49m\u001b[43mmetadata\u001b[49m\u001b[43m,\u001b[49m\n\u001b[32m    173\u001b[39m \u001b[43m            \u001b[49m\u001b[33;43m\"\u001b[39;49m\u001b[33;43mmodalities\u001b[39;49m\u001b[33;43m\"\u001b[39;49m\u001b[43m:\u001b[49m\u001b[43m \u001b[49m\u001b[43mmodalities\u001b[49m\u001b[43m,\u001b[49m\n\u001b[32m    174\u001b[39m \u001b[43m            \u001b[49m\u001b[33;43m\"\u001b[39;49m\u001b[33;43mn\u001b[39;49m\u001b[33;43m\"\u001b[39;49m\u001b[43m:\u001b[49m\u001b[43m \u001b[49m\u001b[43mn\u001b[49m\u001b[43m,\u001b[49m\n\u001b[32m    175\u001b[39m \u001b[43m            \u001b[49m\u001b[33;43m\"\u001b[39;49m\u001b[33;43mparallel_tool_calls\u001b[39;49m\u001b[33;43m\"\u001b[39;49m\u001b[43m:\u001b[49m\u001b[43m \u001b[49m\u001b[43mparallel_tool_calls\u001b[49m\u001b[43m,\u001b[49m\n\u001b[32m    176\u001b[39m \u001b[43m            \u001b[49m\u001b[33;43m\"\u001b[39;49m\u001b[33;43mprediction\u001b[39;49m\u001b[33;43m\"\u001b[39;49m\u001b[43m:\u001b[49m\u001b[43m \u001b[49m\u001b[43mprediction\u001b[49m\u001b[43m,\u001b[49m\n\u001b[32m    177\u001b[39m \u001b[43m            \u001b[49m\u001b[33;43m\"\u001b[39;49m\u001b[33;43mpresence_penalty\u001b[39;49m\u001b[33;43m\"\u001b[39;49m\u001b[43m:\u001b[49m\u001b[43m \u001b[49m\u001b[43mpresence_penalty\u001b[49m\u001b[43m,\u001b[49m\n\u001b[32m    178\u001b[39m \u001b[43m            \u001b[49m\u001b[33;43m\"\u001b[39;49m\u001b[33;43mreasoning_effort\u001b[39;49m\u001b[33;43m\"\u001b[39;49m\u001b[43m:\u001b[49m\u001b[43m \u001b[49m\u001b[43mreasoning_effort\u001b[49m\u001b[43m,\u001b[49m\n\u001b[32m    179\u001b[39m \u001b[43m            \u001b[49m\u001b[33;43m\"\u001b[39;49m\u001b[33;43mresponse_format\u001b[39;49m\u001b[33;43m\"\u001b[39;49m\u001b[43m:\u001b[49m\u001b[43m \u001b[49m\u001b[43m_type_to_response_format\u001b[49m\u001b[43m(\u001b[49m\u001b[43mresponse_format\u001b[49m\u001b[43m)\u001b[49m\u001b[43m,\u001b[49m\n\u001b[32m    180\u001b[39m \u001b[43m            \u001b[49m\u001b[33;43m\"\u001b[39;49m\u001b[33;43mseed\u001b[39;49m\u001b[33;43m\"\u001b[39;49m\u001b[43m:\u001b[49m\u001b[43m \u001b[49m\u001b[43mseed\u001b[49m\u001b[43m,\u001b[49m\n\u001b[32m    181\u001b[39m \u001b[43m            \u001b[49m\u001b[33;43m\"\u001b[39;49m\u001b[33;43mservice_tier\u001b[39;49m\u001b[33;43m\"\u001b[39;49m\u001b[43m:\u001b[49m\u001b[43m \u001b[49m\u001b[43mservice_tier\u001b[49m\u001b[43m,\u001b[49m\n\u001b[32m    182\u001b[39m \u001b[43m            \u001b[49m\u001b[33;43m\"\u001b[39;49m\u001b[33;43mstop\u001b[39;49m\u001b[33;43m\"\u001b[39;49m\u001b[43m:\u001b[49m\u001b[43m \u001b[49m\u001b[43mstop\u001b[49m\u001b[43m,\u001b[49m\n\u001b[32m    183\u001b[39m \u001b[43m            \u001b[49m\u001b[33;43m\"\u001b[39;49m\u001b[33;43mstore\u001b[39;49m\u001b[33;43m\"\u001b[39;49m\u001b[43m:\u001b[49m\u001b[43m \u001b[49m\u001b[43mstore\u001b[49m\u001b[43m,\u001b[49m\n\u001b[32m    184\u001b[39m \u001b[43m            \u001b[49m\u001b[33;43m\"\u001b[39;49m\u001b[33;43mstream\u001b[39;49m\u001b[33;43m\"\u001b[39;49m\u001b[43m:\u001b[49m\u001b[43m \u001b[49m\u001b[38;5;28;43;01mFalse\u001b[39;49;00m\u001b[43m,\u001b[49m\n\u001b[32m    185\u001b[39m \u001b[43m            \u001b[49m\u001b[33;43m\"\u001b[39;49m\u001b[33;43mstream_options\u001b[39;49m\u001b[33;43m\"\u001b[39;49m\u001b[43m:\u001b[49m\u001b[43m \u001b[49m\u001b[43mstream_options\u001b[49m\u001b[43m,\u001b[49m\n\u001b[32m    186\u001b[39m \u001b[43m            \u001b[49m\u001b[33;43m\"\u001b[39;49m\u001b[33;43mtemperature\u001b[39;49m\u001b[33;43m\"\u001b[39;49m\u001b[43m:\u001b[49m\u001b[43m \u001b[49m\u001b[43mtemperature\u001b[49m\u001b[43m,\u001b[49m\n\u001b[32m    187\u001b[39m \u001b[43m            \u001b[49m\u001b[33;43m\"\u001b[39;49m\u001b[33;43mtool_choice\u001b[39;49m\u001b[33;43m\"\u001b[39;49m\u001b[43m:\u001b[49m\u001b[43m \u001b[49m\u001b[43mtool_choice\u001b[49m\u001b[43m,\u001b[49m\n\u001b[32m    188\u001b[39m \u001b[43m            \u001b[49m\u001b[33;43m\"\u001b[39;49m\u001b[33;43mtools\u001b[39;49m\u001b[33;43m\"\u001b[39;49m\u001b[43m:\u001b[49m\u001b[43m \u001b[49m\u001b[43mtools\u001b[49m\u001b[43m,\u001b[49m\n\u001b[32m    189\u001b[39m \u001b[43m            \u001b[49m\u001b[33;43m\"\u001b[39;49m\u001b[33;43mtop_logprobs\u001b[39;49m\u001b[33;43m\"\u001b[39;49m\u001b[43m:\u001b[49m\u001b[43m \u001b[49m\u001b[43mtop_logprobs\u001b[49m\u001b[43m,\u001b[49m\n\u001b[32m    190\u001b[39m \u001b[43m            \u001b[49m\u001b[33;43m\"\u001b[39;49m\u001b[33;43mtop_p\u001b[39;49m\u001b[33;43m\"\u001b[39;49m\u001b[43m:\u001b[49m\u001b[43m \u001b[49m\u001b[43mtop_p\u001b[49m\u001b[43m,\u001b[49m\n\u001b[32m    191\u001b[39m \u001b[43m            \u001b[49m\u001b[33;43m\"\u001b[39;49m\u001b[33;43muser\u001b[39;49m\u001b[33;43m\"\u001b[39;49m\u001b[43m:\u001b[49m\u001b[43m \u001b[49m\u001b[43muser\u001b[49m\u001b[43m,\u001b[49m\n\u001b[32m    192\u001b[39m \u001b[43m            \u001b[49m\u001b[33;43m\"\u001b[39;49m\u001b[33;43mweb_search_options\u001b[39;49m\u001b[33;43m\"\u001b[39;49m\u001b[43m:\u001b[49m\u001b[43m \u001b[49m\u001b[43mweb_search_options\u001b[49m\u001b[43m,\u001b[49m\n\u001b[32m    193\u001b[39m \u001b[43m        \u001b[49m\u001b[43m}\u001b[49m\u001b[43m,\u001b[49m\n\u001b[32m    194\u001b[39m \u001b[43m        \u001b[49m\u001b[43mcompletion_create_params\u001b[49m\u001b[43m.\u001b[49m\u001b[43mCompletionCreateParams\u001b[49m\u001b[43m,\u001b[49m\n\u001b[32m    195\u001b[39m \u001b[43m    \u001b[49m\u001b[43m)\u001b[49m\u001b[43m,\u001b[49m\n\u001b[32m    196\u001b[39m \u001b[43m    \u001b[49m\u001b[43moptions\u001b[49m\u001b[43m=\u001b[49m\u001b[43mmake_request_options\u001b[49m\u001b[43m(\u001b[49m\n\u001b[32m    197\u001b[39m \u001b[43m        \u001b[49m\u001b[43mextra_headers\u001b[49m\u001b[43m=\u001b[49m\u001b[43mextra_headers\u001b[49m\u001b[43m,\u001b[49m\n\u001b[32m    198\u001b[39m \u001b[43m        \u001b[49m\u001b[43mextra_query\u001b[49m\u001b[43m=\u001b[49m\u001b[43mextra_query\u001b[49m\u001b[43m,\u001b[49m\n\u001b[32m    199\u001b[39m \u001b[43m        \u001b[49m\u001b[43mextra_body\u001b[49m\u001b[43m=\u001b[49m\u001b[43mextra_body\u001b[49m\u001b[43m,\u001b[49m\n\u001b[32m    200\u001b[39m \u001b[43m        \u001b[49m\u001b[43mtimeout\u001b[49m\u001b[43m=\u001b[49m\u001b[43mtimeout\u001b[49m\u001b[43m,\u001b[49m\n\u001b[32m    201\u001b[39m \u001b[43m        \u001b[49m\u001b[43mpost_parser\u001b[49m\u001b[43m=\u001b[49m\u001b[43mparser\u001b[49m\u001b[43m,\u001b[49m\n\u001b[32m    202\u001b[39m \u001b[43m    \u001b[49m\u001b[43m)\u001b[49m\u001b[43m,\u001b[49m\n\u001b[32m    203\u001b[39m \u001b[43m    \u001b[49m\u001b[38;5;66;43;03m# we turn the `ChatCompletion` instance into a `ParsedChatCompletion`\u001b[39;49;00m\n\u001b[32m    204\u001b[39m \u001b[43m    \u001b[49m\u001b[38;5;66;43;03m# in the `parser` function above\u001b[39;49;00m\n\u001b[32m    205\u001b[39m \u001b[43m    \u001b[49m\u001b[43mcast_to\u001b[49m\u001b[43m=\u001b[49m\u001b[43mcast\u001b[49m\u001b[43m(\u001b[49m\u001b[43mType\u001b[49m\u001b[43m[\u001b[49m\u001b[43mParsedChatCompletion\u001b[49m\u001b[43m[\u001b[49m\u001b[43mResponseFormatT\u001b[49m\u001b[43m]\u001b[49m\u001b[43m]\u001b[49m\u001b[43m,\u001b[49m\u001b[43m \u001b[49m\u001b[43mChatCompletion\u001b[49m\u001b[43m)\u001b[49m\u001b[43m,\u001b[49m\n\u001b[32m    206\u001b[39m \u001b[43m    \u001b[49m\u001b[43mstream\u001b[49m\u001b[43m=\u001b[49m\u001b[38;5;28;43;01mFalse\u001b[39;49;00m\u001b[43m,\u001b[49m\n\u001b[32m    207\u001b[39m \u001b[43m\u001b[49m\u001b[43m)\u001b[49m\n",
      "\u001b[36mFile \u001b[39m\u001b[32md:\\AI_PROJECT\\quick_test\\.venv\\Lib\\site-packages\\openai\\_base_client.py:1239\u001b[39m, in \u001b[36mSyncAPIClient.post\u001b[39m\u001b[34m(self, path, cast_to, body, options, files, stream, stream_cls)\u001b[39m\n\u001b[32m   1225\u001b[39m \u001b[38;5;28;01mdef\u001b[39;00m\u001b[38;5;250m \u001b[39m\u001b[34mpost\u001b[39m(\n\u001b[32m   1226\u001b[39m     \u001b[38;5;28mself\u001b[39m,\n\u001b[32m   1227\u001b[39m     path: \u001b[38;5;28mstr\u001b[39m,\n\u001b[32m   (...)\u001b[39m\u001b[32m   1234\u001b[39m     stream_cls: \u001b[38;5;28mtype\u001b[39m[_StreamT] | \u001b[38;5;28;01mNone\u001b[39;00m = \u001b[38;5;28;01mNone\u001b[39;00m,\n\u001b[32m   1235\u001b[39m ) -> ResponseT | _StreamT:\n\u001b[32m   1236\u001b[39m     opts = FinalRequestOptions.construct(\n\u001b[32m   1237\u001b[39m         method=\u001b[33m\"\u001b[39m\u001b[33mpost\u001b[39m\u001b[33m\"\u001b[39m, url=path, json_data=body, files=to_httpx_files(files), **options\n\u001b[32m   1238\u001b[39m     )\n\u001b[32m-> \u001b[39m\u001b[32m1239\u001b[39m     \u001b[38;5;28;01mreturn\u001b[39;00m cast(ResponseT, \u001b[38;5;28;43mself\u001b[39;49m\u001b[43m.\u001b[49m\u001b[43mrequest\u001b[49m\u001b[43m(\u001b[49m\u001b[43mcast_to\u001b[49m\u001b[43m,\u001b[49m\u001b[43m \u001b[49m\u001b[43mopts\u001b[49m\u001b[43m,\u001b[49m\u001b[43m \u001b[49m\u001b[43mstream\u001b[49m\u001b[43m=\u001b[49m\u001b[43mstream\u001b[49m\u001b[43m,\u001b[49m\u001b[43m \u001b[49m\u001b[43mstream_cls\u001b[49m\u001b[43m=\u001b[49m\u001b[43mstream_cls\u001b[49m\u001b[43m)\u001b[49m)\n",
      "\u001b[36mFile \u001b[39m\u001b[32md:\\AI_PROJECT\\quick_test\\.venv\\Lib\\site-packages\\openai\\_base_client.py:1039\u001b[39m, in \u001b[36mSyncAPIClient.request\u001b[39m\u001b[34m(self, cast_to, options, stream, stream_cls)\u001b[39m\n\u001b[32m   1036\u001b[39m     \u001b[38;5;28;01mbreak\u001b[39;00m\n\u001b[32m   1038\u001b[39m \u001b[38;5;28;01massert\u001b[39;00m response \u001b[38;5;129;01mis\u001b[39;00m \u001b[38;5;129;01mnot\u001b[39;00m \u001b[38;5;28;01mNone\u001b[39;00m, \u001b[33m\"\u001b[39m\u001b[33mcould not resolve response (should never happen)\u001b[39m\u001b[33m\"\u001b[39m\n\u001b[32m-> \u001b[39m\u001b[32m1039\u001b[39m \u001b[38;5;28;01mreturn\u001b[39;00m \u001b[38;5;28;43mself\u001b[39;49m\u001b[43m.\u001b[49m\u001b[43m_process_response\u001b[49m\u001b[43m(\u001b[49m\n\u001b[32m   1040\u001b[39m \u001b[43m    \u001b[49m\u001b[43mcast_to\u001b[49m\u001b[43m=\u001b[49m\u001b[43mcast_to\u001b[49m\u001b[43m,\u001b[49m\n\u001b[32m   1041\u001b[39m \u001b[43m    \u001b[49m\u001b[43moptions\u001b[49m\u001b[43m=\u001b[49m\u001b[43moptions\u001b[49m\u001b[43m,\u001b[49m\n\u001b[32m   1042\u001b[39m \u001b[43m    \u001b[49m\u001b[43mresponse\u001b[49m\u001b[43m=\u001b[49m\u001b[43mresponse\u001b[49m\u001b[43m,\u001b[49m\n\u001b[32m   1043\u001b[39m \u001b[43m    \u001b[49m\u001b[43mstream\u001b[49m\u001b[43m=\u001b[49m\u001b[43mstream\u001b[49m\u001b[43m,\u001b[49m\n\u001b[32m   1044\u001b[39m \u001b[43m    \u001b[49m\u001b[43mstream_cls\u001b[49m\u001b[43m=\u001b[49m\u001b[43mstream_cls\u001b[49m\u001b[43m,\u001b[49m\n\u001b[32m   1045\u001b[39m \u001b[43m    \u001b[49m\u001b[43mretries_taken\u001b[49m\u001b[43m=\u001b[49m\u001b[43mretries_taken\u001b[49m\u001b[43m,\u001b[49m\n\u001b[32m   1046\u001b[39m \u001b[43m\u001b[49m\u001b[43m)\u001b[49m\n",
      "\u001b[36mFile \u001b[39m\u001b[32md:\\AI_PROJECT\\quick_test\\.venv\\Lib\\site-packages\\openai\\_base_client.py:1121\u001b[39m, in \u001b[36mSyncAPIClient._process_response\u001b[39m\u001b[34m(self, cast_to, options, response, stream, stream_cls, retries_taken)\u001b[39m\n\u001b[32m   1118\u001b[39m \u001b[38;5;28;01mif\u001b[39;00m \u001b[38;5;28mbool\u001b[39m(response.request.headers.get(RAW_RESPONSE_HEADER)):\n\u001b[32m   1119\u001b[39m     \u001b[38;5;28;01mreturn\u001b[39;00m cast(ResponseT, api_response)\n\u001b[32m-> \u001b[39m\u001b[32m1121\u001b[39m \u001b[38;5;28;01mreturn\u001b[39;00m \u001b[43mapi_response\u001b[49m\u001b[43m.\u001b[49m\u001b[43mparse\u001b[49m\u001b[43m(\u001b[49m\u001b[43m)\u001b[49m\n",
      "\u001b[36mFile \u001b[39m\u001b[32md:\\AI_PROJECT\\quick_test\\.venv\\Lib\\site-packages\\openai\\_response.py:325\u001b[39m, in \u001b[36mAPIResponse.parse\u001b[39m\u001b[34m(self, to)\u001b[39m\n\u001b[32m    323\u001b[39m parsed = \u001b[38;5;28mself\u001b[39m._parse(to=to)\n\u001b[32m    324\u001b[39m \u001b[38;5;28;01mif\u001b[39;00m is_given(\u001b[38;5;28mself\u001b[39m._options.post_parser):\n\u001b[32m--> \u001b[39m\u001b[32m325\u001b[39m     parsed = \u001b[38;5;28;43mself\u001b[39;49m\u001b[43m.\u001b[49m\u001b[43m_options\u001b[49m\u001b[43m.\u001b[49m\u001b[43mpost_parser\u001b[49m\u001b[43m(\u001b[49m\u001b[43mparsed\u001b[49m\u001b[43m)\u001b[49m\n\u001b[32m    327\u001b[39m \u001b[38;5;28;01mif\u001b[39;00m \u001b[38;5;28misinstance\u001b[39m(parsed, BaseModel):\n\u001b[32m    328\u001b[39m     add_request_id(parsed, \u001b[38;5;28mself\u001b[39m.request_id)\n",
      "\u001b[36mFile \u001b[39m\u001b[32md:\\AI_PROJECT\\quick_test\\.venv\\Lib\\site-packages\\openai\\resources\\beta\\chat\\completions.py:152\u001b[39m, in \u001b[36mCompletions.parse.<locals>.parser\u001b[39m\u001b[34m(raw_completion)\u001b[39m\n\u001b[32m    151\u001b[39m \u001b[38;5;28;01mdef\u001b[39;00m\u001b[38;5;250m \u001b[39m\u001b[34mparser\u001b[39m(raw_completion: ChatCompletion) -> ParsedChatCompletion[ResponseFormatT]:\n\u001b[32m--> \u001b[39m\u001b[32m152\u001b[39m     \u001b[38;5;28;01mreturn\u001b[39;00m \u001b[43m_parse_chat_completion\u001b[49m\u001b[43m(\u001b[49m\n\u001b[32m    153\u001b[39m \u001b[43m        \u001b[49m\u001b[43mresponse_format\u001b[49m\u001b[43m=\u001b[49m\u001b[43mresponse_format\u001b[49m\u001b[43m,\u001b[49m\n\u001b[32m    154\u001b[39m \u001b[43m        \u001b[49m\u001b[43mchat_completion\u001b[49m\u001b[43m=\u001b[49m\u001b[43mraw_completion\u001b[49m\u001b[43m,\u001b[49m\n\u001b[32m    155\u001b[39m \u001b[43m        \u001b[49m\u001b[43minput_tools\u001b[49m\u001b[43m=\u001b[49m\u001b[43mtools\u001b[49m\u001b[43m,\u001b[49m\n\u001b[32m    156\u001b[39m \u001b[43m    \u001b[49m\u001b[43m)\u001b[49m\n",
      "\u001b[36mFile \u001b[39m\u001b[32md:\\AI_PROJECT\\quick_test\\.venv\\Lib\\site-packages\\openai\\lib\\_parsing\\_completions.py:110\u001b[39m, in \u001b[36mparse_chat_completion\u001b[39m\u001b[34m(response_format, input_tools, chat_completion)\u001b[39m\n\u001b[32m    100\u001b[39m             \u001b[38;5;28;01melse\u001b[39;00m:\n\u001b[32m    101\u001b[39m                 tool_calls.append(tool_call)\n\u001b[32m    103\u001b[39m     choices.append(\n\u001b[32m    104\u001b[39m         construct_type_unchecked(\n\u001b[32m    105\u001b[39m             type_=cast(Any, ParsedChoice)[solve_response_format_t(response_format)],\n\u001b[32m    106\u001b[39m             value={\n\u001b[32m    107\u001b[39m                 **choice.to_dict(),\n\u001b[32m    108\u001b[39m                 \u001b[33m\"\u001b[39m\u001b[33mmessage\u001b[39m\u001b[33m\"\u001b[39m: {\n\u001b[32m    109\u001b[39m                     **message.to_dict(),\n\u001b[32m--> \u001b[39m\u001b[32m110\u001b[39m                     \u001b[33m\"\u001b[39m\u001b[33mparsed\u001b[39m\u001b[33m\"\u001b[39m: \u001b[43mmaybe_parse_content\u001b[49m\u001b[43m(\u001b[49m\n\u001b[32m    111\u001b[39m \u001b[43m                        \u001b[49m\u001b[43mresponse_format\u001b[49m\u001b[43m=\u001b[49m\u001b[43mresponse_format\u001b[49m\u001b[43m,\u001b[49m\n\u001b[32m    112\u001b[39m \u001b[43m                        \u001b[49m\u001b[43mmessage\u001b[49m\u001b[43m=\u001b[49m\u001b[43mmessage\u001b[49m\u001b[43m,\u001b[49m\n\u001b[32m    113\u001b[39m \u001b[43m                    \u001b[49m\u001b[43m)\u001b[49m,\n\u001b[32m    114\u001b[39m                     \u001b[33m\"\u001b[39m\u001b[33mtool_calls\u001b[39m\u001b[33m\"\u001b[39m: tool_calls \u001b[38;5;28;01mif\u001b[39;00m tool_calls \u001b[38;5;28;01melse\u001b[39;00m \u001b[38;5;28;01mNone\u001b[39;00m,\n\u001b[32m    115\u001b[39m                 },\n\u001b[32m    116\u001b[39m             },\n\u001b[32m    117\u001b[39m         )\n\u001b[32m    118\u001b[39m     )\n\u001b[32m    120\u001b[39m \u001b[38;5;28;01mreturn\u001b[39;00m cast(\n\u001b[32m    121\u001b[39m     ParsedChatCompletion[ResponseFormatT],\n\u001b[32m    122\u001b[39m     construct_type_unchecked(\n\u001b[32m   (...)\u001b[39m\u001b[32m    128\u001b[39m     ),\n\u001b[32m    129\u001b[39m )\n",
      "\u001b[36mFile \u001b[39m\u001b[32md:\\AI_PROJECT\\quick_test\\.venv\\Lib\\site-packages\\openai\\lib\\_parsing\\_completions.py:161\u001b[39m, in \u001b[36mmaybe_parse_content\u001b[39m\u001b[34m(response_format, message)\u001b[39m\n\u001b[32m    155\u001b[39m \u001b[38;5;28;01mdef\u001b[39;00m\u001b[38;5;250m \u001b[39m\u001b[34mmaybe_parse_content\u001b[39m(\n\u001b[32m    156\u001b[39m     *,\n\u001b[32m    157\u001b[39m     response_format: \u001b[38;5;28mtype\u001b[39m[ResponseFormatT] | ResponseFormatParam | NotGiven,\n\u001b[32m    158\u001b[39m     message: ChatCompletionMessage | ParsedChatCompletionMessage[\u001b[38;5;28mobject\u001b[39m],\n\u001b[32m    159\u001b[39m ) -> ResponseFormatT | \u001b[38;5;28;01mNone\u001b[39;00m:\n\u001b[32m    160\u001b[39m     \u001b[38;5;28;01mif\u001b[39;00m has_rich_response_format(response_format) \u001b[38;5;129;01mand\u001b[39;00m message.content \u001b[38;5;129;01mand\u001b[39;00m \u001b[38;5;129;01mnot\u001b[39;00m message.refusal:\n\u001b[32m--> \u001b[39m\u001b[32m161\u001b[39m         \u001b[38;5;28;01mreturn\u001b[39;00m \u001b[43m_parse_content\u001b[49m\u001b[43m(\u001b[49m\u001b[43mresponse_format\u001b[49m\u001b[43m,\u001b[49m\u001b[43m \u001b[49m\u001b[43mmessage\u001b[49m\u001b[43m.\u001b[49m\u001b[43mcontent\u001b[49m\u001b[43m)\u001b[49m\n\u001b[32m    163\u001b[39m     \u001b[38;5;28;01mreturn\u001b[39;00m \u001b[38;5;28;01mNone\u001b[39;00m\n",
      "\u001b[36mFile \u001b[39m\u001b[32md:\\AI_PROJECT\\quick_test\\.venv\\Lib\\site-packages\\openai\\lib\\_parsing\\_completions.py:221\u001b[39m, in \u001b[36m_parse_content\u001b[39m\u001b[34m(response_format, content)\u001b[39m\n\u001b[32m    219\u001b[39m \u001b[38;5;28;01mdef\u001b[39;00m\u001b[38;5;250m \u001b[39m\u001b[34m_parse_content\u001b[39m(response_format: \u001b[38;5;28mtype\u001b[39m[ResponseFormatT], content: \u001b[38;5;28mstr\u001b[39m) -> ResponseFormatT:\n\u001b[32m    220\u001b[39m     \u001b[38;5;28;01mif\u001b[39;00m is_basemodel_type(response_format):\n\u001b[32m--> \u001b[39m\u001b[32m221\u001b[39m         \u001b[38;5;28;01mreturn\u001b[39;00m cast(ResponseFormatT, \u001b[43mmodel_parse_json\u001b[49m\u001b[43m(\u001b[49m\u001b[43mresponse_format\u001b[49m\u001b[43m,\u001b[49m\u001b[43m \u001b[49m\u001b[43mcontent\u001b[49m\u001b[43m)\u001b[49m)\n\u001b[32m    223\u001b[39m     \u001b[38;5;28;01mif\u001b[39;00m is_dataclass_like_type(response_format):\n\u001b[32m    224\u001b[39m         \u001b[38;5;28;01mif\u001b[39;00m \u001b[38;5;129;01mnot\u001b[39;00m PYDANTIC_V2:\n",
      "\u001b[36mFile \u001b[39m\u001b[32md:\\AI_PROJECT\\quick_test\\.venv\\Lib\\site-packages\\openai\\_compat.py:169\u001b[39m, in \u001b[36mmodel_parse_json\u001b[39m\u001b[34m(model, data)\u001b[39m\n\u001b[32m    167\u001b[39m \u001b[38;5;28;01mdef\u001b[39;00m\u001b[38;5;250m \u001b[39m\u001b[34mmodel_parse_json\u001b[39m(model: \u001b[38;5;28mtype\u001b[39m[_ModelT], data: \u001b[38;5;28mstr\u001b[39m | \u001b[38;5;28mbytes\u001b[39m) -> _ModelT:\n\u001b[32m    168\u001b[39m     \u001b[38;5;28;01mif\u001b[39;00m PYDANTIC_V2:\n\u001b[32m--> \u001b[39m\u001b[32m169\u001b[39m         \u001b[38;5;28;01mreturn\u001b[39;00m \u001b[43mmodel\u001b[49m\u001b[43m.\u001b[49m\u001b[43mmodel_validate_json\u001b[49m\u001b[43m(\u001b[49m\u001b[43mdata\u001b[49m\u001b[43m)\u001b[49m\n\u001b[32m    170\u001b[39m     \u001b[38;5;28;01mreturn\u001b[39;00m model.parse_raw(data)\n",
      "\u001b[36mFile \u001b[39m\u001b[32md:\\AI_PROJECT\\quick_test\\.venv\\Lib\\site-packages\\pydantic\\main.py:744\u001b[39m, in \u001b[36mBaseModel.model_validate_json\u001b[39m\u001b[34m(cls, json_data, strict, context, by_alias, by_name)\u001b[39m\n\u001b[32m    738\u001b[39m \u001b[38;5;28;01mif\u001b[39;00m by_alias \u001b[38;5;129;01mis\u001b[39;00m \u001b[38;5;28;01mFalse\u001b[39;00m \u001b[38;5;129;01mand\u001b[39;00m by_name \u001b[38;5;129;01mis\u001b[39;00m \u001b[38;5;129;01mnot\u001b[39;00m \u001b[38;5;28;01mTrue\u001b[39;00m:\n\u001b[32m    739\u001b[39m     \u001b[38;5;28;01mraise\u001b[39;00m PydanticUserError(\n\u001b[32m    740\u001b[39m         \u001b[33m'\u001b[39m\u001b[33mAt least one of `by_alias` or `by_name` must be set to True.\u001b[39m\u001b[33m'\u001b[39m,\n\u001b[32m    741\u001b[39m         code=\u001b[33m'\u001b[39m\u001b[33mvalidate-by-alias-and-name-false\u001b[39m\u001b[33m'\u001b[39m,\n\u001b[32m    742\u001b[39m     )\n\u001b[32m--> \u001b[39m\u001b[32m744\u001b[39m \u001b[38;5;28;01mreturn\u001b[39;00m \u001b[38;5;28;43mcls\u001b[39;49m\u001b[43m.\u001b[49m\u001b[43m__pydantic_validator__\u001b[49m\u001b[43m.\u001b[49m\u001b[43mvalidate_json\u001b[49m\u001b[43m(\u001b[49m\n\u001b[32m    745\u001b[39m \u001b[43m    \u001b[49m\u001b[43mjson_data\u001b[49m\u001b[43m,\u001b[49m\u001b[43m \u001b[49m\u001b[43mstrict\u001b[49m\u001b[43m=\u001b[49m\u001b[43mstrict\u001b[49m\u001b[43m,\u001b[49m\u001b[43m \u001b[49m\u001b[43mcontext\u001b[49m\u001b[43m=\u001b[49m\u001b[43mcontext\u001b[49m\u001b[43m,\u001b[49m\u001b[43m \u001b[49m\u001b[43mby_alias\u001b[49m\u001b[43m=\u001b[49m\u001b[43mby_alias\u001b[49m\u001b[43m,\u001b[49m\u001b[43m \u001b[49m\u001b[43mby_name\u001b[49m\u001b[43m=\u001b[49m\u001b[43mby_name\u001b[49m\n\u001b[32m    746\u001b[39m \u001b[43m\u001b[49m\u001b[43m)\u001b[49m\n",
      "\u001b[31mValidationError\u001b[39m: 1 validation error for Queries\n  Invalid JSON: expected value at line 1 column 1 [type=json_invalid, input_value='Queries\\n1. \"최근 중... 법규 개선 사례\"', input_type=str]\n    For further information visit https://errors.pydantic.dev/2.11/v/json_invalid"
     ]
    }
   ],
   "source": [
    "from langchain_core.messages import HumanMessage, SystemMessage\n",
    "results = structured_llm.invoke([SystemMessage(content=system_instructions_query),\n",
    "                                 HumanMessage(content=\"보고서의 섹션을 계획하는 데 도움이 되는 검색 쿼리를 생성합니다.\")])\n",
    "print(results)"
   ]
  },
  {
   "cell_type": "code",
   "execution_count": 103,
   "id": "e7b16ad1",
   "metadata": {},
   "outputs": [
    {
     "data": {
      "text/plain": [
       "['최근 판례 동향과 중대재해 예방 대책의 연관성', '사고 유형별 중대재해 예방 전략']"
      ]
     },
     "execution_count": 103,
     "metadata": {},
     "output_type": "execute_result"
    }
   ],
   "source": [
    "query_list = [query.search_query for query in results.queries]\n",
    "query_list"
   ]
  },
  {
   "cell_type": "code",
   "execution_count": 104,
   "id": "d42fc670",
   "metadata": {},
   "outputs": [],
   "source": [
    "def retrieve(queries:list):\n",
    "    retriever = vector_store.as_retriever(\n",
    "        search_type=\"mmr\", \n",
    "        search_kwargs={\"fetch_k\": 30, \"k\":5},\n",
    "        )\n",
    "    documents = []\n",
    "    for query in queries:\n",
    "        docs = retriever.invoke(query)\n",
    "        documents.extend(docs)    \n",
    "    return documents"
   ]
  },
  {
   "cell_type": "code",
   "execution_count": 105,
   "id": "f156ce36",
   "metadata": {
    "scrolled": true
   },
   "outputs": [
    {
     "data": {
      "text/plain": [
       "10"
      ]
     },
     "execution_count": 105,
     "metadata": {},
     "output_type": "execute_result"
    }
   ],
   "source": [
    "docs = retrieve(queries=query_list)\n",
    "len(docs)"
   ]
  },
  {
   "cell_type": "code",
   "execution_count": 127,
   "id": "abc370a6-abc7-405f-ba04-7b7768985102",
   "metadata": {},
   "outputs": [],
   "source": [
    "import heapq\n",
    "\n",
    "def reranking(query: str, docs: list, min_score: float = 0.5, top_k: int = 3):\n",
    "    \"\"\"\n",
    "    doc string\n",
    "    \"\"\"\n",
    "    global reranker\n",
    "    inputs = [[query, doc.page_content.lower()] for doc in docs]\n",
    "    scores = reranker.compute_score(inputs)\n",
    "    if not isinstance(scores, list):\n",
    "        scores = [scores]\n",
    "\n",
    "    print(f\">>> original scores: {scores}\")\n",
    "\n",
    "    # Filter scores by threshold and keep index\n",
    "    filtered_scores = [(score, idx) for idx, score in enumerate(scores) if score >= min_score]\n",
    "\n",
    "    # Get top_k using heapq (more efficient than sorting full list)\n",
    "    top_scores = heapq.nlargest(top_k, filtered_scores, key=lambda x: x[0])\n",
    "\n",
    "    # Get document objects from top indices\n",
    "    reranked_docs = [docs[idx] for _, idx in top_scores]\n",
    "\n",
    "    return top_scores, reranked_docs\n"
   ]
  },
  {
   "cell_type": "code",
   "execution_count": 108,
   "id": "e9f8ef5c-df24-4744-8ea5-fe417a005525",
   "metadata": {},
   "outputs": [
    {
     "name": "stdout",
     "output_type": "stream",
     "text": [
      ">>> original scores: [0.006653281828820394, 0.004334661912783455, 0.02103078762514779, 0.05483313214143513, 0.00012892460232945567, 0.002763947485228386, 0.05483313214143513, 0.007442262554114702, 0.006653281828820394, 0.03453818147148281]\n",
      ">>> original scores: [0.006129601134295901, 0.00027303826449828495, 0.17000544231342868, 0.0025281418893836746, 0.0016058558107803894, 0.06908743972126688, 0.0025281418893836746, 0.051175549468702924, 0.006129601134295901, 0.4038722786789893]\n"
     ]
    },
    {
     "data": {
      "text/plain": [
       "5"
      ]
     },
     "execution_count": 108,
     "metadata": {},
     "output_type": "execute_result"
    }
   ],
   "source": [
    "top_scores = []\n",
    "reranked_docs = []\n",
    "for query in query_list:\n",
    "    top_score, documents = reranking(query=query, docs=docs, min_score = 0.05, top_k= 3)\n",
    "    reranked_docs.extend(documents)\n",
    "    top_scores.extend(top_score)\n",
    "print(top_scores)\n",
    "len(reranked_docs)"
   ]
  },
  {
   "cell_type": "code",
   "execution_count": 109,
   "id": "707d023e",
   "metadata": {
    "scrolled": true
   },
   "outputs": [
    {
     "data": {
      "text/plain": [
       "'This page explains 대법원 2023. 12. 28. 선고 2023도12316 판결 that belongs to 안전 and  판례 categories.\\n<!-- image -->\\n\\n따라서 중대재해처벌법 위반(산업재해치사)죄와 업무상과실치사죄 역시 행위의 동일성이 인정되어 상상적 경 합 관계에 있다 .\\n\\n나 . 결국 원심이 피고인들에 대한 쟁점 공소사실 부분을 상상적 경합 관계로 판단한 것은 정당하고 , 거기에 상고이유 주장과 같이 죄수 판단에 관한 법리를 오해하여 판결에 영향을 미친 잘못이 없다 . 3 . 나머지 부분에 관한 판단\\n\\n검사는 피고인들에 대한 원심판결 전부에 대하여 상고하였으나 , 안전조치 및 보건조치 불이행으로 인한 산업 안전보건법 위반 부분에 관하여는 상고장이나 상고이유서에 구체적인 불복이유의 기재가 없다 .\\n\\n## 4 . 결론\\n\\n상고를 모두 기각하기로 하여 , 관여 대법관의 일치된 의견으로 주문과 같이 판결한다 .\\n\\n## 대법관 노정희(재판장) 안철상 이흥구 오석준(주심)\\n\\nThis page explains 대법원 2023. 12. 28. 선고 2023도12316 판결 that belongs to 안전 and  판례 categories.\\n<!-- image -->\\n\\n따라서 중대재해처벌법 위반(산업재해치사)죄와 업무상과실치사죄 역시 행위의 동일성이 인정되어 상상적 경 합 관계에 있다 .\\n\\n나 . 결국 원심이 피고인들에 대한 쟁점 공소사실 부분을 상상적 경합 관계로 판단한 것은 정당하고 , 거기에 상고이유 주장과 같이 죄수 판단에 관한 법리를 오해하여 판결에 영향을 미친 잘못이 없다 . 3 . 나머지 부분에 관한 판단\\n\\n검사는 피고인들에 대한 원심판결 전부에 대하여 상고하였으나 , 안전조치 및 보건조치 불이행으로 인한 산업 안전보건법 위반 부분에 관하여는 상고장이나 상고이유서에 구체적인 불복이유의 기재가 없다 .\\n\\n## 4 . 결론\\n\\n상고를 모두 기각하기로 하여 , 관여 대법관의 일치된 의견으로 주문과 같이 판결한다 .\\n\\n## 대법관 노정희(재판장) 안철상 이흥구 오석준(주심)\\n\\nThis page explains 사고사례_16 that belongs to 안전 and  사고사례 categories.\\n## 중 대 재 해 사 례\\n\\n(문의) 061-288-8732\\n\\n제공 : 한국산업안전보건공단 부산광역본부 조선업재해예방센터\\n\\n## 건조중인 FRP 선박 내부에서 원인 미상의 화재로 인해 화상을 입음\\n\\n## &lt; 재 해 개 요&gt;\\n\\n2023. 5. 12.(금) 금) 16:10경 전남 여수시 소재 ○○○ 사업장에서 어창내부 적층작업 중인 FRP 선박 내부에서 원인 미상의 화재가 발생하여 작업자 3명이 화상을 입고 치료하던 중 1명이 2023. 5. 17. 사망한 재해임\\n\\n## □ 사고형태 및 피해정도 : 화상 / 사망 1명 , 부상 2명\\n\\n【화재발생 장면】\\n\\n<!-- image -->\\n\\n## □ 동종재해 예방대책\\n\\n## m 화재예방조치 실시\\n\\n- -사업주는 인화성 액체의 증기가 존재하여 화재가 발생할 우려가 있는 장소에서는 폭발 또는 화재를 예방하기 위해 환풍기 , 배풍기 등 환기장치를 적절하게 설치해야 함 (인화성물질로 인한 화재폭발 분위기를 낮추기 위해 환기팬 등을 사용한 강제환기를 실시해야 함)\\n- -화재의 원인이 될 우려가 있는 물질을 취급하는 장소에는 소화설비를 설치해야 함 .\\n\\n## m 경화제 취급관리 철저\\n\\n- -이물질 혼입을 방지하기 위해 지정된 구역에서만 수지와 경화제를 혼합하고 , 경화제는 뚜껑이 있는 원래의 용기(또는 전용용기)에만 담아서 사용해야 하며 , 사용 후에는 밀 봉해야 함\\n\\nThis page explains 사고사례_5 that belongs to 안전 and  사고사례 categories.\\n조선 제2022-02호(2022.3.2)\\n\\n## 중 대 재 해 사 례\\n\\n제공 : 한국산업안전보건공단 부산광역본부 조선업재해예방센터\\n\\n## 크레인으로 철판 이동·적재 작업 중 끼임\\n\\n## &lt; 재 해 개 요&gt;\\n\\n2022. 1. 24.(월) 월) 17시 22분경 울산광역시 동구 소재 ○○○ 사업장내 가공소조립장에서 천장크레인의 무선 리모컨 스위치를 조작하여 약 2.2톤의 철판을 이동 및 적재 작업 중이 던 작업자가 운반하던 철판과 용접설비 기둥 사이에 끼 끼어 사망한 재해임\\n\\n## □ 사고형태 및 피해정도 : 끼임 / 사망 1명\\n\\n【재해 상황도】\\n\\n<!-- image -->\\n\\n## □ 재해발생대책\\n\\n- ❍ 협착 가능 위험장소에 운전자(근로자) 위치 금지\\n- ❍ 작업계획서 작성 및 작업지휘자의 지정\\n- -크레인을 사용한 중량물의 취급 작업에 따른 위험을 예방할 수 있는 안전대 책이 수립될 수 있도록 명확하게 작업계획서를 작성하고 이에 따라 지정된 작업지휘자가 작업지휘를 실시하여야 함\\n- ❍ 가능한 크레인의 횡행 가속도를 느리게 하고 제동거리가 일정하게 유지되도록 함(함(권고)고)\\n\\n본 속보는 동종재해 예방을 위해 조선업재해예방센터에서 제작하여 제공하공하는 것이므로 동종 시설의 자체점검 및 적정한 조치실시 , 근로자교자교육 자료 등으로 활용 바랍니다. 다. 인터넷 주소 www.kosha.or.kr/자료마당/당/재해사례/국내재해사례/례/조선업 클릭\\n\\nThis page explains 안전보건 실무길잡이_선박건조 및 수리업 that belongs to 안전 and  가이드 categories.\\n재해 예방대책\\n\\n## 안전 Tip\\n\\n<!-- image -->\\n\\n## 일반적인 안전관리\\n\\n- 분기회로별로 누전차단기름 설치하다.\\n- 분전함 내부 충전부가 노출되지 않도록 보호판 접촉방지판 등올 설치하다.\\n- 작업 시작 전스위치 플러그 피복 손상 접지선 등 기기의 이상 유무릎 점검하다:\\n\\n## 안전작업 방법\\n\\n- 작업 전 전원스위치름 넣올 때는 이상 유무릎 확인하다.\\n- 스위치나 개페기 앞에서 인화성 물질 또는 위험성 물질의 보관 취급 및 사용올 금지 한다.\\n- 씌운다\\n- 작업 종료 후어는 반드시 전원올 차단하다.\\n\\n## 감전사고 발생 시용급조치\\n\\n- 우선전원올 차단하고 재해자루 위험지역에서 신속히 대피시권 후 2차 재해가 발생하지 않도록 조치하다.\\n- 호흡상태, 의식상태 맥박상태 등올 신속 정확하게 확인하다.\\n- 감전소크로 인한 호흡 정지 시 약 1분 이내에 혈액 중의 산소 함유량이 감소하여 산소\\n- 필요한 응급처지름 실시한다:\\n\\n<!-- image -->'"
      ]
     },
     "execution_count": 109,
     "metadata": {},
     "output_type": "execute_result"
    }
   ],
   "source": [
    "def formatting_docs(docs:list):\n",
    "    return \"\\n\\n\".join(doc.page_content for doc in docs)\n",
    "\n",
    "source_str = formatting_docs(docs=reranked_docs)\n",
    "source_str"
   ]
  },
  {
   "cell_type": "code",
   "execution_count": 110,
   "id": "50791036",
   "metadata": {},
   "outputs": [],
   "source": [
    "report_planner_instructions=\"\"\"간결하고 핵심에 집중된 보고서 계획을 원합니다.\n",
    "\n",
    "<Report topic>\n",
    "보고서의 주제는 다음과 같습니다:\n",
    "{topic}\n",
    "</Report topic>\n",
    "\n",
    "<Report organization>\n",
    "보고서는 다음과 같은 구성에 따라야 합니다:\n",
    "{report_organization}\n",
    "</Report organization>\n",
    "\n",
    "<Context>\n",
    "보고서의 섹션을 계획할 때 사용할 문맥은 다음과 같습니다:\n",
    "{context}\n",
    "</Context>\n",
    "\n",
    "<Task>\n",
    "보고서의 섹션 목록을 작성하세요. 계획은 명확하고 집중되어야 하며, 겹치는 섹션이나 불필요한 내용은 없어야 합니다.\n",
    "\n",
    "예를 들어, 좋은 보고서 구조는 다음과 같을 수 있습니다:\n",
    "1/ 서론\n",
    "2/ 주제 A 개요\n",
    "3/ 주제 B 개요\n",
    "4/ A와 B의 비교\n",
    "5/ 결론\n",
    "\n",
    "각 섹션은 다음 항목을 포함해야 합니다:\n",
    "\n",
    "    - 이름 : 해당 보고서 섹션의 이름\n",
    "    - 설명 : 이 섹션에서 다룰 주요 주제에 대한 간략한 개요\n",
    "    - 조사 : 이 섹션을 위해 웹 조사가 필요한지 여부. 중요: 본문 섹션(서론/결론 제외)은 반드시 조사=True 이어야 함. 보고서는 유용하려면 최소 2~3개의 조사=True 섹션이 있어야 함.\n",
    "    - 내용 : 섹션의 실제 내용. 지금은 비워둠\n",
    "\n",
    "통합 지침:\n",
    "\n",
    "    - 예시와 구현 세부사항은 별도 섹션이 아니라 주요 주제 섹션 내에 포함할 것\n",
    "    - 각 섹션은 명확히 구분되는 목적을 가져야 하며, 내용이 중복되지 않아야 함\n",
    "    - 관련 개념은 분리하지 말고 통합할 것\n",
    "    - 매우 중요: 모든 섹션은 반드시 주제와 직접적인 관련이 있어야 함\n",
    "    - 주제와 직접 연결되지 않은 주변적인 내용이나 느슨하게 관련된 섹션은 피할 것\n",
    "\n",
    "제출 전에 구조를 검토하여 중복되는 섹션이 없고 논리적인 흐름을 따르는지 확인하세요.\n",
    "</Task>\n",
    "\n",
    "<Feedback>\n",
    "검토 과정에서 받은 보고서 구조에 대한 피드백이 있다면 다음과 같습니다:\n",
    "{feedback}\n",
    "</Feedback>\n",
    "\n",
    "<Format>\n",
    "Sections 도구를 호출하세요.\n",
    "</Format>\n",
    "\"\"\""
   ]
  },
  {
   "cell_type": "code",
   "execution_count": 111,
   "id": "5ff19669",
   "metadata": {
    "scrolled": true
   },
   "outputs": [
    {
     "name": "stdout",
     "output_type": "stream",
     "text": [
      "간결하고 핵심에 집중된 보고서 계획을 원합니다.\n",
      "\n",
      "<Report topic>\n",
      "보고서의 주제는 다음과 같습니다:\n",
      "최근 판례 동향을 고려한, 사고 유형별 중대재해 예방 대책\n",
      "</Report topic>\n",
      "\n",
      "<Report organization>\n",
      "보고서는 다음과 같은 구성에 따라야 합니다:\n",
      "다음 구조를 사용하여 사용자가 제공한 주제에 대한 보고서를 작성하세요:\n",
      "\n",
      "1. 서론 (조사 불필요)\n",
      "\n",
      "    - 주제 영역에 대한 간략한 개요\n",
      "\n",
      "2. 본론\n",
      "\n",
      "    - 각 본론 항목은 사용자가 제공한 주제의 하위 주제에 초점을 맞춰야 함\n",
      "\n",
      "3. 결론\n",
      "\n",
      "    - 본론 내용을 요약하는 구조적 요소 1개 포함 (목록 또는 표 중 하나)\n",
      "    - 보고서의 간결한 요약 제공\n",
      "</Report organization>\n",
      "\n",
      "<Context>\n",
      "보고서의 섹션을 계획할 때 사용할 문맥은 다음과 같습니다:\n",
      "This page explains 대법원 2023. 12. 28. 선고 2023도12316 판결 that belongs to 안전 and  판례 categories.\n",
      "<!-- image -->\n",
      "\n",
      "따라서 중대재해처벌법 위반(산업재해치사)죄와 업무상과실치사죄 역시 행위의 동일성이 인정되어 상상적 경 합 관계에 있다 .\n",
      "\n",
      "나 . 결국 원심이 피고인들에 대한 쟁점 공소사실 부분을 상상적 경합 관계로 판단한 것은 정당하고 , 거기에 상고이유 주장과 같이 죄수 판단에 관한 법리를 오해하여 판결에 영향을 미친 잘못이 없다 . 3 . 나머지 부분에 관한 판단\n",
      "\n",
      "검사는 피고인들에 대한 원심판결 전부에 대하여 상고하였으나 , 안전조치 및 보건조치 불이행으로 인한 산업 안전보건법 위반 부분에 관하여는 상고장이나 상고이유서에 구체적인 불복이유의 기재가 없다 .\n",
      "\n",
      "## 4 . 결론\n",
      "\n",
      "상고를 모두 기각하기로 하여 , 관여 대법관의 일치된 의견으로 주문과 같이 판결한다 .\n",
      "\n",
      "## 대법관 노정희(재판장) 안철상 이흥구 오석준(주심)\n",
      "\n",
      "This page explains 대법원 2023. 12. 28. 선고 2023도12316 판결 that belongs to 안전 and  판례 categories.\n",
      "<!-- image -->\n",
      "\n",
      "따라서 중대재해처벌법 위반(산업재해치사)죄와 업무상과실치사죄 역시 행위의 동일성이 인정되어 상상적 경 합 관계에 있다 .\n",
      "\n",
      "나 . 결국 원심이 피고인들에 대한 쟁점 공소사실 부분을 상상적 경합 관계로 판단한 것은 정당하고 , 거기에 상고이유 주장과 같이 죄수 판단에 관한 법리를 오해하여 판결에 영향을 미친 잘못이 없다 . 3 . 나머지 부분에 관한 판단\n",
      "\n",
      "검사는 피고인들에 대한 원심판결 전부에 대하여 상고하였으나 , 안전조치 및 보건조치 불이행으로 인한 산업 안전보건법 위반 부분에 관하여는 상고장이나 상고이유서에 구체적인 불복이유의 기재가 없다 .\n",
      "\n",
      "## 4 . 결론\n",
      "\n",
      "상고를 모두 기각하기로 하여 , 관여 대법관의 일치된 의견으로 주문과 같이 판결한다 .\n",
      "\n",
      "## 대법관 노정희(재판장) 안철상 이흥구 오석준(주심)\n",
      "\n",
      "This page explains 사고사례_16 that belongs to 안전 and  사고사례 categories.\n",
      "## 중 대 재 해 사 례\n",
      "\n",
      "(문의) 061-288-8732\n",
      "\n",
      "제공 : 한국산업안전보건공단 부산광역본부 조선업재해예방센터\n",
      "\n",
      "## 건조중인 FRP 선박 내부에서 원인 미상의 화재로 인해 화상을 입음\n",
      "\n",
      "## &lt; 재 해 개 요&gt;\n",
      "\n",
      "2023. 5. 12.(금) 금) 16:10경 전남 여수시 소재 ○○○ 사업장에서 어창내부 적층작업 중인 FRP 선박 내부에서 원인 미상의 화재가 발생하여 작업자 3명이 화상을 입고 치료하던 중 1명이 2023. 5. 17. 사망한 재해임\n",
      "\n",
      "## □ 사고형태 및 피해정도 : 화상 / 사망 1명 , 부상 2명\n",
      "\n",
      "【화재발생 장면】\n",
      "\n",
      "<!-- image -->\n",
      "\n",
      "## □ 동종재해 예방대책\n",
      "\n",
      "## m 화재예방조치 실시\n",
      "\n",
      "- -사업주는 인화성 액체의 증기가 존재하여 화재가 발생할 우려가 있는 장소에서는 폭발 또는 화재를 예방하기 위해 환풍기 , 배풍기 등 환기장치를 적절하게 설치해야 함 (인화성물질로 인한 화재폭발 분위기를 낮추기 위해 환기팬 등을 사용한 강제환기를 실시해야 함)\n",
      "- -화재의 원인이 될 우려가 있는 물질을 취급하는 장소에는 소화설비를 설치해야 함 .\n",
      "\n",
      "## m 경화제 취급관리 철저\n",
      "\n",
      "- -이물질 혼입을 방지하기 위해 지정된 구역에서만 수지와 경화제를 혼합하고 , 경화제는 뚜껑이 있는 원래의 용기(또는 전용용기)에만 담아서 사용해야 하며 , 사용 후에는 밀 봉해야 함\n",
      "\n",
      "This page explains 사고사례_5 that belongs to 안전 and  사고사례 categories.\n",
      "조선 제2022-02호(2022.3.2)\n",
      "\n",
      "## 중 대 재 해 사 례\n",
      "\n",
      "제공 : 한국산업안전보건공단 부산광역본부 조선업재해예방센터\n",
      "\n",
      "## 크레인으로 철판 이동·적재 작업 중 끼임\n",
      "\n",
      "## &lt; 재 해 개 요&gt;\n",
      "\n",
      "2022. 1. 24.(월) 월) 17시 22분경 울산광역시 동구 소재 ○○○ 사업장내 가공소조립장에서 천장크레인의 무선 리모컨 스위치를 조작하여 약 2.2톤의 철판을 이동 및 적재 작업 중이 던 작업자가 운반하던 철판과 용접설비 기둥 사이에 끼 끼어 사망한 재해임\n",
      "\n",
      "## □ 사고형태 및 피해정도 : 끼임 / 사망 1명\n",
      "\n",
      "【재해 상황도】\n",
      "\n",
      "<!-- image -->\n",
      "\n",
      "## □ 재해발생대책\n",
      "\n",
      "- ❍ 협착 가능 위험장소에 운전자(근로자) 위치 금지\n",
      "- ❍ 작업계획서 작성 및 작업지휘자의 지정\n",
      "- -크레인을 사용한 중량물의 취급 작업에 따른 위험을 예방할 수 있는 안전대 책이 수립될 수 있도록 명확하게 작업계획서를 작성하고 이에 따라 지정된 작업지휘자가 작업지휘를 실시하여야 함\n",
      "- ❍ 가능한 크레인의 횡행 가속도를 느리게 하고 제동거리가 일정하게 유지되도록 함(함(권고)고)\n",
      "\n",
      "본 속보는 동종재해 예방을 위해 조선업재해예방센터에서 제작하여 제공하공하는 것이므로 동종 시설의 자체점검 및 적정한 조치실시 , 근로자교자교육 자료 등으로 활용 바랍니다. 다. 인터넷 주소 www.kosha.or.kr/자료마당/당/재해사례/국내재해사례/례/조선업 클릭\n",
      "\n",
      "This page explains 안전보건 실무길잡이_선박건조 및 수리업 that belongs to 안전 and  가이드 categories.\n",
      "재해 예방대책\n",
      "\n",
      "## 안전 Tip\n",
      "\n",
      "<!-- image -->\n",
      "\n",
      "## 일반적인 안전관리\n",
      "\n",
      "- 분기회로별로 누전차단기름 설치하다.\n",
      "- 분전함 내부 충전부가 노출되지 않도록 보호판 접촉방지판 등올 설치하다.\n",
      "- 작업 시작 전스위치 플러그 피복 손상 접지선 등 기기의 이상 유무릎 점검하다:\n",
      "\n",
      "## 안전작업 방법\n",
      "\n",
      "- 작업 전 전원스위치름 넣올 때는 이상 유무릎 확인하다.\n",
      "- 스위치나 개페기 앞에서 인화성 물질 또는 위험성 물질의 보관 취급 및 사용올 금지 한다.\n",
      "- 씌운다\n",
      "- 작업 종료 후어는 반드시 전원올 차단하다.\n",
      "\n",
      "## 감전사고 발생 시용급조치\n",
      "\n",
      "- 우선전원올 차단하고 재해자루 위험지역에서 신속히 대피시권 후 2차 재해가 발생하지 않도록 조치하다.\n",
      "- 호흡상태, 의식상태 맥박상태 등올 신속 정확하게 확인하다.\n",
      "- 감전소크로 인한 호흡 정지 시 약 1분 이내에 혈액 중의 산소 함유량이 감소하여 산소\n",
      "- 필요한 응급처지름 실시한다:\n",
      "\n",
      "<!-- image -->\n",
      "</Context>\n",
      "\n",
      "<Task>\n",
      "보고서의 섹션 목록을 작성하세요. 계획은 명확하고 집중되어야 하며, 겹치는 섹션이나 불필요한 내용은 없어야 합니다.\n",
      "\n",
      "예를 들어, 좋은 보고서 구조는 다음과 같을 수 있습니다:\n",
      "1/ 서론\n",
      "2/ 주제 A 개요\n",
      "3/ 주제 B 개요\n",
      "4/ A와 B의 비교\n",
      "5/ 결론\n",
      "\n",
      "각 섹션은 다음 항목을 포함해야 합니다:\n",
      "\n",
      "    - 이름 : 해당 보고서 섹션의 이름\n",
      "    - 설명 : 이 섹션에서 다룰 주요 주제에 대한 간략한 개요\n",
      "    - 조사 : 이 섹션을 위해 웹 조사가 필요한지 여부. 중요: 본문 섹션(서론/결론 제외)은 반드시 조사=True 이어야 함. 보고서는 유용하려면 최소 2~3개의 조사=True 섹션이 있어야 함.\n",
      "    - 내용 : 섹션의 실제 내용. 지금은 비워둠\n",
      "\n",
      "통합 지침:\n",
      "\n",
      "    - 예시와 구현 세부사항은 별도 섹션이 아니라 주요 주제 섹션 내에 포함할 것\n",
      "    - 각 섹션은 명확히 구분되는 목적을 가져야 하며, 내용이 중복되지 않아야 함\n",
      "    - 관련 개념은 분리하지 말고 통합할 것\n",
      "    - 매우 중요: 모든 섹션은 반드시 주제와 직접적인 관련이 있어야 함\n",
      "    - 주제와 직접 연결되지 않은 주변적인 내용이나 느슨하게 관련된 섹션은 피할 것\n",
      "\n",
      "제출 전에 구조를 검토하여 중복되는 섹션이 없고 논리적인 흐름을 따르는지 확인하세요.\n",
      "</Task>\n",
      "\n",
      "<Feedback>\n",
      "검토 과정에서 받은 보고서 구조에 대한 피드백이 있다면 다음과 같습니다:\n",
      "\n",
      "</Feedback>\n",
      "\n",
      "<Format>\n",
      "Sections 도구를 호출하세요.\n",
      "</Format>\n",
      "\n"
     ]
    }
   ],
   "source": [
    "system_instructions_sections = report_planner_instructions.format(topic=topic, report_organization=DEFAULT_REPORT_STRUCTURE, context=source_str, feedback=\"\")\n",
    "print(system_instructions_sections)"
   ]
  },
  {
   "cell_type": "code",
   "execution_count": 112,
   "id": "a543e691",
   "metadata": {},
   "outputs": [],
   "source": [
    "planner_message = \"\"\"보고서의 섹션을 생성합니다. 응답에는 섹션 목록이 포함된 '섹션' 필드가 포함되어야 합니다.\n",
    "각 섹션에는 이름, 설명, 계획, 연구 및 콘텐츠 필드가 있어야 합니다.\"\"\""
   ]
  },
  {
   "cell_type": "code",
   "execution_count": 113,
   "id": "d05d9c70",
   "metadata": {},
   "outputs": [
    {
     "data": {
      "text/plain": [
       "RunnableBinding(bound=ChatGroq(client=<groq.resources.chat.completions.Completions object at 0x000001CCD2684620>, async_client=<groq.resources.chat.completions.AsyncCompletions object at 0x000001CCD26D5970>, model_name='llama-3.3-70b-versatile', temperature=1e-08, model_kwargs={}, groq_api_key=SecretStr('**********'), max_tokens=3000), kwargs={'tools': [{'type': 'function', 'function': {'name': 'Sections', 'description': '', 'parameters': {'properties': {'sections': {'description': 'Sections of the report.', 'items': {'properties': {'name': {'description': 'Name for this section of the report.', 'type': 'string'}, 'description': {'description': 'Brief overview of the main topics and concepts to be covered in this section.', 'type': 'string'}, 'research': {'description': 'Whether to perform web research for this section of the report.', 'type': 'boolean'}, 'content': {'description': 'The content of the section.', 'type': 'string'}}, 'required': ['name', 'description', 'research', 'content'], 'type': 'object'}, 'type': 'array'}}, 'required': ['sections'], 'type': 'object'}}}], 'ls_structured_output_format': {'kwargs': {'method': 'function_calling'}, 'schema': {'type': 'function', 'function': {'name': 'Sections', 'description': '', 'parameters': {'properties': {'sections': {'description': 'Sections of the report.', 'items': {'properties': {'name': {'description': 'Name for this section of the report.', 'type': 'string'}, 'description': {'description': 'Brief overview of the main topics and concepts to be covered in this section.', 'type': 'string'}, 'research': {'description': 'Whether to perform web research for this section of the report.', 'type': 'boolean'}, 'content': {'description': 'The content of the section.', 'type': 'string'}}, 'required': ['name', 'description', 'research', 'content'], 'type': 'object'}, 'type': 'array'}}, 'required': ['sections'], 'type': 'object'}}}}, 'tool_choice': {'type': 'function', 'function': {'name': 'Sections'}}}, config={}, config_factories=[])\n",
       "| PydanticToolsParser(first_tool_only=True, tools=[<class '__main__.Sections'>])"
      ]
     },
     "execution_count": 113,
     "metadata": {},
     "output_type": "execute_result"
    }
   ],
   "source": [
    "class Sections(BaseModel):\n",
    "    sections: List[Section] = Field(description=\"Sections of the report.\",)\n",
    "    \n",
    "structured_llm = llm.with_structured_output(Sections)\n",
    "structured_llm"
   ]
  },
  {
   "cell_type": "code",
   "execution_count": 114,
   "id": "6e501f89",
   "metadata": {},
   "outputs": [
    {
     "data": {
      "text/plain": [
       "Sections(sections=[Section(name='서론', description='최근 판례 동향을 고려한, 사고 유형별 중대재해 예방 대책에 대한 간략한 개요', research=False, content='최근 판례 동향을 고려한, 사고 유형별 중대재해 예방 대책에 대한 간략한 개요'), Section(name='산업재해 사례', description='산업재해 사례 및 예방 대책', research=True, content='산업재해 사례 및 예방 대책에 대한 설명'), Section(name='중대재해 예방 대책', description='중대재해 예방을 위한 대책', research=True, content='중대재해 예방을 위한 대책에 대한 설명'), Section(name='결론', description='중대재해 예방 대책의 요약', research=False, content='중대재해 예방 대책의 요약')])"
      ]
     },
     "execution_count": 114,
     "metadata": {},
     "output_type": "execute_result"
    }
   ],
   "source": [
    "report_sections = structured_llm.invoke([SystemMessage(content=system_instructions_sections),\n",
    "                                         HumanMessage(content=planner_message)])\n",
    "report_sections"
   ]
  },
  {
   "cell_type": "code",
   "execution_count": 132,
   "id": "06f46f9c",
   "metadata": {},
   "outputs": [
    {
     "data": {
      "text/plain": [
       "[Section(name='서론', description='최근 판례 동향을 고려한, 사고 유형별 중대재해 예방 대책에 대한 간략한 개요', research=False, content='최근 판례 동향을 고려한, 사고 유형별 중대재해 예방 대책에 대한 간략한 개요'),\n",
       " Section(name='산업재해 사례', description='산업재해 사례 및 예방 대책', research=True, content='산업재해 사례 및 예방 대책에 대한 설명'),\n",
       " Section(name='중대재해 예방 대책', description='중대재해 예방을 위한 대책', research=True, content='중대재해 예방을 위한 대책에 대한 설명'),\n",
       " Section(name='결론', description='중대재해 예방 대책의 요약', research=False, content='중대재해 예방 대책의 요약')]"
      ]
     },
     "execution_count": 132,
     "metadata": {},
     "output_type": "execute_result"
    }
   ],
   "source": [
    "sections = report_sections.sections\n",
    "sections"
   ]
  },
  {
   "cell_type": "code",
   "execution_count": 133,
   "id": "6d9250ac-0183-42c3-9544-b1c6025cdd08",
   "metadata": {},
   "outputs": [],
   "source": [
    "# query_list = [query.search_query for query in queries.queries]\n",
    "# query_list"
   ]
  },
  {
   "cell_type": "code",
   "execution_count": 134,
   "id": "b93414c0",
   "metadata": {},
   "outputs": [
    {
     "name": "stdout",
     "output_type": "stream",
     "text": [
      "4 ['서론', '산업재해 사례', '중대재해 예방 대책', '결론']\n",
      "4 ['최근 판례 동향을 고려한, 사고 유형별 중대재해 예방 대책에 대한 간략한 개요', '산업재해 사례 및 예방 대책', '중대재해 예방을 위한 대책', '중대재해 예방 대책의 요약']\n",
      "4 [False, True, True, False]\n",
      "4 ['최근 판례 동향을 고려한, 사고 유형별 중대재해 예방 대책에 대한 간략한 개요', '산업재해 사례 및 예방 대책에 대한 설명', '중대재해 예방을 위한 대책에 대한 설명', '중대재해 예방 대책의 요약']\n"
     ]
    }
   ],
   "source": [
    "section_name1 = [sec.name for sec in sections]\n",
    "print(len(section_name1), section_name1)\n",
    "section_description1 = [sec.description for sec in sections]\n",
    "print(len(section_description1), section_description1)\n",
    "section_research1 = [sec.research for sec in sections]\n",
    "print(len(section_research1), section_research1)\n",
    "section_content1 = [sec.content for sec in sections]\n",
    "print(len(section_content1), section_content1)"
   ]
  },
  {
   "cell_type": "markdown",
   "id": "849fab9c",
   "metadata": {},
   "source": [
    "# Human Feedback (생략)"
   ]
  },
  {
   "cell_type": "markdown",
   "id": "2e20dc19",
   "metadata": {},
   "source": [
    "# Generate Quaries"
   ]
  },
  {
   "cell_type": "code",
   "execution_count": 119,
   "id": "5d14e405",
   "metadata": {},
   "outputs": [
    {
     "data": {
      "text/plain": [
       "RunnableBinding(bound=ChatGroq(client=<groq.resources.chat.completions.Completions object at 0x000001CCD2684620>, async_client=<groq.resources.chat.completions.AsyncCompletions object at 0x000001CCD26D5970>, model_name='llama-3.3-70b-versatile', temperature=1e-08, model_kwargs={}, groq_api_key=SecretStr('**********'), max_tokens=3000), kwargs={'tools': [{'type': 'function', 'function': {'name': 'Queries', 'description': '', 'parameters': {'properties': {'queries': {'description': 'List of search queries.', 'items': {'properties': {'search_query': {'default': None, 'description': 'Query for web search.', 'type': 'string'}}, 'type': 'object'}, 'type': 'array'}}, 'required': ['queries'], 'type': 'object'}}}], 'ls_structured_output_format': {'kwargs': {'method': 'function_calling'}, 'schema': {'type': 'function', 'function': {'name': 'Queries', 'description': '', 'parameters': {'properties': {'queries': {'description': 'List of search queries.', 'items': {'properties': {'search_query': {'default': None, 'description': 'Query for web search.', 'type': 'string'}}, 'type': 'object'}, 'type': 'array'}}, 'required': ['queries'], 'type': 'object'}}}}, 'tool_choice': {'type': 'function', 'function': {'name': 'Queries'}}}, config={}, config_factories=[])\n",
       "| PydanticToolsParser(first_tool_only=True, tools=[<class '__main__.Queries'>])"
      ]
     },
     "execution_count": 119,
     "metadata": {},
     "output_type": "execute_result"
    }
   ],
   "source": [
    "structured_llm = llm.with_structured_output(Queries)\n",
    "structured_llm"
   ]
  },
  {
   "cell_type": "code",
   "execution_count": 184,
   "id": "96ba89be",
   "metadata": {},
   "outputs": [],
   "source": [
    "query_writer_instructions=\"\"\"당신은 안전관리 기술 보고서의 한 섹션을 작성하기 위해 포괄적인 정보를 수집할 수 있는 웹 검색 쿼리를 생성하는 안전관리 전문가 입니다.\n",
    "\n",
    "<Report topic>\n",
    "{topic}\n",
    "</Report topic>\n",
    "\n",
    "<Section topic>\n",
    "{section_topic}\n",
    "</Section topic>\n",
    "\n",
    "<Task>\n",
    "당신의 목표는 위의 섹션 주제에 대한 포괄적인 정보를 수집하는 데 도움이 되는 검색 쿼리 {number_of_queries}개를 생성하는 것입니다.\n",
    "\n",
    "검색 쿼리는 다음 기준을 충족해야 합니다:\n",
    "\n",
    "    1. 주제와 관련이 있어야 합니다\n",
    "    2. 주제의 다양한 측면을 조사해야 합니다\n",
    "\n",
    "쿼리는 고품질의 관련 있는 자료를 찾을 수 있을 만큼 구체적이어야 합니다.\n",
    "</Task>\n",
    "\n",
    "<Format>\n",
    "Queries 도구를 호출하십시오\n",
    "</Format>\n",
    "\"\"\""
   ]
  },
  {
   "cell_type": "code",
   "execution_count": 185,
   "id": "0ba801b1-b12c-4f89-8fd9-a9131fcf905a",
   "metadata": {},
   "outputs": [
    {
     "data": {
      "text/plain": [
       "'산업재해 사례 및 예방 대책'"
      ]
     },
     "execution_count": 185,
     "metadata": {},
     "output_type": "execute_result"
    }
   ],
   "source": [
    "section_description1[1]"
   ]
  },
  {
   "cell_type": "code",
   "execution_count": 186,
   "id": "61effff8",
   "metadata": {},
   "outputs": [
    {
     "name": "stdout",
     "output_type": "stream",
     "text": [
      "당신은 안전관리 기술 보고서의 한 섹션을 작성하기 위해 포괄적인 정보를 수집할 수 있는 웹 검색 쿼리를 생성하는 안전관리 전문가 입니다.\n",
      "\n",
      "<Report topic>\n",
      "최근 판례 동향을 고려한, 사고 유형별 중대재해 예방 대책\n",
      "</Report topic>\n",
      "\n",
      "<Section topic>\n",
      "산업재해 사례 및 예방 대책\n",
      "</Section topic>\n",
      "\n",
      "<Task>\n",
      "\n"
     ]
    }
   ],
   "source": [
    "system_instructions = query_writer_instructions.format(topic=topic, \n",
    "                                                       section_topic=section_description1[1], \n",
    "                                                       number_of_queries=number_of_queries)\n",
    "print(system_instructions[:200])"
   ]
  },
  {
   "cell_type": "code",
   "execution_count": 187,
   "id": "7d91e6dc",
   "metadata": {},
   "outputs": [
    {
     "data": {
      "text/plain": [
       "Queries(queries=[SearchQuery(search_query='산업재해 사례 및 예방 대책 최근 동향'), SearchQuery(search_query='중대재해 예방을 위한 산업재해 유형별 대책')])"
      ]
     },
     "execution_count": 187,
     "metadata": {},
     "output_type": "execute_result"
    }
   ],
   "source": [
    "from langchain_core.messages import HumanMessage, SystemMessage\n",
    "queries = structured_llm.invoke([SystemMessage(content=system_instructions),\n",
    "                                 HumanMessage(content=\"제공된 주제에 대한 검색 쿼리를 생성합니다\")])\n",
    "queries"
   ]
  },
  {
   "cell_type": "code",
   "execution_count": 188,
   "id": "c63e95d4",
   "metadata": {},
   "outputs": [
    {
     "data": {
      "text/plain": [
       "['산업재해 사례 및 예방 대책 최근 동향', '중대재해 예방을 위한 산업재해 유형별 대책']"
      ]
     },
     "execution_count": 188,
     "metadata": {},
     "output_type": "execute_result"
    }
   ],
   "source": [
    "query_list = [query.search_query for query in queries.queries]\n",
    "query_list"
   ]
  },
  {
   "cell_type": "markdown",
   "id": "10cd0a6a",
   "metadata": {},
   "source": [
    "# Main Retrieve"
   ]
  },
  {
   "cell_type": "code",
   "execution_count": 189,
   "id": "8f5850fb",
   "metadata": {
    "scrolled": true
   },
   "outputs": [
    {
     "data": {
      "text/plain": [
       "10"
      ]
     },
     "execution_count": 189,
     "metadata": {},
     "output_type": "execute_result"
    }
   ],
   "source": [
    "docs = retrieve(queries=query_list)\n",
    "len(docs)"
   ]
  },
  {
   "cell_type": "code",
   "execution_count": 190,
   "id": "56c9bd77-ed37-4b40-9308-b93bb6de9cf9",
   "metadata": {},
   "outputs": [
    {
     "name": "stdout",
     "output_type": "stream",
     "text": [
      ">>> original scores: [0.07767468681990461, 0.4919251835756359, 0.5195376919423713, 0.10466694954337682, 0.5458475251134323, 0.08032510835907902, 0.0015645407490389976, 0.5195376919423713, 0.5527143453616232, 0.01374597891949556]\n",
      ">>> original scores: [0.4489549085731471, 0.2225055636027022, 0.28447909144292943, 0.03998916058292742, 0.72106105121019, 0.6429020434375288, 0.009082856865999916, 0.28447909144292943, 0.6263811002974002, 0.02057737569306581]\n",
      "[(0.5527143453616232, 8), (0.5458475251134323, 4), (0.5195376919423713, 2), (0.72106105121019, 4), (0.6429020434375288, 5), (0.6263811002974002, 8)]\n"
     ]
    },
    {
     "data": {
      "text/plain": [
       "6"
      ]
     },
     "execution_count": 190,
     "metadata": {},
     "output_type": "execute_result"
    }
   ],
   "source": [
    "top_scores = []\n",
    "reranked_docs = []\n",
    "for query in query_list:\n",
    "    top_score, documents = reranking(query=query, docs=docs, min_score = 0.1, top_k= 3)\n",
    "    reranked_docs.extend(documents)\n",
    "    top_scores.extend(top_score)\n",
    "print(top_scores)\n",
    "len(reranked_docs)"
   ]
  },
  {
   "cell_type": "code",
   "execution_count": 191,
   "id": "1ccb46cc",
   "metadata": {},
   "outputs": [
    {
     "name": "stdout",
     "output_type": "stream",
     "text": [
      "This page explains 안전보건 실무길잡이_선박건조 및 수리업 that belongs to 안전 and  가이드 categories.\n",
      "<!-- image -->\n",
      "\n",
      "## Check Box\n",
      "\n",
      "## 용어의 정의\n",
      "\n",
      "- 사업주는 산업재해 조사표에 근로자 대표의 확인올 받아야 하여, 그 기재 내용에 대하여\n",
      "- 산업재해가 발생한 경우 다음 사항울 기록하고 3년간 보존한다.\n",
      "- 사업장의 개요 및 근로자의 인적사항, 재해 발생의 일시 및 장소 재해 발생의 원인 및 과정, 재해 재발방지 계획\n",
      "- 하는 경우 갈음활 수있음\n",
      "\n",
      "## 중대재해\n",
      "\n",
      "\n"
     ]
    }
   ],
   "source": [
    "def formatting_docs(docs:list):\n",
    "    return \"\\n\\n\".join(doc.page_content for doc in docs)\n",
    "\n",
    "source_str = formatting_docs(docs=docs)\n",
    "print(source_str[:300])"
   ]
  },
  {
   "cell_type": "markdown",
   "id": "91f1a348",
   "metadata": {},
   "source": [
    "# Section Write"
   ]
  },
  {
   "cell_type": "code",
   "execution_count": 216,
   "id": "8707f4b2",
   "metadata": {},
   "outputs": [],
   "source": [
    "section_writer_instructions = \"\"\"안전관리 관련 연구 보고서의 한 부분이 되는 섹션을 작성하십시오.\n",
    "\n",
    "<Task>\n",
    "1. 보고서 주제, 섹션 이름, 섹션 주제를 주의 깊게 검토하십시오.\n",
    "2. 기존 섹션 내용이 있다면 이를 검토하십시오.\n",
    "3. 제공된 자료(Source material)를 확인하십시오.\n",
    "4. 보고서 섹션 작성을 위해 사용할 자료를 결정하십시오.\n",
    "5. 보고서 섹션을 작성하고 사용한 출처를 나열하십시오.\n",
    "</Task>\n",
    "\n",
    "<Writing Guidelines>\n",
    "- 기존 섹션 내용이 비어 있다면 새로 작성하십시오.\n",
    "- 기존 섹션 내용이 있을 경우, 제공된 자료와 통합하여 작성하십시오.\n",
    "- 분량은 반드시 300~500단어 이내로 제한하십시오.\n",
    "- 문장은 간단하고 명확하게 작성하십시오.\n",
    "- 제공된 자료에 사례가 포함된 경우, 사례의 내용을 최대한 많이 포함해주세요.\n",
    "- 각 문장의 끝에 근거 문서의 정보를 표기해주세요.(파일제목 및 페이지 번호 등)\n",
    "- 단락은 짧게 유지하십시오 (최대 7문장).\n",
    "- 섹션 제목은 Markdown 형식으로 ##를 사용하십시오.\n",
    "- 섹션 제목을 반복하지 마세요.\n",
    "</Writing Guidelines>\n",
    "\n",
    "<Citation Rules>\n",
    "- 섹션 내용 작성에 직접적으로 관련된 각 고유한 filename에 하나의 인용 번호를 부여하십시오.\n",
    "- 섹션 끝에는 ### 출처라는 제목 아래 출처 목록을 작성하십시오.\n",
    "- 중요: 어떤 자료를 선택했든, 최종 목록의 출처 번호는 반드시 빠짐없이 순차적으로 매겨야 합니다 (1,2,3,4…).\n",
    "\n",
    "- 예시 형식:\n",
    "  [1] 파일 제목 (page 번호를 알 수 있는 경우, Page 번호 포함)\n",
    "  [2] 파일 제목  (page 번호를 알 수 있는 경우, Page 번호 포함)\n",
    "</Citation Rules>\n",
    "\n",
    "<Final Check>\n",
    "1. 모든 주장들이 제공된 자료에 기반하고 있는지 확인하십시오.\n",
    "2. 각 filename이 출처 목록에 단 한 번만 나타나는지 확인하십시오.\n",
    "3. 출처 번호가 빠짐없이 순차적으로 매겨졌는지 확인하십시오 (1,2,3...).\n",
    "</Final Check>\n",
    "\"\"\"\n",
    "\n",
    "section_writer_inputs=\"\"\" \n",
    "<Report topic>\n",
    "{topic}\n",
    "</Report topic>\n",
    "\n",
    "<Section name>\n",
    "{section_name}\n",
    "</Section name>\n",
    "\n",
    "<Section topic>\n",
    "{section_topic}\n",
    "</Section topic>\n",
    "\n",
    "<Existing section content (if populated)>\n",
    "{section_content}\n",
    "</Existing section content>\n",
    "\n",
    "<Source material>\n",
    "{context}\n",
    "</Source material>\n",
    "\"\"\""
   ]
  },
  {
   "cell_type": "code",
   "execution_count": 217,
   "id": "aff801fb-30eb-4fed-b298-f1070547ea1d",
   "metadata": {
    "scrolled": true
   },
   "outputs": [
    {
     "name": "stdout",
     "output_type": "stream",
     "text": [
      "최근 판례 동향을 고려한, 사고 유형별 중대재해 예방 대책\n",
      "산업재해 사례\n",
      "산업재해 사례 및 예방 대책\n",
      "This page explains 안전보건 실무길잡이_선박건조 및 수리업 that belongs to 안전 and  가이드 categories.\n",
      "<!-- image -->\n",
      "\n",
      "## Check Box\n",
      "\n",
      "## 용어의 정의\n",
      "\n",
      "- 사업주는 산업재해 조사표에 근로자 대표의 확인올 받아야 하여, 그 기재 내용에 대하여\n",
      "- 산업재해가 발생한 경우 다음 사항울 기록하고 3년간 보존한다.\n",
      "- 사업장의 개요 및 근로자의 인적사항, 재해 발생의 일시 및 장소 재해 발생의 원인 및 과정, 재해 재발방지 계획\n",
      "- 하는 경우 갈음활 수있음\n",
      "\n",
      "## 중대재해\n",
      "\n",
      "\n",
      "산업재해 사례 및 예방 대책에 대한 설명\n"
     ]
    }
   ],
   "source": [
    "print(topic)\n",
    "num = 1\n",
    "print(section_name1[num])\n",
    "print(section_description1[num])\n",
    "print(source_str[:300])\n",
    "print(section_content1[num])"
   ]
  },
  {
   "cell_type": "code",
   "execution_count": 218,
   "id": "eccff264",
   "metadata": {
    "scrolled": true
   },
   "outputs": [
    {
     "name": "stdout",
     "output_type": "stream",
     "text": [
      " \n",
      "<Report topic>\n",
      "최근 판례 동향을 고려한, 사고 유형별 중대재해 예방 대책\n",
      "</Report topic>\n",
      "\n",
      "<Section name>\n",
      "산업재해 사례\n",
      "</Section name>\n",
      "\n",
      "<Section topic>\n",
      "산업재해 사례 및 예방 대책\n",
      "</Section topic>\n",
      "\n",
      "<Existing section content (if populated)>\n",
      "산업재해 사례 및 예방 대책에 대한 설명\n",
      "</Existing section content>\n",
      "\n",
      "<Source material>\n",
      "This page explains 안전보건 실무길잡이_선박건조 및 수리업 that belongs to 안전 and  가이드 categories.\n",
      "<!-- image -->\n",
      "\n",
      "## Check Box\n",
      "\n",
      "## 용어의 정의\n",
      "\n",
      "- 사업주는 산업재해 조사표에 근로자 대표의 확인올 받아야 하여, 그 기재 내용에 대하여\n",
      "- 산업재해가 발생한 경우 다음 사항울 기록하고 3년간 보존한다.\n",
      "- 사업장의 개요 및 근로자의 인적사항, 재해 발생의 일시 및 장소 재해 발생의 원인 및 과정, 재해 재발방지 계획\n",
      "- 하는 경우 갈음활 수있음\n",
      "\n",
      "## 중대재해\n",
      "\n",
      "0 사망자가 1명 이상 발생한 재해   0 3개월 이상의 요양이 필요한 부상자가 동시에 2명 이상 발생한 재해 부상자 또는 직업성 질병자가 동시에 10명 이상 발생한 재해름 말한다.\n",
      "\n",
      "## 지체없이\n",
      "\n",
      "정당한 사유재해 등으로 인한 통신수단의 이용이 곤란하거나 재해자 응급구호; 2차 재해 재발방지루 위한 조치\n",
      "\n",
      "## 3일 이상의 휴업\n",
      "\n",
      "(휴업일수에 사고 발생일은 포함되지 않으나 법정공휴일 또는 근로 제공 의무가 없는 휴무일은 포함)\n",
      "\n",
      "## 작업중지 요건\n",
      "\n",
      "0 고용노동부장관은 . (중락).. 해당 사업장에 산재가 다시 발생할 급박한 위험이 있다고 판단 되는 경우 그 작업의 중지름 명할 수 있음\n",
      "\n",
      "- 중대재해가 발생한 해당 직업 중대재해가 발생한 작업과 동일한 작업\n",
      "\n",
      "0고용노동부장관은 토사 구축물의봉과 화재 폭발 유해하거나 위험한 물질의 누출 등으로 인해 중대재해가 발생해 . (중락). 확산월 수 있다고 판단되는 등 불가피한 경우 해당사업장의\n",
      "\n",
      "<!-- image -->\n",
      "\n",
      "This page explains 사고사례_8 that belongs to 안전 and  사고사례 categories.\n",
      "제공 : 한국산업안전보건공단 부산광역본부 조선업재해예방센터\n",
      "\n",
      "## 리프트 수리작업 중 와이어로프 및 소켓에 맞음\n",
      "\n",
      "## &lt; 재 해 개 요&gt;\n",
      "\n",
      "2022. 03. 25.(금) 13:30분경 경상남도 거제시 소재 ○○○ 사업장 내 H안벽에 설치된 주행형 타워크레인 내부 리프트의 와이어로프 교체 작업 중, 중, 와이어로프와 소켓이 리프트 2층 기계실에서 약 60 m 아래로 낙하하며 리프트 1층 카 상부에서 작업 중이던 피재자의 머리에 부딪혀 병원으로 이송하였으나 16:26분경 사망한 재해임\n",
      "\n",
      "## □ 사고형태 및 피해정도 : 맞음 / 사망 1명\n",
      "\n",
      "<!-- image -->\n",
      "\n",
      "## □ 재해발생대책\n",
      "\n",
      "## ❍ 리프트 와이어로프 교체 작업 시 상·하부 병행작업 금지 조치\n",
      "\n",
      "## -작업지휘자 선임 및 출입금지구역 설정\n",
      "\n",
      "- · 와이어로프 교체 작업 시 , 실질적인 작업지휘업무를 수행할 수 있는 작업지휘자를 선임·배치함으로써 작업방법 및 단계에 알맞게 근로자를 배치하고, 고, 하부작업구역에 출입 금지구역을 설정 ·해제하여 상·하부 병행작업이 발생하지 않도록 관리하여야 함\n",
      "\n",
      "## ❍ 낙하물 방호선반 설치\n",
      "\n",
      "- ❍ 와이어로프 교체 작업에 대한 위험성평가 실시 및 표준안전작업 절차 수립\n",
      "\n",
      "본 속보는 동종재해 예방을 위해 조선업재해예방센터에서 제작하여 제공하공하는 것이므로 동종 시설의 자체점검 및 적정한 조치실시 , 근로자교자교육 자료 등으로 활용 바랍니다. 다. 인터넷 주소 www.kosha.or.kr/자료마당/당/재해사례/국내재해사례/례/조선업 클릭\n",
      "\n",
      "This page explains 사고사례_1 that belongs to 안전 and  사고사례 categories.\n",
      "【 사고 청수탱크 내에 설치되었던 환기설비 】\n",
      "\n",
      "<!-- image -->\n",
      "\n",
      "## □ 재해예방대책\n",
      "\n",
      "- ❍ 인화성액체가 함유되지 않은 페인트로 대체 (근원적 대책)\n",
      "- -일부 조선소에서는 유기용제가 함유되지 않는 페인트(Solvent Free Paint)를 사용 하고 있어 이를 준용\n",
      "\n",
      "<!-- image -->\n",
      "\n",
      "## ❍ 도장작업 전 환기장치 가동점검 및 적정 환기장치 선정과 배치\n",
      "\n",
      "- -작업시작 전 밀폐공간작업에 필요한 안전보건조치를 수행하면서 환기장치가 적정하게 가동되는지 점검\n",
      "- -탱크 내 환기가 원활하도록 급기는 바닥과 가까운 곳에 설치하고 , 배기는 발생부근에 설치하여 기류가 순환되는 구조로 배치\n",
      "- ❍ 밀폐공간의 출입구는 인화성증기가 정도의 차이는 있지만 배출되므로 맨홀입구 부근 작업등도 방폭등을 사용\n",
      "- ❍ 혼재작업(화기작업과 도장작업) 방지를 위한 작업허가 시스템 보완\n",
      "- -동일 작업시간에 청수탱크 부근 작업공간에는 화기작업허가 승인이 이루어졌음\n",
      "\n",
      "본 속보는 동종재해 예방을 위해 조선업재해예방센터에서 제작하여 제공하공하는 것이므로 동종 시설의 자체점검 및 적정한 조치실시 , 근로자교자교육 자료 등으로 활용 바랍니다. 다. 인터넷 주소 www.kosha.or.kr/자료마당/당/재해사례/국내재해사례/례/조선업 클릭\n",
      "\n",
      "This page explains 사고사례_18 that belongs to 안전 and  사고사례 categories.\n",
      "## m 관리감독자 유해위험방지업무 철저\n",
      "\n",
      "추락위험이 있는 장소에서 작업을 할 경우 작업자가 반드시 개인 보호구(안전모 및 안전대 등)를 착용하고 , 안전대 부착설비에 안전대를 체결하도록 관리감독 철저\n",
      "\n",
      "본 속보는 동종재해 예방을 위해 조선업재해예방센터에서 제작하여 제공하는 것이므로 동종 시설의 자체점검 및 적절한 조치실시 , 근로자교육 자료 등으로 활용 바랍니다 . 인터넷 주소 www.kosha.or.kr/자료마당/재해사례/국내재해사례/조선업 클릭\n",
      "\n",
      "This page explains 사고사례_16 that belongs to 안전 and  사고사례 categories.\n",
      "## 중 대 재 해 사 례\n",
      "\n",
      "(문의) 061-288-8732\n",
      "\n",
      "제공 : 한국산업안전보건공단 부산광역본부 조선업재해예방센터\n",
      "\n",
      "## 건조중인 FRP 선박 내부에서 원인 미상의 화재로 인해 화상을 입음\n",
      "\n",
      "## &lt; 재 해 개 요&gt;\n",
      "\n",
      "2023. 5. 12.(금) 금) 16:10경 전남 여수시 소재 ○○○ 사업장에서 어창내부 적층작업 중인 FRP 선박 내부에서 원인 미상의 화재가 발생하여 작업자 3명이 화상을 입고 치료하던 중 1명이 2023. 5. 17. 사망한 재해임\n",
      "\n",
      "## □ 사고형태 및 피해정도 : 화상 / 사망 1명 , 부상 2명\n",
      "\n",
      "【화재발생 장면】\n",
      "\n",
      "<!-- image -->\n",
      "\n",
      "## □ 동종재해 예방대책\n",
      "\n",
      "## m 화재예방조치 실시\n",
      "\n",
      "- -사업주는 인화성 액체의 증기가 존재하여 화재가 발생할 우려가 있는 장소에서는 폭발 또는 화재를 예방하기 위해 환풍기 , 배풍기 등 환기장치를 적절하게 설치해야 함 (인화성물질로 인한 화재폭발 분위기를 낮추기 위해 환기팬 등을 사용한 강제환기를 실시해야 함)\n",
      "- -화재의 원인이 될 우려가 있는 물질을 취급하는 장소에는 소화설비를 설치해야 함 .\n",
      "\n",
      "## m 경화제 취급관리 철저\n",
      "\n",
      "- -이물질 혼입을 방지하기 위해 지정된 구역에서만 수지와 경화제를 혼합하고 , 경화제는 뚜껑이 있는 원래의 용기(또는 전용용기)에만 담아서 사용해야 하며 , 사용 후에는 밀 봉해야 함\n",
      "\n",
      "This page explains 안전보건 실무길잡이_선박건조 및 수리업 that belongs to 안전 and  가이드 categories.\n",
      "<!-- image -->\n",
      "\n",
      "## 안전보건관리규정 세부 내용시행규칙 별표 3)\n",
      "\n",
      "## 6.사고 조사 및 대책 수립\n",
      "\n",
      "- 가 산업재해 및 중대산업사고의 발생 시 처리 절차 및 긴급조치에 관한 사랑\n",
      "- 나. 산업재해 및 중대산업사고의 발생 원인에 대한 조사 및 분석 대책 수립에 관한 사랑\n",
      "- 다 산업재해 및 중대산업사고 발생의 기록 관리 등에 관한 사랑\n",
      "\n",
      "## 7. 위험성평가에 관한 사랑\n",
      "\n",
      "- 가 위험성평가의 실시 시기 및 방법 절차에 관한 사랑\n",
      "- 나 위험성 감소대책 수립 및 시행에 관한 사랑\n",
      "\n",
      "## 8. 보칙\n",
      "\n",
      "- 가 무재해운동 참여 안전 보건 관련 제안 및 포상 징계 등 산업재해 예방울 위하여 필요 하다고 판단하는 사랑\n",
      "- 나: 안전 보건 관련 문서의 보존에 관한 사랑\n",
      "\n",
      "<!-- image -->\n",
      "\n",
      "This page explains 중대재해 처벌 등에 관한 법률(법률)(제17907호)(20220127) that belongs to 안전 and  법령 categories.\n",
      "- ② 제1항에도 불구하고 제16조는 공포한 날부터 시행한다.\n",
      "- 제2조(다른 법률의 개정) 법원조직법 중 일부를 다음과 같이 개정한다.\n",
      "- 제32조제1항제3호에 아목을 다음과 같이 신설한다.\n",
      "- 아. 「중대재해 처벌 등에 관한 법률」 제6조제1항ㆍ제3항 및 제10조제1항에 해당하는 사건\n",
      "\n",
      "This page explains 사고사례_1 that belongs to 안전 and  사고사례 categories.\n",
      "【 사고 청수탱크 내에 설치되었던 환기설비 】\n",
      "\n",
      "<!-- image -->\n",
      "\n",
      "## □ 재해예방대책\n",
      "\n",
      "- ❍ 인화성액체가 함유되지 않은 페인트로 대체 (근원적 대책)\n",
      "- -일부 조선소에서는 유기용제가 함유되지 않는 페인트(Solvent Free Paint)를 사용 하고 있어 이를 준용\n",
      "\n",
      "<!-- image -->\n",
      "\n",
      "## ❍ 도장작업 전 환기장치 가동점검 및 적정 환기장치 선정과 배치\n",
      "\n",
      "- -작업시작 전 밀폐공간작업에 필요한 안전보건조치를 수행하면서 환기장치가 적정하게 가동되는지 점검\n",
      "- -탱크 내 환기가 원활하도록 급기는 바닥과 가까운 곳에 설치하고 , 배기는 발생부근에 설치하여 기류가 순환되는 구조로 배치\n",
      "- ❍ 밀폐공간의 출입구는 인화성증기가 정도의 차이는 있지만 배출되므로 맨홀입구 부근 작업등도 방폭등을 사용\n",
      "- ❍ 혼재작업(화기작업과 도장작업) 방지를 위한 작업허가 시스템 보완\n",
      "- -동일 작업시간에 청수탱크 부근 작업공간에는 화기작업허가 승인이 이루어졌음\n",
      "\n",
      "본 속보는 동종재해 예방을 위해 조선업재해예방센터에서 제작하여 제공하공하는 것이므로 동종 시설의 자체점검 및 적정한 조치실시 , 근로자교자교육 자료 등으로 활용 바랍니다. 다. 인터넷 주소 www.kosha.or.kr/자료마당/당/재해사례/국내재해사례/례/조선업 클릭\n",
      "\n",
      "This page explains 사고사례_17 that belongs to 안전 and  사고사례 categories.\n",
      "## 중 대 재 해 사 례\n",
      "\n",
      "제공 : 한국산업안전보건공단 부산광역본부 조선업재해예방센터\n",
      "\n",
      "## 선박수리를 위한 용접작업 중 바닥으로 떨어짐\n",
      "\n",
      "## &lt; 재 해 개 요&gt;\n",
      "\n",
      "2023. 6. 29.(목) 목) 13:45경 전남 여수시 소재 ○○○ 사업장에서 선박수리(방현대 보수)수)를 위 해 작업발판 위에서 용접작업중이던 작업자가 1.65미터 아래 작업장 바닥으로 떨어진 후, 후, 2023. 7. 22. 사망한 재해임\n",
      "\n",
      "## □ 사고형태 및 피해정도 : 떨어짐 / 사망 1명\n",
      "\n",
      "【재해발생 장면 추정도】\n",
      "\n",
      "<!-- image -->\n",
      "\n",
      "## □ 동종재해 예방대책\n",
      "\n",
      "## m 방호조치 실시\n",
      "\n",
      "- -작업발판 등 근로자가 추락할 위험이 있는 장소에는 안전난간 등의 방호조치를 충분한 강도를 가진 구조로 설치해야 함\n",
      "- -난간을 설치하는 것이 매우 곤란하거나 작업의 필요상 임시로 난간 등을 해체해야 하는 경 우에는 근로자에게 안전대를 착용하도록 하는 등 추락위험을 방지하기 위한 조치를 해야 함 .\n",
      "\n",
      "## m 개인보호구 지급\n",
      "\n",
      "- -물체가 날아올 위험 또는 근로자가 추락할 위험이 있는 작업을 하는 경우에는 근로자에게 안전모 및 안전대를 지급하고 착용하도록 해야 함 .\n",
      "\n",
      "본 속보는 동종재해 예방을 위해 조선업재해예방센터에서 제작하여 제공하는 것이므로 동종 시설의 자체점검 및 적절한 조치실시 , 근로자교육 자료 등으로 활용 바랍니다 . 인터넷 주소 www.kosha.or.kr/자료마당/재해사례/국내재해사례/조선업 클릭\n",
      "\n",
      "This page explains 안전보건 실무길잡이_선박건조 및 수리업 that belongs to 안전 and  가이드 categories.\n",
      "14\n",
      "\n",
      "## 주요 유해  위험요인\n",
      "\n",
      "## 01 재료 하역\n",
      "\n",
      "## 공정 작업별 내용\n",
      "\n",
      "크레인에 의한 원자재운반 적재 출고\n",
      "\n",
      "<!-- image -->\n",
      "\n",
      "<!-- image -->\n",
      "\n",
      "02\n",
      "\n",
      "같은 다양한 화학물질, 전선과 전기설비, 난방, 급수 , 위생과 주거설비 환기 장치 등이 있다. 재료 하역 및 입고 작업은 대부분이 지계차나 크레인 등에 의해 운반되다\n",
      "\n",
      "따라서 재료름 하역하거나 적치할 때 하역 운반 설비에 의한 부딪힘 끼임 무너짐 위험과 분진 소음 진동 정적인 작업 자세에 따른 근골격계질환 등의 유해:\n",
      "\n",
      "<!-- image -->\n",
      "\n",
      "<!-- image -->\n",
      "\n",
      "| 유해 위험요인                                                                                                         | 예방대책                                                                                                                                                                                                                                                           |\n",
      "|-----------------------------------------------------------------------------------------------------------------------|--------------------------------------------------------------------------------------------------------------------------------------------------------------------------------------------------------------------------------------------------------------------|\n",
      "| 야적장 임의 출입시 부딪힘 끼임 위험                                                                                   | 야적장 임의 출입금지 관리 감독 및 통제 철저 편하중이 발생하지 않도록 적재 적재물 고정 실시                                                                                                                                                                         |\n",
      "| 트럭 지계차부딪힘 끼임위험 강재운반 중출입시 부딪림 위험 크레인 줄걸이로프파단 떨어짐 강재하역작업시 전도 무너짐 위험 | 차량계 하역운반기계지계차; 화물차 등 , 중량물 작업계획서 작성 및 작업자에계 내용알림 차량계 하역운반기계 작업 시유도자 배치및 작업자 출입통제 지계차 후방경보기 등안전장치 장작 야적장 임의 출입 금지 크레인 작업 전달기구 점검 실시 인양하부 등 위험구역 출입금지 |\n",
      "</Source material>\n",
      "\n"
     ]
    }
   ],
   "source": [
    "section_writer_inputs_formatted = section_writer_inputs.format(topic=topic, \n",
    "                                                             section_name=section_name1[num], \n",
    "                                                             section_topic=section_description1[num], \n",
    "                                                             context=source_str, \n",
    "                                                             section_content=section_content1[num])\n",
    "print(section_writer_inputs_formatted)"
   ]
  },
  {
   "cell_type": "code",
   "execution_count": 219,
   "id": "4514a471",
   "metadata": {},
   "outputs": [
    {
     "data": {
      "text/plain": [
       "AIMessage(content='## 산업재해 사례\\n산업재해 사례 및 예방 대책에 대한 설명은 다양한 산업 분야에서 발생할 수 있는 사고와 그에 따른 피해를 줄이기 위한 대책을 포함합니다. 본 섹션에서는 산업재해 사례와 예방 대책에 대해 자세히 살펴보겠습니다.\\n\\n산업재해는 작업 중에 발생하는 사고로 인해 근로자가 사망하거나 부상을 입는 경우를 말합니다. 이러한 사고는 작업 환경, 작업자들의 안전 의식, 작업 방법 등 다양한 요인에 의해 발생할 수 있습니다. 따라서 산업재해를 예방하기 위해서는 작업 환경을 안전하게 유지하고, 작업자들이 안전한 작업 방법을 준수하도록 교육하고, 작업 중에 발생할 수 있는 위험을 예측하여 대책을 마련하는 것이 중요합니다.\\n\\n예를 들어, 선박 수리를 위한 용접 작업 중 바닥으로 떨어지는 사고는 작업 발판 등 근로자가 추락할 위험이 있는 장소에서 발생할 수 있습니다. 이러한 사고를 예방하기 위해서는 작업 발판 등에 안전 난간 등을 설치하고, 근로자에게 안전대를 착용하도록 하는 등 추락 위험을 방지하기 위한 조치를 취해야 합니다.\\n\\n또한, 리프트 수리 작업 중 와이어로프와 소켓이 리프트 1층 카 상부에서 작업 중이던 근로자의 머리에 부딪혀 사망하는 사고도 발생할 수 있습니다. 이러한 사고를 예방하기 위해서는 리프트 와이어로프 교체 작업 시 상·하부 병행작업을 금지하고, 작업지휘자 선임 및 출입 금지구역 설정, 낙하물 방호선반 설치, 와이어로프 교체 작업에 대한 위험성 평가 실시 및 표준 안전 작업 절차 수립 등이 필요합니다.\\n\\n산업재해 예방을 위해선 작업자들의 안전 의식과 작업 환경의 안전性을 높이는 것이 중요합니다. 이를 위해 작업자들에게 안전 교육을 제공하고, 작업 환경을 정기적으로 점검하여 위험 요소를 제거하는 것이 필요합니다. 또한, 산업재해 발생 시 즉시 대응하고, 사고의 원인을 분석하여 재발 방지를 위한 대책을 마련하는 것도 중요합니다.\\n\\n### 출처\\n[1] 안전보건 실무길잡이_선박건조 및 수리업 \\n[2] 사고사례_8 \\n[3] 사고사례_1 \\n[4] 사고사례_18 \\n[5] 사고사례_16 \\n[6] 사고사례_17 \\n[7] 중대재해 처벌 등에 관한 법률(법률)(제17907호)(20220127)', additional_kwargs={}, response_metadata={'token_usage': {'completion_tokens': 610, 'prompt_tokens': 4412, 'total_tokens': 5022, 'completion_time': 2.43688494, 'prompt_time': 0.314520148, 'queue_time': 0.23579223300000002, 'total_time': 2.7514050880000003}, 'model_name': 'llama-3.3-70b-versatile', 'system_fingerprint': 'fp_6507bcfb6f', 'finish_reason': 'stop', 'logprobs': None}, id='run--22a735a1-03d5-4f57-9467-1b2824290301-0', usage_metadata={'input_tokens': 4412, 'output_tokens': 610, 'total_tokens': 5022})"
      ]
     },
     "execution_count": 219,
     "metadata": {},
     "output_type": "execute_result"
    }
   ],
   "source": [
    "section_content = llm.invoke([SystemMessage(content=section_writer_instructions),\n",
    "                                           HumanMessage(content=section_writer_inputs_formatted)])\n",
    "section_content"
   ]
  },
  {
   "cell_type": "code",
   "execution_count": 220,
   "id": "fc513dc5",
   "metadata": {},
   "outputs": [
    {
     "name": "stdout",
     "output_type": "stream",
     "text": [
      "## 산업재해 사례\n",
      "산업재해 사례 및 예방 대책에 대한 설명은 다양한 산업 분야에서 발생할 수 있는 사고와 그에 따른 피해를 줄이기 위한 대책을 포함합니다. 본 섹션에서는 산업재해 사례와 예방 대책에 대해 자세히 살펴보겠습니다.\n",
      "\n",
      "산업재해는 작업 중에 발생하는 사고로 인해 근로자가 사망하거나 부상을 입는 경우를 말합니다. 이러한 사고는 작업 환경, 작업자들의 안전 의식, 작업 방법 등 다양한 요인에 의해 발생할 수 있습니다. 따라서 산업재해를 예방하기 위해서는 작업 환경을 안전하게 유지하고, 작업자들이 안전한 작업 방법을 준수하도록 교육하고, 작업 중에 발생할 수 있는 위험을 예측하여 대책을 마련하는 것이 중요합니다.\n",
      "\n",
      "예를 들어, 선박 수리를 위한 용접 작업 중 바닥으로 떨어지는 사고는 작업 발판 등 근로자가 추락할 위험이 있는 장소에서 발생할 수 있습니다. 이러한 사고를 예방하기 위해서는 작업 발판 등에 안전 난간 등을 설치하고, 근로자에게 안전대를 착용하도록 하는 등 추락 위험을 방지하기 위한 조치를 취해야 합니다.\n",
      "\n",
      "또한, 리프트 수리 작업 중 와이어로프와 소켓이 리프트 1층 카 상부에서 작업 중이던 근로자의 머리에 부딪혀 사망하는 사고도 발생할 수 있습니다. 이러한 사고를 예방하기 위해서는 리프트 와이어로프 교체 작업 시 상·하부 병행작업을 금지하고, 작업지휘자 선임 및 출입 금지구역 설정, 낙하물 방호선반 설치, 와이어로프 교체 작업에 대한 위험성 평가 실시 및 표준 안전 작업 절차 수립 등이 필요합니다.\n",
      "\n",
      "산업재해 예방을 위해선 작업자들의 안전 의식과 작업 환경의 안전性을 높이는 것이 중요합니다. 이를 위해 작업자들에게 안전 교육을 제공하고, 작업 환경을 정기적으로 점검하여 위험 요소를 제거하는 것이 필요합니다. 또한, 산업재해 발생 시 즉시 대응하고, 사고의 원인을 분석하여 재발 방지를 위한 대책을 마련하는 것도 중요합니다.\n",
      "\n",
      "### 출처\n",
      "[1] 안전보건 실무길잡이_선박건조 및 수리업 \n",
      "[2] 사고사례_8 \n",
      "[3] 사고사례_1 \n",
      "[4] 사고사례_18 \n",
      "[5] 사고사례_16 \n",
      "[6] 사고사례_17 \n",
      "[7] 중대재해 처벌 등에 관한 법률(법률)(제17907호)(20220127)\n"
     ]
    }
   ],
   "source": [
    "section_content_str = section_content.content\n",
    "print(section_content_str)"
   ]
  },
  {
   "cell_type": "markdown",
   "id": "904e2d36-2939-455e-95da-b31469404dd8",
   "metadata": {},
   "source": [
    "# Grade"
   ]
  },
  {
   "cell_type": "code",
   "execution_count": 221,
   "id": "988e1dfd-6b26-466a-98e1-3c3788b49e61",
   "metadata": {},
   "outputs": [],
   "source": [
    "section_grader_instructions = \"\"\"보고서의 특정 주제에 해당하는 섹션을 검토하세요:\n",
    "\n",
    "<Report topic>\n",
    "{topic}\n",
    "</Report topic>\n",
    "\n",
    "<section topic>\n",
    "{section_topic}\n",
    "</section topic>\n",
    "\n",
    "<section content>\n",
    "{section}\n",
    "</section content>\n",
    "\n",
    "<task>\n",
    "섹션 내용이 섹션 주제를 충분히 다루고 있는지 평가하세요.\n",
    "섹션 내용이 섹션 주제를 충분히 다루지 못한 경우, 부족한 정보를 수집하기 위한 검색 질의 {number_of_follow_up_queries}개를 생성하세요.\n",
    "</task>\n",
    "\n",
    "<format>\n",
    "Feedback 도구를 호출하고 다음 스키마에 따라 출력하세요:\n",
    "\n",
    "grade: Literal[\"pass\",\"fail\"] = Field(\n",
    "    설명=\"응답이 요구사항을 충족하는지('pass') 또는 수정이 필요한지('fail')를 나타내는 평가 결과.\"\n",
    ")\n",
    "follow_up_queries: List[SearchQuery] = Field(\n",
    "    설명=\"후속 검색 질의 목록.\"\n",
    ")\n",
    "</format>\n",
    "\"\"\""
   ]
  },
  {
   "cell_type": "code",
   "execution_count": 222,
   "id": "abadc2f3",
   "metadata": {},
   "outputs": [],
   "source": [
    "section_grader_message = (\"보고서를 평가하고 누락된 정보에 대한 후속 질문을 고려합니다.\"\n",
    "                          \"보고서 평가결과가 'pass'인 경우 모든 후속 쿼리에 빈 문자열을 반환합니다.\"\n",
    "                          \"보고서 평가결과가 'fail'인 경우 누락된 정보를 수집하기 위해 특정 검색 쿼리를 제공합니다.\"\n",
    "                         )"
   ]
  },
  {
   "cell_type": "code",
   "execution_count": 223,
   "id": "33d69545-9a98-4597-acd8-5c294916c61a",
   "metadata": {},
   "outputs": [
    {
     "data": {
      "text/plain": [
       "'보고서의 특정 주제에 해당하는 섹션을 검토하세요:\\n\\n<Report topic>\\n최근 판례 동향을 고려한, 사고 유형별 중대재해 예방 대책\\n</Report topic>\\n\\n<section topic>\\n산업재해 사례 및 예방 대책\\n</section topic>\\n\\n<section content>\\n산업재해 사례 및 예방 대책에 대한 설명\\n</section content>\\n\\n<task>\\n섹션 내용이 섹션 주제를 충분히 다루고 있는지 평가하세요.\\n섹션 내용이 섹션 주제를 충분히 다루지 못한 경우, 부족한 정보를 수집하기 위한 검색 질의 2개를 생성하세요.\\n</task>\\n\\n<format>\\nFeedback 도구를 호출하고 다음 스키마에 따라 출력하세요:\\n\\ngrade: Literal[\"pass\",\"fail\"] = Field(\\n    설명=\"응답이 요구사항을 충족하는지(\\'pass\\') 또는 수정이 필요한지(\\'fail\\')를 나타내는 평가 결과.\"\\n)\\nfollow_up_queries: List[SearchQuery] = Field(\\n    설명=\"후속 검색 질의 목록.\"\\n)\\n</format>\\n'"
      ]
     },
     "execution_count": 223,
     "metadata": {},
     "output_type": "execute_result"
    }
   ],
   "source": [
    "section_grader_instructions_formatted = section_grader_instructions.format(topic=topic, \n",
    "                                                                            section_topic=section_description1[num],\n",
    "                                                                            section=section_content1[num], \n",
    "                                                                            number_of_follow_up_queries=number_of_queries)\n",
    "section_grader_instructions_formatted"
   ]
  },
  {
   "cell_type": "code",
   "execution_count": 224,
   "id": "6528e001-0097-4027-b984-09945e398c89",
   "metadata": {},
   "outputs": [],
   "source": [
    "class Feedback(BaseModel):\n",
    "    grade: Literal[\"pass\",\"fail\"] = Field(description=\"Evaluation result indicating whether the response meets requirements ('pass') or needs revision ('fail').\")\n",
    "    follow_up_queries: List[SearchQuery] = Field(description=\"List of follow-up search queries.\",)"
   ]
  },
  {
   "cell_type": "code",
   "execution_count": 225,
   "id": "213100a3-229f-458f-a0a2-0a90e493b8eb",
   "metadata": {},
   "outputs": [
    {
     "data": {
      "text/plain": [
       "RunnableBinding(bound=ChatGroq(client=<groq.resources.chat.completions.Completions object at 0x000001CCD2684620>, async_client=<groq.resources.chat.completions.AsyncCompletions object at 0x000001CCD26D5970>, model_name='llama-3.3-70b-versatile', temperature=1e-08, model_kwargs={}, groq_api_key=SecretStr('**********'), max_tokens=3000), kwargs={'tools': [{'type': 'function', 'function': {'name': 'Feedback', 'description': '', 'parameters': {'properties': {'grade': {'description': \"Evaluation result indicating whether the response meets requirements ('pass') or needs revision ('fail').\", 'enum': ['pass', 'fail'], 'type': 'string'}, 'follow_up_queries': {'description': 'List of follow-up search queries.', 'items': {'properties': {'search_query': {'default': None, 'description': 'Query for web search.', 'type': 'string'}}, 'type': 'object'}, 'type': 'array'}}, 'required': ['grade', 'follow_up_queries'], 'type': 'object'}}}], 'ls_structured_output_format': {'kwargs': {'method': 'function_calling'}, 'schema': {'type': 'function', 'function': {'name': 'Feedback', 'description': '', 'parameters': {'properties': {'grade': {'description': \"Evaluation result indicating whether the response meets requirements ('pass') or needs revision ('fail').\", 'enum': ['pass', 'fail'], 'type': 'string'}, 'follow_up_queries': {'description': 'List of follow-up search queries.', 'items': {'properties': {'search_query': {'default': None, 'description': 'Query for web search.', 'type': 'string'}}, 'type': 'object'}, 'type': 'array'}}, 'required': ['grade', 'follow_up_queries'], 'type': 'object'}}}}, 'tool_choice': {'type': 'function', 'function': {'name': 'Feedback'}}}, config={}, config_factories=[])\n",
       "| PydanticToolsParser(first_tool_only=True, tools=[<class '__main__.Feedback'>])"
      ]
     },
     "execution_count": 225,
     "metadata": {},
     "output_type": "execute_result"
    }
   ],
   "source": [
    "reflection_model = llm.with_structured_output(Feedback)\n",
    "reflection_model"
   ]
  },
  {
   "cell_type": "code",
   "execution_count": 226,
   "id": "ef4727bd-d7b1-4a98-80cb-3f7a6ff5acf2",
   "metadata": {},
   "outputs": [
    {
     "data": {
      "text/plain": [
       "Feedback(grade='fail', follow_up_queries=[SearchQuery(search_query='산업재해 사례 및 예방 대책의 최신 동향'), SearchQuery(search_query='중대재해 예방을 위한 산업재해 유형별 대책')])"
      ]
     },
     "execution_count": 226,
     "metadata": {},
     "output_type": "execute_result"
    }
   ],
   "source": [
    "feedback = reflection_model.invoke([SystemMessage(content=section_grader_instructions_formatted),\n",
    "                                    HumanMessage(content=section_grader_message)])\n",
    "feedback"
   ]
  },
  {
   "cell_type": "code",
   "execution_count": 227,
   "id": "ee2e919b-2ae5-44a3-8bbf-a13d7e17176a",
   "metadata": {},
   "outputs": [
    {
     "data": {
      "text/plain": [
       "'fail'"
      ]
     },
     "execution_count": 227,
     "metadata": {},
     "output_type": "execute_result"
    }
   ],
   "source": [
    "feedback.grade"
   ]
  },
  {
   "cell_type": "code",
   "execution_count": 228,
   "id": "63ad001f-20d7-4a83-8dbd-e9ffabcf8526",
   "metadata": {},
   "outputs": [
    {
     "data": {
      "text/plain": [
       "[SearchQuery(search_query='산업재해 사례 및 예방 대책의 최신 동향'),\n",
       " SearchQuery(search_query='중대재해 예방을 위한 산업재해 유형별 대책')]"
      ]
     },
     "execution_count": 228,
     "metadata": {},
     "output_type": "execute_result"
    }
   ],
   "source": [
    "new_quary_list = feedback.follow_up_queries\n",
    "new_quary_list"
   ]
  },
  {
   "cell_type": "code",
   "execution_count": null,
   "id": "c182597a-9d71-417f-aeff-d7ddc71ad3e0",
   "metadata": {},
   "outputs": [],
   "source": []
  },
  {
   "cell_type": "code",
   "execution_count": null,
   "id": "aa111243-c961-44fb-b03e-9226937c3658",
   "metadata": {},
   "outputs": [],
   "source": []
  }
 ],
 "metadata": {
  "kernelspec": {
   "display_name": ".venv",
   "language": "python",
   "name": "python3"
  },
  "language_info": {
   "codemirror_mode": {
    "name": "ipython",
    "version": 3
   },
   "file_extension": ".py",
   "mimetype": "text/x-python",
   "name": "python",
   "nbconvert_exporter": "python",
   "pygments_lexer": "ipython3",
   "version": "3.12.6"
  }
 },
 "nbformat": 4,
 "nbformat_minor": 5
}
