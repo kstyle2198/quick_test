{
 "cells": [
  {
   "cell_type": "code",
   "execution_count": null,
   "id": "21055f1d",
   "metadata": {},
   "outputs": [
    {
     "data": {
      "text/plain": [
       "True"
      ]
     },
     "execution_count": 85,
     "metadata": {},
     "output_type": "execute_result"
    }
   ],
   "source": [
    "import os\n",
    "from dotenv import load_dotenv\n",
    "load_dotenv(override=True)\n",
    "api_key=os.environ.get(\"openrouter_api_key\")"
   ]
  },
  {
   "cell_type": "code",
   "execution_count": null,
   "id": "ef0395eb",
   "metadata": {},
   "outputs": [
    {
     "data": {
      "text/plain": [
       "ChatGroq(client=<groq.resources.chat.completions.Completions object at 0x00000215298FE720>, async_client=<groq.resources.chat.completions.AsyncCompletions object at 0x0000021519FFBC50>, model_name='llama-3.3-70b-versatile', temperature=1e-08, model_kwargs={}, groq_api_key=SecretStr('**********'), max_tokens=3000)"
      ]
     },
     "execution_count": 113,
     "metadata": {},
     "output_type": "execute_result"
    }
   ],
   "source": [
    "from langchain_openai import ChatOpenAI\n",
    "# llm = ChatOpenAI(\n",
    "#     model = \"qwen/qwen3-30b-a3b:free\", # \"qwen/qwen3-14b:free\", \"qwen/qwen3-30b-a3b:free\",\n",
    "#     base_url=\"https://openrouter.ai/api/v1\",\n",
    "#     api_key=api_key,\n",
    "#     )\n",
    "\n",
    "from langchain_groq import ChatGroq\n",
    "llm = ChatGroq(model=\"llama-3.3-70b-versatile\", temperature=0,max_tokens=3000,) # \"gemma2-9b-it\", qwen-qwq-32b\n",
    "llm"
   ]
  },
  {
   "cell_type": "code",
   "execution_count": 114,
   "id": "ccd3a50e",
   "metadata": {},
   "outputs": [
    {
     "data": {
      "text/plain": [
       "<langchain_elasticsearch.vectorstores.ElasticsearchStore at 0x2151a012780>"
      ]
     },
     "execution_count": 114,
     "metadata": {},
     "output_type": "execute_result"
    }
   ],
   "source": [
    "from typing import Union, List\n",
    "from langchain_ollama import OllamaEmbeddings\n",
    "from langchain_elasticsearch import ElasticsearchStore, DenseVectorStrategy\n",
    "\n",
    "def load_elastic_vectorstore(index_names: Union[str, List[str]]):\n",
    "    # 단일 문자열인 경우 리스트로 변환\n",
    "    if isinstance(index_names, str):\n",
    "        index_names = [index_names]\n",
    "    \n",
    "    vector_store = ElasticsearchStore(\n",
    "        index_name=index_names, \n",
    "        embedding=OllamaEmbeddings(\n",
    "            base_url=\"http://localhost:11434\", \n",
    "            model=\"bge-m3:latest\"\n",
    "        ), \n",
    "        es_url=\"http://localhost:9200\",\n",
    "        es_user=\"Kstyle\",\n",
    "        es_password=\"12345\",\n",
    "        # strategy=DenseVectorStrategy(hybrid=True)\n",
    "    )\n",
    "    return vector_store\n",
    "\n",
    "\n",
    "index_names = [\"ship_safety\"]\n",
    "vector_store = load_elastic_vectorstore(index_names=index_names)\n",
    "vector_store"
   ]
  },
  {
   "cell_type": "code",
   "execution_count": 115,
   "id": "df616b55",
   "metadata": {},
   "outputs": [
    {
     "data": {
      "text/plain": [
       "<FlagEmbedding.inference.reranker.encoder_only.base.BaseReranker at 0x21519ee2000>"
      ]
     },
     "execution_count": 115,
     "metadata": {},
     "output_type": "execute_result"
    }
   ],
   "source": [
    "from FlagEmbedding import FlagReranker\n",
    "reranking_model_path = \"D:/LLMs/bge-reranker-v2-m3\"\n",
    "reranker = FlagReranker(model_name_or_path=reranking_model_path, \n",
    "                        use_fp16=True,\n",
    "                        batch_size=512,\n",
    "                        max_length=2048,\n",
    "                        normalize=True)\n",
    "reranker"
   ]
  },
  {
   "cell_type": "code",
   "execution_count": 116,
   "id": "23cf4f90",
   "metadata": {},
   "outputs": [],
   "source": [
    "import heapq\n",
    "\n",
    "def reranking(query: str, docs: list, min_score: float = 0.5, top_k: int = 3):\n",
    "# def reranking(state):\n",
    "    \"\"\"\n",
    "    doc string\n",
    "    \"\"\"\n",
    "    global reranker\n",
    "    inputs = [[query, doc.page_content.lower()] for doc in docs]\n",
    "    scores = reranker.compute_score(inputs)\n",
    "    if not isinstance(scores, list):\n",
    "        scores = [scores]\n",
    "\n",
    "    print(f\">>> original scores: {scores}\")\n",
    "\n",
    "    # Filter scores by threshold and keep index\n",
    "    filtered_scores = [(score, idx) for idx, score in enumerate(scores) if score >= min_score]\n",
    "\n",
    "    # Get top_k using heapq (more efficient than sorting full list)\n",
    "    top_scores = heapq.nlargest(top_k, filtered_scores, key=lambda x: x[0])\n",
    "\n",
    "    # Get document objects from top indices\n",
    "    reranked_docs = [docs[idx] for _, idx in top_scores]\n",
    "\n",
    "    return top_scores, reranked_docs\n"
   ]
  },
  {
   "cell_type": "code",
   "execution_count": 117,
   "id": "17b3663f",
   "metadata": {},
   "outputs": [],
   "source": [
    "import operator\n",
    "from typing import Annotated\n",
    "from typing import Dict, TypedDict\n",
    "from langgraph.graph.message import add_messages\n",
    "class GraphState(TypedDict):\n",
    "    \"\"\"\n",
    "    Represents the state of our graph.\n",
    "\n",
    "    Attributes:\n",
    "        keys: A dictionary where each key is a string.\n",
    "    \"\"\"\n",
    "    context: Annotated[list, operator.add]\n",
    "    keys: Dict[str, any]\n",
    "    "
   ]
  },
  {
   "cell_type": "code",
   "execution_count": 118,
   "id": "9eb482cb",
   "metadata": {},
   "outputs": [],
   "source": [
    "from langchain_tavily import TavilySearch\n",
    "from langchain.schema import Document\n",
    "\n",
    "def web_agent(state: GraphState):\n",
    "    \n",
    "    \"\"\" Retrieve docs from web search \"\"\"\n",
    "    state_dict = state[\"keys\"]\n",
    "\n",
    "    # Search\n",
    "    print(\"---Web Search---\")\n",
    "    tavily_search = TavilySearch(max_results=3)\n",
    "    search_docs = tavily_search.invoke(state_dict['question'])\n",
    "    print(f\">>> Web 문서개수: {len(search_docs)}\")\n",
    "    contents = [f\"{d['title']} \\n {d['content']}\" for d in search_docs['results']]\n",
    "    metas = [d['url'] for d in search_docs['results']]\n",
    "\n",
    "    docs_list = []\n",
    "    for content, url in zip(contents, metas):\n",
    "        docs_list.append(Document(page_content=content, metadata={'url':url}))\n",
    "\n",
    "    # Reranking\n",
    "    top_scores, documents = reranking(query=state_dict[\"question\"], docs=docs_list, min_score = 0.5, top_k= 3)\n",
    "    print(f\">>> Web Reranking 문서개수: {len(documents)}\")\n",
    "    print(f\">>> top_scores: {top_scores}\")\n",
    "    print(documents)   \n",
    "    return {\"context\": documents} "
   ]
  },
  {
   "cell_type": "code",
   "execution_count": 119,
   "id": "fbcf46b4",
   "metadata": {},
   "outputs": [],
   "source": [
    "# inputs = {\"keys\": {'question': '2025년도 조선소 추락 사고 사례'}}\n",
    "# result = web_agent(inputs)\n",
    "# result "
   ]
  },
  {
   "cell_type": "code",
   "execution_count": 120,
   "id": "b315e0cd",
   "metadata": {},
   "outputs": [],
   "source": [
    "def retrieve_agent(state: GraphState):\n",
    "    \"\"\"\n",
    "    Retrieve documents\n",
    "\n",
    "    Args:\n",
    "        state (dict): The current graph state\n",
    "\n",
    "    Returns:\n",
    "        state (dict): New key added to state, documents, \n",
    "        that contains retrieved documents\n",
    "    \"\"\"\n",
    "    print(\"---RETRIEVE---\")\n",
    "    state_dict = state[\"keys\"]\n",
    "    retriever = vector_store.as_retriever(\n",
    "        search_type=\"mmr\", \n",
    "        search_kwargs={\"fetch_k\": 10, \"k\":5},\n",
    "        )\n",
    "    documents = retriever.invoke(state_dict[\"question\"])\n",
    "    print(f\">>> Retrieve 문서개수: {len(documents)}\")\n",
    "    \n",
    "    top_scores, documents = reranking(query=state_dict[\"question\"], docs=documents, min_score = 0.5, top_k= 3)\n",
    "    print(f\">>> Retrieve Reranking 문서개수: {len(documents)}\")\n",
    "    print(f\">>> top_scores: {top_scores}\")\n",
    "    print(documents)\n",
    "    \n",
    "    return {\"context\": documents}"
   ]
  },
  {
   "cell_type": "code",
   "execution_count": 121,
   "id": "c9237e5c",
   "metadata": {},
   "outputs": [],
   "source": [
    "# inputs = {\"keys\": {'question': '조선소 추락 사고 사례'}}\n",
    "# result = retrieve_agent(inputs)\n",
    "# result "
   ]
  },
  {
   "cell_type": "code",
   "execution_count": 122,
   "id": "9eb320dc",
   "metadata": {},
   "outputs": [],
   "source": [
    "from langchain_core.prompts import ChatPromptTemplate\n",
    "from langchain_core.output_parsers import StrOutputParser\n",
    "\n",
    "def generate_agent(state: GraphState):\n",
    "    print(\"---GENERATE---\")\n",
    "\n",
    "    state_dict = state[\"keys\"]\n",
    "    prompt = ChatPromptTemplate.from_messages([\n",
    "    (\"human\", \n",
    "    \"\"\"You are a Smart Safety Manager in Shipyard. \n",
    "    Use the following pieces of retrieved contexts or web search results to review and generate safety report.\n",
    "    The final purpose of your report is to improve the safety level and lower any accident risks in the shipyard.\n",
    "    Think step by step and generate logical and reasonable safety report in Korean Language.\n",
    "    Nonetheless, If you don't know the answer, just say that you don't know. \n",
    "    Question: {messages} \n",
    "    Context: {context} \n",
    "    Answer:\"\"\"),\n",
    "    ])\n",
    "\n",
    "    rag_chain = prompt | llm | StrOutputParser()\n",
    "\n",
    "    print(f\">>> 합산문서개수: {len(state[\"context\"])}\")\n",
    "\n",
    "    #Post-processing\n",
    "    def format_docs(docs):\n",
    "        return \"\\n\\n\".join(doc.page_content for doc in docs)\n",
    "\n",
    "    # print(format_docs(state[\"context\"]))\n",
    "    \n",
    "    # Static the Response\n",
    "    generation = rag_chain.invoke({\"context\": format_docs(state[\"context\"]), \n",
    "                                   \"messages\": state_dict['question']})\n",
    "    return {\"keys\": {\"generation\": generation}}"
   ]
  },
  {
   "cell_type": "code",
   "execution_count": 125,
   "id": "499a6104",
   "metadata": {},
   "outputs": [
    {
     "data": {
      "image/png": "[encoded data removed]",
      "text/plain": [
       "<langgraph.graph.state.CompiledStateGraph object at 0x0000021519EE4410>"
      ]
     },
     "execution_count": 125,
     "metadata": {},
     "output_type": "execute_result"
    }
   ],
   "source": [
    "from langgraph.graph import StateGraph, START, END\n",
    "def rag_builder(state):\n",
    "    rag_builder = StateGraph(state)\n",
    "    rag_builder.add_node(\"web_agent\", web_agent)\n",
    "    rag_builder.add_node(\"retrieve_agent\", retrieve_agent)\n",
    "    rag_builder.add_node(\"generate_agent\", generate_agent)\n",
    "\n",
    "    # rag_builder.add_edge(START, \"web_agent\")\n",
    "    # rag_builder.add_edge(\"web_agent\", \"generate_agent\")\n",
    "    rag_builder.add_edge(START, \"retrieve_agent\") \n",
    "    rag_builder.add_edge(\"retrieve_agent\", \"generate_agent\")\n",
    "    rag_builder.add_edge(\"generate_agent\", END)\n",
    "\n",
    "    graph = rag_builder.compile()\n",
    "\n",
    "    return graph\n",
    "\n",
    "app = rag_builder(GraphState)\n",
    "app"
   ]
  },
  {
   "cell_type": "code",
   "execution_count": 126,
   "id": "c3b5db6f",
   "metadata": {},
   "outputs": [
    {
     "name": "stdout",
     "output_type": "stream",
     "text": [
      "---RETRIEVE---\n",
      ">>> Retrieve 문서개수: 5\n",
      ">>> original scores: [0.864710137893859, 0.2235518598367174, 0.004967349823553644, 0.025638358316331378, 0.2536298336734885]\n",
      ">>> Retrieve Reranking 문서개수: 1\n",
      ">>> top_scores: [(0.864710137893859, 0)]\n",
      "[Document(metadata={'filename': '안전보건 실무길잡이_선박건조 및 수리업.pdf', 'page': '32'}, page_content='This page explains 안전보건 실무길잡이_선박건조 및 수리업 that belongs to 안전 and  가이드 categories.\\n<!-- image -->\\n\\n## Check Box\\n\\n## 용어의 정의\\n\\n- 사업주는 산업재해 조사표에 근로자 대표의 확인올 받아야 하여, 그 기재 내용에 대하여\\n- 산업재해가 발생한 경우 다음 사항울 기록하고 3년간 보존한다.\\n- 사업장의 개요 및 근로자의 인적사항, 재해 발생의 일시 및 장소 재해 발생의 원인 및 과정, 재해 재발방지 계획\\n- 하는 경우 갈음활 수있음\\n\\n## 중대재해\\n\\n0 사망자가 1명 이상 발생한 재해   0 3개월 이상의 요양이 필요한 부상자가 동시에 2명 이상 발생한 재해 부상자 또는 직업성 질병자가 동시에 10명 이상 발생한 재해름 말한다.\\n\\n## 지체없이\\n\\n정당한 사유재해 등으로 인한 통신수단의 이용이 곤란하거나 재해자 응급구호; 2차 재해 재발방지루 위한 조치\\n\\n## 3일 이상의 휴업\\n\\n(휴업일수에 사고 발생일은 포함되지 않으나 법정공휴일 또는 근로 제공 의무가 없는 휴무일은 포함)\\n\\n## 작업중지 요건\\n\\n0 고용노동부장관은 . (중락).. 해당 사업장에 산재가 다시 발생할 급박한 위험이 있다고 판단 되는 경우 그 작업의 중지름 명할 수 있음\\n\\n- 중대재해가 발생한 해당 직업 중대재해가 발생한 작업과 동일한 작업\\n\\n0고용노동부장관은 토사 구축물의봉과 화재 폭발 유해하거나 위험한 물질의 누출 등으로 인해 중대재해가 발생해 . (중락). 확산월 수 있다고 판단되는 등 불가피한 경우 해당사업장의\\n\\n<!-- image -->')]\n",
      "Node 'retrieve_agent':\n",
      "'\\n---\\n'\n",
      "---GENERATE---\n",
      ">>> 합산문서개수: 1\n",
      "Node 'generate_agent':\n",
      "'\\n---\\n'\n",
      "('중대재해의 정의 및 요건에 대한 안전 보고서입니다.\\n'\n",
      " '\\n'\n",
      " '중대재해는 다음과 같은 경우를 말합니다.\\n'\n",
      " '\\n'\n",
      " '1. 사망자가 1명 이상 발생한 재해\\n'\n",
      " '2. 3개월 이상의 요양이 필요한 부상자가 동시에 2명 이상 발생한 재해\\n'\n",
      " '3. 부상자 또는 직업성 질병자가 동시에 10명 이상 발생한 재해\\n'\n",
      " '\\n'\n",
      " '중대재해의 발생은 사업장의 안전 관리 수준을 평가하는 중요한 지표입니다. 따라서 중대재해의 발생을 예방하고, 발생한 경우에는 즉시 '\n",
      " '대응하여 재해의 확산을 방지하고, 재발을 방지하기 위한 조치를 취해야 합니다.\\n'\n",
      " '\\n'\n",
      " '중대재해의 발생 시에는 다음과 같은 조치를 취해야 합니다.\\n'\n",
      " '\\n'\n",
      " '1. 즉시 산업재해 조사표를 작성하고, 근로자 대표의 확인을 받아야 합니다.\\n'\n",
      " '2. 산업재해의 발생 원인과 과정, 재해 재발방지 계획 등을 기록하고, 3년간 보존해야 합니다.\\n'\n",
      " '3. 고용노동부장관은 중대재해가 발생한 해당 작업의 중지 또는 해당 사업장의 일부 또는 전부의 중지를 명할 수 있습니다.\\n'\n",
      " '\\n'\n",
      " '중대재해의 예방을 위해서는 다음과 같은 조치를 취해야 합니다.\\n'\n",
      " '\\n'\n",
      " '1. 안전 관리 수준을 높여야 합니다.\\n'\n",
      " '2. 근로자의 안전 교육을 실시해야 합니다.\\n'\n",
      " '3. 작업 중지 요건을 충족하는 경우, 작업을 중지해야 합니다.\\n'\n",
      " '4. 3일 이상의 휴업이 발생한 경우, 재해의 원인과 재발방지 계획 등을 기록하고, 3년간 보존해야 합니다.\\n'\n",
      " '\\n'\n",
      " '결론적으로, 중대재해의 정의 및 요건을 이해하고, 발생 시에는 즉시 대응하여 재해의 확산을 방지하고, 재발을 방지하기 위한 조치를 취해야 '\n",
      " '합니다. 또한, 중대재해의 예방을 위해서는 안전 관리 수준을 높이고, 근로자의 안전 교육을 실시해야 합니다.')\n"
     ]
    }
   ],
   "source": [
    "# Run\n",
    "import pprint\n",
    "inputs = {\n",
    "    \"keys\": {\n",
    "        \"question\": \"중대재해의 정의 및 요건\"\n",
    "    }\n",
    "}\n",
    "for output in app.stream(inputs):\n",
    "    # print(output)\n",
    "    for key, value in output.items():\n",
    "        # Node\n",
    "        print(f\"Node '{key}':\")\n",
    "        # Optional: print full state at each node\n",
    "        # pprint.pprint(value[\"keys\"], indent=2, width=80, depth=None)\n",
    "    pprint.pprint(\"\\n---\\n\")\n",
    "\n",
    "# Final generation\n",
    "# pprint.pprint(value['keys']['documents'])\n",
    "pprint.pprint(value['keys']['generation'])"
   ]
  },
  {
   "cell_type": "code",
   "execution_count": 79,
   "id": "73596558",
   "metadata": {},
   "outputs": [],
   "source": [
    "# import time\n",
    "# inputs = []\n",
    "# results = []"
   ]
  },
  {
   "cell_type": "code",
   "execution_count": 80,
   "id": "c370143f",
   "metadata": {},
   "outputs": [],
   "source": [
    "# question = \"중대재해의 정의\"\n",
    "# input = {'keys': {\"role\": \"user\", \"question\": question}}\n",
    "# inputs.append(input[\"keys\"])\n",
    "# temp = []\n",
    "# async for event in app.astream_events(input, version=\"v1\"):\n",
    "#     # print(event)\n",
    "#     if event['event'] == 'on_chat_model_stream' or event['event'] == 'on_llm_stream':\n",
    "#         try:\n",
    "#             response = event['data']['chunk'].content    # groq, OpenRouter\n",
    "#             temp.append(response)\n",
    "#             print(response, end=\"\")  \n",
    "#             time.sleep(0.1)\n",
    "#         except:\n",
    "#             response = event['data']['chunk']   # ollama\n",
    "#             temp.append(response)\n",
    "#             print(response, end=\"\")    \n",
    "#             time.sleep(0.1)\n",
    "#         finally: pass\n",
    "        \n",
    "#     else: pass\n",
    "# total_res = \"\".join(temp[:])\n",
    "# inputs.append({\"role\": \"ai\", \"content\": total_res})"
   ]
  },
  {
   "cell_type": "code",
   "execution_count": 81,
   "id": "5de2ce39",
   "metadata": {},
   "outputs": [],
   "source": [
    "# inputs"
   ]
  },
  {
   "cell_type": "code",
   "execution_count": 82,
   "id": "576b091f",
   "metadata": {},
   "outputs": [],
   "source": [
    "# question = \"대한민국 고용노동부의 중대재해 예방 가이드에 대해 설명해주세요\"\n",
    "# input = {'keys': {\"role\": \"user\", \"question\": question}}\n",
    "# inputs.append(input[\"keys\"])\n",
    "# temp = []\n",
    "# async for event in app.astream_events(input, version=\"v1\"):\n",
    "#     # print(event)\n",
    "#     if event['event'] == 'on_chat_model_stream' or event['event'] == 'on_llm_stream':\n",
    "#         try:\n",
    "#             response = event['data']['chunk'].content    # groq, OpenRouter\n",
    "#             temp.append(response)\n",
    "#             print(response, end=\"\")  \n",
    "#             time.sleep(0.1)\n",
    "#         except:\n",
    "#             response = event['data']['chunk']   # ollama\n",
    "#             temp.append(response)\n",
    "#             print(response, end=\"\")    \n",
    "#             time.sleep(0.1)\n",
    "#         finally: pass\n",
    "#     else: pass\n",
    "# total_res = \"\".join(temp[:])\n",
    "# inputs.append({\"role\": \"ai\", \"content\": total_res})"
   ]
  },
  {
   "cell_type": "code",
   "execution_count": 84,
   "id": "1fca783e",
   "metadata": {},
   "outputs": [],
   "source": [
    "# inputs"
   ]
  },
  {
   "cell_type": "code",
   "execution_count": null,
   "id": "fc89106b",
   "metadata": {},
   "outputs": [],
   "source": []
  }
 ],
 "metadata": {
  "kernelspec": {
   "display_name": ".venv",
   "language": "python",
   "name": "python3"
  },
  "language_info": {
   "codemirror_mode": {
    "name": "ipython",
    "version": 3
   },
   "file_extension": ".py",
   "mimetype": "text/x-python",
   "name": "python",
   "nbconvert_exporter": "python",
   "pygments_lexer": "ipython3",
   "version": "3.12.6"
  }
 },
 "nbformat": 4,
 "nbformat_minor": 5
}
