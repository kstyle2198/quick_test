{
 "cells": [
  {
   "cell_type": "code",
   "execution_count": 2,
   "id": "21055f1d",
   "metadata": {},
   "outputs": [],
   "source": [
    "import os\n",
    "from dotenv import load_dotenv\n",
    "load_dotenv(override=True)\n",
    "api_key=os.environ.get(\"openrouter_api_key\")"
   ]
  },
  {
   "cell_type": "code",
   "execution_count": 3,
   "id": "ef0395eb",
   "metadata": {},
   "outputs": [
    {
     "data": {
      "text/plain": [
       "ChatGroq(client=<groq.resources.chat.completions.Completions object at 0x000001B84EED63C0>, async_client=<groq.resources.chat.completions.AsyncCompletions object at 0x000001B84EED7470>, model_name='llama-3.3-70b-versatile', temperature=1e-08, model_kwargs={}, groq_api_key=SecretStr('**********'), max_tokens=3000)"
      ]
     },
     "execution_count": 3,
     "metadata": {},
     "output_type": "execute_result"
    }
   ],
   "source": [
    "from langchain_openai import ChatOpenAI\n",
    "# llm = ChatOpenAI(\n",
    "#     model = \"qwen/qwen3-30b-a3b:free\", # \"qwen/qwen3-14b:free\", \"qwen/qwen3-30b-a3b:free\",\n",
    "#     base_url=\"https://openrouter.ai/api/v1\",\n",
    "#     api_key=api_key,\n",
    "#     )\n",
    "\n",
    "from langchain_groq import ChatGroq\n",
    "llm = ChatGroq(model=\"llama-3.3-70b-versatile\", temperature=0,max_tokens=3000,) # \"gemma2-9b-it\", qwen-qwq-32b\n",
    "llm"
   ]
  },
  {
   "cell_type": "code",
   "execution_count": null,
   "id": "ccd3a50e",
   "metadata": {},
   "outputs": [
    {
     "data": {
      "text/plain": [
       "<langchain_elasticsearch.vectorstores.ElasticsearchStore at 0x1b84f299cd0>"
      ]
     },
     "execution_count": 4,
     "metadata": {},
     "output_type": "execute_result"
    }
   ],
   "source": [
    "from typing import Union, List\n",
    "from langchain_ollama import OllamaEmbeddings\n",
    "from langchain_elasticsearch import ElasticsearchStore, DenseVectorStrategy\n",
    "\n",
    "def load_elastic_vectorstore(index_names: Union[str, List[str]]):\n",
    "    # 단일 문자열인 경우 리스트로 변환\n",
    "    if isinstance(index_names, str):\n",
    "        index_names = [index_names]\n",
    "    \n",
    "    vector_store = ElasticsearchStore(\n",
    "        index_name=index_names, \n",
    "        embedding=OllamaEmbeddings(\n",
    "            base_url=\"http://localhost:11434\", \n",
    "            model=\"bge-m3:latest\"\n",
    "        ), \n",
    "        es_url=\"http://localhost:9200\",\n",
    "        es_user=\"Kstyle\",\n",
    "        es_password=\"12345\",\n",
    "    )\n",
    "    return vector_store\n",
    "\n",
    "\n",
    "index_names = [\"ship_safety\"]\n",
    "vector_store = load_elastic_vectorstore(index_names=index_names)\n",
    "vector_store"
   ]
  },
  {
   "cell_type": "code",
   "execution_count": 5,
   "id": "df616b55",
   "metadata": {},
   "outputs": [
    {
     "name": "stderr",
     "output_type": "stream",
     "text": [
      "d:\\AI_PROJECT\\quick_test\\.venv\\Lib\\site-packages\\tqdm\\auto.py:21: TqdmWarning: IProgress not found. Please update jupyter and ipywidgets. See https://ipywidgets.readthedocs.io/en/stable/user_install.html\n",
      "  from .autonotebook import tqdm as notebook_tqdm\n"
     ]
    },
    {
     "data": {
      "text/plain": [
       "<FlagEmbedding.inference.reranker.encoder_only.base.BaseReranker at 0x1b87ece8140>"
      ]
     },
     "execution_count": 5,
     "metadata": {},
     "output_type": "execute_result"
    }
   ],
   "source": [
    "from FlagEmbedding import FlagReranker\n",
    "reranking_model_path = \"D:/LLMs/bge-reranker-v2-m3\"\n",
    "reranker = FlagReranker(model_name_or_path=reranking_model_path, \n",
    "                        use_fp16=True,\n",
    "                        batch_size=512,\n",
    "                        max_length=2048,\n",
    "                        normalize=True)\n",
    "reranker"
   ]
  },
  {
   "cell_type": "code",
   "execution_count": null,
   "id": "23cf4f90",
   "metadata": {},
   "outputs": [],
   "source": [
    "import heapq\n",
    "\n",
    "def reranking(query: str, docs: list, min_score: float = 0.5, top_k: int = 3):\n",
    "    \"\"\"\n",
    "    doc string\n",
    "    \"\"\"\n",
    "    global reranker\n",
    "    inputs = [[query, doc.page_content.lower()] for doc in docs]\n",
    "    scores = reranker.compute_score(inputs)\n",
    "    if not isinstance(scores, list):\n",
    "        scores = [scores]\n",
    "\n",
    "    print(f\"---- original scores: {scores}\")\n",
    "\n",
    "    # Filter scores by threshold and keep index\n",
    "    filtered_scores = [(score, idx) for idx, score in enumerate(scores) if score >= min_score]\n",
    "\n",
    "    # Get top_k using heapq (more efficient than sorting full list)\n",
    "    top_scores = heapq.nlargest(top_k, filtered_scores, key=lambda x: x[0])\n",
    "\n",
    "    # Get document objects from top indices\n",
    "    reranked_docs = [docs[idx] for _, idx in top_scores]\n",
    "\n",
    "    return top_scores, reranked_docs\n"
   ]
  },
  {
   "cell_type": "code",
   "execution_count": null,
   "id": "17b3663f",
   "metadata": {},
   "outputs": [],
   "source": [
    "import operator\n",
    "import operator\n",
    "from typing import Annotated\n",
    "from typing import Dict, TypedDict\n",
    "from langgraph.graph.message import add_messages\n",
    "class OverAllState(TypedDict):\n",
    "    \"\"\"\n",
    "    Represents the overall state of our graph.\n",
    "    \"\"\"\n",
    "    questions: Annotated[list, operator.add]\n",
    "    context: Annotated[list, operator.add]\n",
    "    rerank_context: Annotated[list, operator.add]\n",
    "    top_scores: Annotated[list, operator.add]\n",
    "    generations: Annotated[list, operator.add]"
   ]
  },
  {
   "cell_type": "code",
   "execution_count": 118,
   "id": "9eb482cb",
   "metadata": {},
   "outputs": [],
   "source": [
    "from langchain_tavily import TavilySearch\n",
    "from langchain.schema import Document\n",
    "\n",
    "def web_agent(state: OverAllState):\n",
    "    \n",
    "    \"\"\" Retrieve docs from web search \"\"\"\n",
    "    question = state['questions'][-1]\n",
    "\n",
    "    # Search\n",
    "    print(\"---Web Search---\")\n",
    "    tavily_search = TavilySearch(max_results=3)\n",
    "    search_docs = tavily_search.invoke(question)\n",
    "    contents = [f\"{d['title']} \\n {d['content']}\" for d in search_docs['results']]\n",
    "    metas = [d['url'] for d in search_docs['results']]\n",
    "\n",
    "    documents = []\n",
    "    for content, url in zip(contents, metas):\n",
    "        documents.append(Document(page_content=content, metadata={'url':url}))\n",
    "    print(f\"---- Web Search 문서개수: {len(documents)}\")\n",
    "    return {\"context\": [documents]} "
   ]
  },
  {
   "cell_type": "code",
   "execution_count": 119,
   "id": "b315e0cd",
   "metadata": {},
   "outputs": [],
   "source": [
    "def retrieve_agent(state: OverAllState):\n",
    "    \"\"\"\n",
    "    Retrieve documents\n",
    "\n",
    "    Args:\n",
    "        state (dict): The current graph state\n",
    "\n",
    "    Returns:\n",
    "        state (dict): New key added to state, documents, \n",
    "        that contains retrieved documents\n",
    "    \"\"\"\n",
    "    print(\"---RETRIEVE---\")\n",
    "    question = state['questions'][-1]\n",
    "    retriever = vector_store.as_retriever(\n",
    "        search_type=\"mmr\", \n",
    "        search_kwargs={\"fetch_k\": 10, \"k\":5},\n",
    "        )\n",
    "    documents = retriever.invoke(question)\n",
    "    print(f\"---- Retrieve 문서개수: {len(documents)}\")\n",
    "\n",
    "    return {\"context\": [documents]}"
   ]
  },
  {
   "cell_type": "code",
   "execution_count": 120,
   "id": "e0d0db6e",
   "metadata": {},
   "outputs": [],
   "source": [
    "def reranking_agent(state:OverAllState):\n",
    "    \"\"\"Rerank retrieved documents\"\"\"\n",
    "    print(\"---RERANK---\")\n",
    "    question = state['questions'][-1]\n",
    "\n",
    "    ## 1차 검색 문서 Flattend : [[문석검색], [웹검색]] --> [문서검색, 웹검색]\n",
    "    flattened_context = [item for sublist in state[\"context\"][-2:] for item in sublist]\n",
    "    print(f\"--- flattened_context: {len(flattened_context)}\")\n",
    "    \n",
    "    top_scores, documents = reranking(query=question, docs=flattened_context, min_score = 0.5, top_k= 3)\n",
    "    print(f\"---- Retrieve Reranking 문서개수: {len(documents)} / top_scores: {top_scores}\")\n",
    "    return {'rerank_context': [documents], 'top_scores': [top_scores]}"
   ]
  },
  {
   "cell_type": "code",
   "execution_count": null,
   "id": "9eb320dc",
   "metadata": {},
   "outputs": [],
   "source": [
    "from langchain_core.prompts import ChatPromptTemplate\n",
    "from langchain_core.output_parsers import StrOutputParser\n",
    "\n",
    "## 현재 안전관리자 관점에서 작성됨..\n",
    "system_prompt = \"\"\"You are a Smart Safety Manager in Shipyard. \n",
    "Use the following pieces of retrieved contexts or web search results to review and generate safety report.\n",
    "The final purpose of your report is to improve the safety level and lower any accident risks in the shipyard.\n",
    "Think step by step and generate logical and reasonable safety report in Korean Language.\n",
    "Nonetheless, If you don't know the answer, just say that you don't know. \n",
    "Question: {question} \n",
    "Context: {context} \n",
    "Answer:\"\"\"\n",
    "\n",
    "def generate_agent(state: OverAllState):\n",
    "    print(\"---GENERATE---\")\n",
    "\n",
    "    question = state['questions'][-1]\n",
    "    context = state['rerank_context'][-1]\n",
    "    print(f\"---- 최종 컨텍스트 개수 재확인: {len(context)}\")\n",
    "\n",
    "    prompt = ChatPromptTemplate.from_messages([(\"human\", system_prompt),])\n",
    "    rag_chain = prompt | llm | StrOutputParser()\n",
    "\n",
    "    #Post-processing\n",
    "    def format_docs(docs):\n",
    "        return \"\\n\\n\".join(doc.page_content for doc in docs)\n",
    "    \n",
    "    # Static the Response\n",
    "    generation = rag_chain.invoke({\"context\": format_docs(context), \n",
    "                                   \"question\": question})\n",
    "    return {\"generations\": [generation]}"
   ]
  },
  {
   "cell_type": "code",
   "execution_count": 128,
   "id": "499a6104",
   "metadata": {},
   "outputs": [
    {
     "data": {
      "image/png": "[encoded data removed]",
      "text/plain": [
       "<langgraph.graph.state.CompiledStateGraph object at 0x000001B8178B1B50>"
      ]
     },
     "execution_count": 128,
     "metadata": {},
     "output_type": "execute_result"
    }
   ],
   "source": [
    "from langgraph.graph import StateGraph, START, END\n",
    "from langgraph.checkpoint.memory import MemorySaver\n",
    "def rag_builder(state):\n",
    "    rag_builder = StateGraph(state)\n",
    "    rag_builder.add_node(\"web_agent\", web_agent)\n",
    "    rag_builder.add_node(\"retrieve_agent\", retrieve_agent)\n",
    "    rag_builder.add_node(\"reranking_agent\", reranking_agent)\n",
    "    rag_builder.add_node(\"generate_agent\", generate_agent)\n",
    "\n",
    "    rag_builder.add_edge(START, \"web_agent\")\n",
    "    rag_builder.add_edge(\"web_agent\", \"reranking_agent\")\n",
    "    rag_builder.add_edge(START, \"retrieve_agent\") \n",
    "    rag_builder.add_edge(\"retrieve_agent\", \"reranking_agent\")\n",
    "    rag_builder.add_edge(\"reranking_agent\", \"generate_agent\") \n",
    "    rag_builder.add_edge(\"generate_agent\", END)\n",
    "\n",
    "    memory = MemorySaver()\n",
    "    graph = rag_builder.compile(checkpointer=memory)\n",
    "\n",
    "    return graph\n",
    "\n",
    "app = rag_builder(OverAllState)\n",
    "app"
   ]
  },
  {
   "cell_type": "code",
   "execution_count": 129,
   "id": "c3b5db6f",
   "metadata": {},
   "outputs": [
    {
     "name": "stdout",
     "output_type": "stream",
     "text": [
      "---RETRIEVE---\n",
      "---Web Search---\n",
      "---- Retrieve 문서개수: 5\n",
      "---- Web Search 문서개수: 3\n",
      ">>> Node 'retrieve_agent':\n",
      "'\\n---\\n'\n",
      ">>> Node 'web_agent':\n",
      "'\\n---\\n'\n",
      "---RERANK---\n",
      "--- flattened_context: 8\n",
      ">>> original scores: [0.864710137893859, 0.2235518598367174, 0.004967349823553644, 0.025638358316331378, 0.2536298336734885, 0.9583971676126322, 0.9737460157848937, 0.8163613816617807]\n",
      "---- Retrieve Reranking 문서개수: 3 / top_scores: [(0.9737460157848937, 6), (0.9583971676126322, 5), (0.864710137893859, 0)]\n",
      ">>> Node 'reranking_agent':\n",
      "'\\n---\\n'\n",
      "---GENERATE---\n",
      "---- 최종 컨텍스트 개수 재확인인: 3\n",
      ">>> Node 'generate_agent':\n",
      "'\\n---\\n'\n",
      "('중대재해의 정의 및 요건에 대한 안전 보고서\\n'\n",
      " '\\n'\n",
      " '중대재해는 근로자의 생명과 안전에 큰 영향을 미치는 사고로, 사업주는 즉각적인 대응 및 보고 의무를 가진다. 「산업안전보건법」에 따르면, '\n",
      " '중대재해 발생 시 신속한 신고, 초동조치, 원인조사 등이 필요하다.\\n'\n",
      " '\\n'\n",
      " '중대재해의 정의는 다음과 같다.\\n'\n",
      " '\\n'\n",
      " '* 사망자가 1명 이상 발생한 재해\\n'\n",
      " '* 3개월 이상의 요양이 필요한 부상자가 동시에 2명 이상 발생한 재해\\n'\n",
      " '* 부상자 또는 직업성 질병자가 동시에 10명 이상 발생한 재해\\n'\n",
      " '\\n'\n",
      " '중대재해의 요건은 다음과 같다.\\n'\n",
      " '\\n'\n",
      " '* 재해예방에 필요한 인력 및 예산 등 안전보건관리체계의 구축 및 그 이행에 관한 조치\\n'\n",
      " '* 재해 발생 시 재발방지 대책의 수립 및 그 이행에 관한 조치\\n'\n",
      " '\\n'\n",
      " '중대재해 발생 시 보고사항 및 조치순서는 다음과 같다.\\n'\n",
      " '\\n'\n",
      " '1. 즉시 신고: 중대재해 발생 시 즉시 고용노동부장관에게 신고해야 한다.\\n'\n",
      " '2. 초동조치: 중대재해 발생 시 즉시 초동조치를 취해야 한다.\\n'\n",
      " '3. 원인조사: 중대재해의 원인을 조사해야 한다.\\n'\n",
      " '4. 재발방지 대책: 중대재해의 재발방지 대책을 수립하고 이행해야 한다.\\n'\n",
      " '\\n'\n",
      " '중대재해 발생 시 작업중지 요건은 다음과 같다.\\n'\n",
      " '\\n'\n",
      " '* 고용노동부장관은 해당 사업장에 산재가 다시 발생할 급박한 위험이 있다고 판단되는 경우 그 작업의 중지를 명할 수 있다.\\n'\n",
      " '* 중대재해가 발생한 해당 직업 중대재해가 발생한 작업과 동일한 작업의 경우 작업중지를 명할 수 있다.\\n'\n",
      " '\\n'\n",
      " '중대재해 발생 시 3일 이상의 휴업 요건은 다음과 같다.\\n'\n",
      " '\\n'\n",
      " '* 휴업일수에 사고 발생일은 포함되지 않으나 법정공휴일 또는 근로 제공 의무가 없는 휴무일은 포함된다.\\n'\n",
      " '\\n'\n",
      " '본 보고서를 통해 중대재해의 정의 및 요건, 보고사항 및 조치순서, 작업중지 요건, 3일 이상의 휴업 요건 등을 확인하고, 중대재해의 '\n",
      " '예방 및 대응을 강화하여 근로자의 생명과 안전을 보호할 수 있도록 하겠습니다.')\n"
     ]
    }
   ],
   "source": [
    "# Run\n",
    "from IPython.display import Markdown\n",
    "import uuid \n",
    "import pprint\n",
    "inputs = {\"questions\": [\"중대재해의 정의 및 요건\"]}\n",
    "config = {\"configurable\": {\"thread_id\": str(uuid.uuid4())}}\n",
    "for output in app.stream(inputs, config=config, stream_mode=\"updates\", debug=False):\n",
    "    # print(output)\n",
    "    for key, value in output.items():\n",
    "        # Node\n",
    "        print(f\">>> Node '{key}':\")\n",
    "        # Optional: print full state at each node\n",
    "        # pprint.pprint(value[\"keys\"], indent=2, width=80, depth=None)\n",
    "    pprint.pprint(\"\\n---\\n\")\n",
    "\n",
    "pprint.pprint(value['generations'][-1])"
   ]
  },
  {
   "cell_type": "code",
   "execution_count": 124,
   "id": "0b3a87eb",
   "metadata": {},
   "outputs": [
    {
     "data": {
      "text/plain": [
       "{'questions': ['중대재해의 정의 및 요건'],\n",
       " 'context': [[Document(metadata={'filename': '안전보건 실무길잡이_선박건조 및 수리업.pdf', 'page': '32'}, page_content='This page explains 안전보건 실무길잡이_선박건조 및 수리업 that belongs to 안전 and  가이드 categories.\\n<!-- image -->\\n\\n## Check Box\\n\\n## 용어의 정의\\n\\n- 사업주는 산업재해 조사표에 근로자 대표의 확인올 받아야 하여, 그 기재 내용에 대하여\\n- 산업재해가 발생한 경우 다음 사항울 기록하고 3년간 보존한다.\\n- 사업장의 개요 및 근로자의 인적사항, 재해 발생의 일시 및 장소 재해 발생의 원인 및 과정, 재해 재발방지 계획\\n- 하는 경우 갈음활 수있음\\n\\n## 중대재해\\n\\n0 사망자가 1명 이상 발생한 재해   0 3개월 이상의 요양이 필요한 부상자가 동시에 2명 이상 발생한 재해 부상자 또는 직업성 질병자가 동시에 10명 이상 발생한 재해름 말한다.\\n\\n## 지체없이\\n\\n정당한 사유재해 등으로 인한 통신수단의 이용이 곤란하거나 재해자 응급구호; 2차 재해 재발방지루 위한 조치\\n\\n## 3일 이상의 휴업\\n\\n(휴업일수에 사고 발생일은 포함되지 않으나 법정공휴일 또는 근로 제공 의무가 없는 휴무일은 포함)\\n\\n## 작업중지 요건\\n\\n0 고용노동부장관은 . (중락).. 해당 사업장에 산재가 다시 발생할 급박한 위험이 있다고 판단 되는 경우 그 작업의 중지름 명할 수 있음\\n\\n- 중대재해가 발생한 해당 직업 중대재해가 발생한 작업과 동일한 작업\\n\\n0고용노동부장관은 토사 구축물의봉과 화재 폭발 유해하거나 위험한 물질의 누출 등으로 인해 중대재해가 발생해 . (중락). 확산월 수 있다고 판단되는 등 불가피한 경우 해당사업장의\\n\\n<!-- image -->'),\n",
       "   Document(metadata={'filename': '중대재해 처벌 등에 관한 법률(법률)(제17907호)(20220127).pdf', 'page': '4'}, page_content='This page explains 중대재해 처벌 등에 관한 법률(법률)(제17907호)(20220127) that belongs to 안전 and  법령 categories.\\n- ② 제1항에도 불구하고 제16조는 공포한 날부터 시행한다.\\n- 제2조(다른 법률의 개정) 법원조직법 중 일부를 다음과 같이 개정한다.\\n- 제32조제1항제3호에 아목을 다음과 같이 신설한다.\\n- 아. 「중대재해 처벌 등에 관한 법률」 제6조제1항ㆍ제3항 및 제10조제1항에 해당하는 사건'),\n",
       "   Document(metadata={'filename': '사고사례_25.pdf', 'page': '0', 'lv1_cat': '안전', 'lv2_cat': '사고사례'}, page_content=\"This page explains 사고사례_25 that belongs to 안전 and  사고사례 categories.\\n제공 : 한국산업안전보건공단 부산광역본부 조선업재해예방센터\\n\\n## 크레인 불시 작동으로 중량물에 끼임\\n\\n## &lt; 재 해 개 요&gt;\\n\\n'21.4.30.(금) 금) 18시 50분경 경남 소재 ○○○사업장에서 XX자 X자 구조물(X-brace, 약 42톤)톤)을 주 기둥(Leg)에 설치하기 위해 골리앗크레인으로 잡은 상태에서 취부작업 중 , 크레인 불시 상승으로 X자 구조물이 이탈되면서 용접작업 중인 재해자를 덮쳐 구조물과 작업발판 사이에 머리가 끼여 사망함\\n\\n※ 1대의 크레인으로 2가지 작업을 병행하던 중 오작동으로 사고발생\\n\\n## □ 사고형태 및 피해정도 : 끼임 / 사망 1명\\n\\n【재해상황도 및 기인물】\\n\\n<!-- image -->\\n\\n## □ 재해예방대책\\n\\n## ❍ 중량물이 고정되기 전 줄걸이 해제 금지 및 크레인 병행작업 금지\\n\\n- -X자 구조물 등 중량물을 설치하는 경우 안전하게 고정된 후 줄걸이 해제하며 , 크레인 1대로 여러 작업을 동시에 수행하는 병행작업 금지\\n\\n※ 무리한 작업공정 진행 금지\\n\\n본 속보는 동종재해 예방을 위해 조선업재해예방센터에서 제작하여 제공하공하는 것이므로 동종 시설의 자체점검 및 적정한 조치실시 , 근로자교자교육 자료 등으로 활용 바랍니다. 다. 인터넷 주소 www.kosha.or.kr/자료마당/당/재해사례/국내재해사례/례/조선업 클릭\\n\\n<!-- image -->\"),\n",
       "   Document(metadata={'filename': '대법원 2023. 12. 28. 선고 2023도12316 판결.pdf', 'page': '3'}, page_content='This page explains 대법원 2023. 12. 28. 선고 2023도12316 판결 that belongs to 안전 and  판례 categories.\\n<!-- image -->\\n\\n따라서 중대재해처벌법 위반(산업재해치사)죄와 업무상과실치사죄 역시 행위의 동일성이 인정되어 상상적 경 합 관계에 있다 .\\n\\n나 . 결국 원심이 피고인들에 대한 쟁점 공소사실 부분을 상상적 경합 관계로 판단한 것은 정당하고 , 거기에 상고이유 주장과 같이 죄수 판단에 관한 법리를 오해하여 판결에 영향을 미친 잘못이 없다 . 3 . 나머지 부분에 관한 판단\\n\\n검사는 피고인들에 대한 원심판결 전부에 대하여 상고하였으나 , 안전조치 및 보건조치 불이행으로 인한 산업 안전보건법 위반 부분에 관하여는 상고장이나 상고이유서에 구체적인 불복이유의 기재가 없다 .\\n\\n## 4 . 결론\\n\\n상고를 모두 기각하기로 하여 , 관여 대법관의 일치된 의견으로 주문과 같이 판결한다 .\\n\\n## 대법관 노정희(재판장) 안철상 이흥구 오석준(주심)'),\n",
       "   Document(metadata={'filename': '사고사례_16.pdf', 'page': '0', 'lv1_cat': '안전', 'lv2_cat': '사고사례'}, page_content='This page explains 사고사례_16 that belongs to 안전 and  사고사례 categories.\\n## 중 대 재 해 사 례\\n\\n(문의) 061-288-8732\\n\\n제공 : 한국산업안전보건공단 부산광역본부 조선업재해예방센터\\n\\n## 건조중인 FRP 선박 내부에서 원인 미상의 화재로 인해 화상을 입음\\n\\n## &lt; 재 해 개 요&gt;\\n\\n2023. 5. 12.(금) 금) 16:10경 전남 여수시 소재 ○○○ 사업장에서 어창내부 적층작업 중인 FRP 선박 내부에서 원인 미상의 화재가 발생하여 작업자 3명이 화상을 입고 치료하던 중 1명이 2023. 5. 17. 사망한 재해임\\n\\n## □ 사고형태 및 피해정도 : 화상 / 사망 1명 , 부상 2명\\n\\n【화재발생 장면】\\n\\n<!-- image -->\\n\\n## □ 동종재해 예방대책\\n\\n## m 화재예방조치 실시\\n\\n- -사업주는 인화성 액체의 증기가 존재하여 화재가 발생할 우려가 있는 장소에서는 폭발 또는 화재를 예방하기 위해 환풍기 , 배풍기 등 환기장치를 적절하게 설치해야 함 (인화성물질로 인한 화재폭발 분위기를 낮추기 위해 환기팬 등을 사용한 강제환기를 실시해야 함)\\n- -화재의 원인이 될 우려가 있는 물질을 취급하는 장소에는 소화설비를 설치해야 함 .\\n\\n## m 경화제 취급관리 철저\\n\\n- -이물질 혼입을 방지하기 위해 지정된 구역에서만 수지와 경화제를 혼합하고 , 경화제는 뚜껑이 있는 원래의 용기(또는 전용용기)에만 담아서 사용해야 하며 , 사용 후에는 밀 봉해야 함')],\n",
       "  [Document(metadata={'url': 'https://m.blog.naver.com/p8283239/223798953849'}, page_content='중대재해의 정의와 발생 시 보고사항 및 조치순서에 대하여 설명하시오. : 네이버 블로그 \\n 1. 개요. 산업재해는 근로자가 업무 수행 중 발생하는 부상, 질병 또는 사망을 의미하며, 그중에서도 중대재해 는 근로자의 생명과 안전에 큰 영향을 미치는 사고로, 사업주는 즉각적인 대응 및 보고 의무를 가진다. 「산업안전보건법」에 따르면, 중대재해 발생 시 신속한 신고, 초동조치, 원인조사'),\n",
       "   Document(metadata={'url': 'https://m.blog.naver.com/seumlaw/222232760812'}, page_content='#2. 중대재해의 정의 및 분류 : 네이버 블로그 \\n ## 카테고리 이동 설립부터 성장까지, 기업을 세우는 법률파트너 중대재해의 정의 및 분류 지난 기고에서는 중대재해법의 배경과 의의 및 시행을 대비한 방안에 대해 알아보았습니다. 이번 기고에서는 중대재해의 정의와 분류에 대해 살펴보겠습니다. 1. 중대재해의 정의 및 분류 중대산업재해는 「산업안전보건법」상의 ‘중대재해’와는 동일하게 산업재해와 관련된 것이지만 ① 요구되는 부상자의 수, ② 안전∙보건 확보 의무의 내용, ③ 의무 위반시 처벌의 대상 및 정도를 다르게 규정하고 있다는 점에서 차이가 있습니다. 안전 및 보건 확보의무(중대재해처벌법 제4조, 제9조) 1. 재해예방에 필요한 인력 및 예산 등 안전보건관리체계의 구축 및 그 이행에 관한 조치 2. 재해 발생 시 재발방지 대책의 수립 및 그 이행에 관한 조치 이때 위 정의 중 제조물, 공중이용시설, 공중교통수단과 관련하여 관계법령상의 내용을 간략히 정리하면 아래와 같습니다. ## 카테고리'),\n",
       "   Document(metadata={'url': 'https://cu-again.tistory.com/entry/중대재해'}, page_content='산업안전보건법 중대재해처벌법 차이 / 중대재해 3가지 \\n 중대재해 처벌 등에 관한 법률 에 따른 중대재해 (약칭: 중대재해처벌법) 1. 중대재해란 중대산업재해 와 중대시민재해 를 말함. 2. 중대산업재해 . 노무를 제공하는 사람이 업무에 관계되는 건설물·설비·원재료·가스·증기·분진 등에 의하거나 작업 또는 그 밖의 업무로 인하여 사망 또는')]],\n",
       " 'rerank_context': [[Document(metadata={'url': 'https://m.blog.naver.com/seumlaw/222232760812'}, page_content='#2. 중대재해의 정의 및 분류 : 네이버 블로그 \\n ## 카테고리 이동 설립부터 성장까지, 기업을 세우는 법률파트너 중대재해의 정의 및 분류 지난 기고에서는 중대재해법의 배경과 의의 및 시행을 대비한 방안에 대해 알아보았습니다. 이번 기고에서는 중대재해의 정의와 분류에 대해 살펴보겠습니다. 1. 중대재해의 정의 및 분류 중대산업재해는 「산업안전보건법」상의 ‘중대재해’와는 동일하게 산업재해와 관련된 것이지만 ① 요구되는 부상자의 수, ② 안전∙보건 확보 의무의 내용, ③ 의무 위반시 처벌의 대상 및 정도를 다르게 규정하고 있다는 점에서 차이가 있습니다. 안전 및 보건 확보의무(중대재해처벌법 제4조, 제9조) 1. 재해예방에 필요한 인력 및 예산 등 안전보건관리체계의 구축 및 그 이행에 관한 조치 2. 재해 발생 시 재발방지 대책의 수립 및 그 이행에 관한 조치 이때 위 정의 중 제조물, 공중이용시설, 공중교통수단과 관련하여 관계법령상의 내용을 간략히 정리하면 아래와 같습니다. ## 카테고리'),\n",
       "   Document(metadata={'url': 'https://m.blog.naver.com/p8283239/223798953849'}, page_content='중대재해의 정의와 발생 시 보고사항 및 조치순서에 대하여 설명하시오. : 네이버 블로그 \\n 1. 개요. 산업재해는 근로자가 업무 수행 중 발생하는 부상, 질병 또는 사망을 의미하며, 그중에서도 중대재해 는 근로자의 생명과 안전에 큰 영향을 미치는 사고로, 사업주는 즉각적인 대응 및 보고 의무를 가진다. 「산업안전보건법」에 따르면, 중대재해 발생 시 신속한 신고, 초동조치, 원인조사'),\n",
       "   Document(metadata={'filename': '안전보건 실무길잡이_선박건조 및 수리업.pdf', 'page': '32'}, page_content='This page explains 안전보건 실무길잡이_선박건조 및 수리업 that belongs to 안전 and  가이드 categories.\\n<!-- image -->\\n\\n## Check Box\\n\\n## 용어의 정의\\n\\n- 사업주는 산업재해 조사표에 근로자 대표의 확인올 받아야 하여, 그 기재 내용에 대하여\\n- 산업재해가 발생한 경우 다음 사항울 기록하고 3년간 보존한다.\\n- 사업장의 개요 및 근로자의 인적사항, 재해 발생의 일시 및 장소 재해 발생의 원인 및 과정, 재해 재발방지 계획\\n- 하는 경우 갈음활 수있음\\n\\n## 중대재해\\n\\n0 사망자가 1명 이상 발생한 재해   0 3개월 이상의 요양이 필요한 부상자가 동시에 2명 이상 발생한 재해 부상자 또는 직업성 질병자가 동시에 10명 이상 발생한 재해름 말한다.\\n\\n## 지체없이\\n\\n정당한 사유재해 등으로 인한 통신수단의 이용이 곤란하거나 재해자 응급구호; 2차 재해 재발방지루 위한 조치\\n\\n## 3일 이상의 휴업\\n\\n(휴업일수에 사고 발생일은 포함되지 않으나 법정공휴일 또는 근로 제공 의무가 없는 휴무일은 포함)\\n\\n## 작업중지 요건\\n\\n0 고용노동부장관은 . (중락).. 해당 사업장에 산재가 다시 발생할 급박한 위험이 있다고 판단 되는 경우 그 작업의 중지름 명할 수 있음\\n\\n- 중대재해가 발생한 해당 직업 중대재해가 발생한 작업과 동일한 작업\\n\\n0고용노동부장관은 토사 구축물의봉과 화재 폭발 유해하거나 위험한 물질의 누출 등으로 인해 중대재해가 발생해 . (중락). 확산월 수 있다고 판단되는 등 불가피한 경우 해당사업장의\\n\\n<!-- image -->')]],\n",
       " 'top_scores': [[[0.9737460157848937, 6],\n",
       "   [0.9583971676126322, 5],\n",
       "   [0.864710137893859, 0]]],\n",
       " 'generations': ['중대재해의 정의 및 요건에 대한 안전 보고서\\n\\n중대재해는 근로자의 생명과 안전에 큰 영향을 미치는 사고로, 사업주는 즉각적인 대응 및 보고 의무를 가진다. 「산업안전보건법」에 따르면, 중대재해 발생 시 신속한 신고, 초동조치, 원인조사 등이 필요하다.\\n\\n중대재해의 정의는 다음과 같다.\\n\\n* 사망자가 1명 이상 발생한 재해\\n* 3개월 이상의 요양이 필요한 부상자가 동시에 2명 이상 발생한 재해\\n* 부상자 또는 직업성 질병자가 동시에 10명 이상 발생한 재해\\n\\n중대재해 발생 시 사업주는 지체없이 신고해야 하며, 재해 발생의 일시 및 장소, 재해 발생의 원인 및 과정, 재해 재발방지 계획 등을 기록하고 3년간 보존해야 한다.\\n\\n또한, 중대재해 발생 시 작업중지 요건이 발생할 수 있다. 고용노동부장관은 해당 사업장에 산재가 다시 발생할 급박한 위험이 있다고 판단되는 경우 그 작업의 중지를 명할 수 있다.\\n\\n중대재해 예방을 위해 사업주는 안전보건관리체계의 구축 및 그 이행에 관한 조치, 재해예방에 필요한 인력 및 예산 등 안전보건관리체계의 구축 및 그 이행에 관한 조치를 취해야 한다.\\n\\n본 보고서의 목적은 중대재해의 정의 및 요건을 이해하고, 중대재해 예방을 위해 필요한 조치를 취하여 근로자의 생명과 안전을 보호하는 것이다. 따라서, 사업주는 중대재해의 정의 및 요건을 이해하고, 안전보건관리체계를 구축하여 중대재해를 예방해야 한다.']}"
      ]
     },
     "execution_count": 124,
     "metadata": {},
     "output_type": "execute_result"
    }
   ],
   "source": [
    "cur_state = app.get_state(config=config)\n",
    "cur_state.values"
   ]
  },
  {
   "cell_type": "code",
   "execution_count": 125,
   "id": "73596558",
   "metadata": {},
   "outputs": [
    {
     "name": "stdout",
     "output_type": "stream",
     "text": [
      "---RETRIEVE---\n",
      "---Web Search---\n",
      "---- Retrieve 문서개수: 5\n",
      "---- Web Search 문서개수: 3\n",
      ">>> Node 'retrieve_agent':\n",
      "'\\n---\\n'\n",
      ">>> Node 'web_agent':\n",
      "'\\n---\\n'\n",
      "---RERANK---\n",
      "--- flattened_context: 8\n",
      ">>> original scores: [0.6250951042350936, 0.1543987424424548, 0.8436195161439453, 0.7154628506440146, 0.7955847495662411, 0.9963191660347478, 0.9857406373690819, 0.9379605198371225]\n",
      "---- Retrieve Reranking 문서개수: 3 / top_scores: [(0.9963191660347478, 5), (0.9857406373690819, 6), (0.9379605198371225, 7)]\n",
      ">>> Node 'reranking_agent':\n",
      "'\\n---\\n'\n",
      "---GENERATE---\n",
      "---- 최종 컨텍스트 개수: 3\n",
      ">>> Node 'generate_agent':\n",
      "'\\n---\\n'\n",
      "('중대재해 처벌 사례에 대한 안전 보고서\\n'\n",
      " '\\n'\n",
      " '중대재해처벌법은 사업장에서 중대한 인명 피해가 발생했을 때, 사업주나 경영책임자에게 형사책임을 묻는 법률입니다. 본 보고서는 '\n",
      " '중대재해처벌법 위반 사례를 분석하여 안전 수준을 향상시키고 사고 위험을 낮추기 위한 목적으로 작성되었습니다.\\n'\n",
      " '\\n'\n",
      " '1. 건설업 중대재해처벌법 위반 사례\\n'\n",
      " '건설업에서 중대재해처벌법 위반 사례는 다음과 같습니다.\\n'\n",
      " '- 건설 현장에서 안전 관리 소홀로 인한 사고\\n'\n",
      " '- 안전 규정 위반으로 인한 사고\\n'\n",
      " '- 근로자 교육 및 훈련 부족으로 인한 사고\\n'\n",
      " '\\n'\n",
      " '2. 제조업 중대재해처벌법 위반 사례\\n'\n",
      " '제조업에서 중대재해처벌법 위반 사례는 다음과 같습니다.\\n'\n",
      " '- 안전 장치 미설치 또는 불량으로 인한 사고\\n'\n",
      " '- 작업자 안전 교육 및 훈련 부족으로 인한 사고\\n'\n",
      " '- 작업 환경 개선 미흡으로 인한 사고\\n'\n",
      " '\\n'\n",
      " '3. 철강업 중대재해처벌법 위반 사례\\n'\n",
      " '철강업에서 중대재해처벌법 위반 사례는 다음과 같습니다.\\n'\n",
      " '- 고温 작업 시 안전 대책 미흡으로 인한 사고\\n'\n",
      " '- 작업자 안전 장비 미 착용으로 인한 사고\\n'\n",
      " '- 작업 환경 개선 미흡으로 인한 사고\\n'\n",
      " '\\n'\n",
      " '4. 중대재해처벌법 위반 사례의 교훈\\n'\n",
      " '중대재해처벌법 위반 사례를 분석한 결과, 다음과 같은 교훈을 얻을 수 있습니다.\\n'\n",
      " '- 안전 관리 소홀\\n'\n",
      " '- 안전 규정 위반\\n'\n",
      " '- 근로자 교육 및 훈련 부족\\n'\n",
      " '- 안전 장치 미설치 또는 불량\\n'\n",
      " '- 작업 환경 개선 미흡\\n'\n",
      " '\\n'\n",
      " '5. 안전 수준 향상을 위한 대책\\n'\n",
      " '중대재해처벌법 위반 사례를 분석한 결과, 다음과 같은 대책을 제안합니다.\\n'\n",
      " '- 안전 관리 강화\\n'\n",
      " '- 안전 규정 준수\\n'\n",
      " '- 근로자 교육 및 훈련 강화\\n'\n",
      " '- 안전 장치 설치 및 정기 점검\\n'\n",
      " '- 작업 환경 개선\\n'\n",
      " '\\n'\n",
      " '본 보고서는 중대재해처벌법 위반 사례를 분석하여 안전 수준을 향상시키고 사고 위험을 낮추기 위한 목적으로 작성되었습니다. 중대재해처벌법 '\n",
      " '위반 사례의 교훈을 통해 안전 수준을 향상시키고, 사고 위험을 낮추기 위한 대책을 제안합니다.')\n"
     ]
    }
   ],
   "source": [
    "# Run\n",
    "from IPython.display import Markdown\n",
    "import uuid \n",
    "import pprint\n",
    "inputs = {\"questions\": [\"중대재해 처벌 사례\"]}\n",
    "# config = {\"configurable\": {\"thread_id\": str(uuid.uuid4())}}\n",
    "for output in app.stream(inputs, config=config, stream_mode=\"updates\", debug=False):\n",
    "    # print(output)\n",
    "    for key, value in output.items():\n",
    "        # Node\n",
    "        print(f\">>> Node '{key}':\")\n",
    "        # Optional: print full state at each node\n",
    "        # pprint.pprint(value[\"keys\"], indent=2, width=80, depth=None)\n",
    "    pprint.pprint(\"\\n---\\n\")\n",
    "\n",
    "pprint.pprint(value['generations'][-1])"
   ]
  },
  {
   "cell_type": "code",
   "execution_count": 126,
   "id": "1ad21835",
   "metadata": {},
   "outputs": [
    {
     "data": {
      "text/plain": [
       "{'questions': ['중대재해의 정의 및 요건', '중대재해 처벌 사례'],\n",
       " 'context': [[Document(metadata={'filename': '안전보건 실무길잡이_선박건조 및 수리업.pdf', 'page': '32'}, page_content='This page explains 안전보건 실무길잡이_선박건조 및 수리업 that belongs to 안전 and  가이드 categories.\\n<!-- image -->\\n\\n## Check Box\\n\\n## 용어의 정의\\n\\n- 사업주는 산업재해 조사표에 근로자 대표의 확인올 받아야 하여, 그 기재 내용에 대하여\\n- 산업재해가 발생한 경우 다음 사항울 기록하고 3년간 보존한다.\\n- 사업장의 개요 및 근로자의 인적사항, 재해 발생의 일시 및 장소 재해 발생의 원인 및 과정, 재해 재발방지 계획\\n- 하는 경우 갈음활 수있음\\n\\n## 중대재해\\n\\n0 사망자가 1명 이상 발생한 재해   0 3개월 이상의 요양이 필요한 부상자가 동시에 2명 이상 발생한 재해 부상자 또는 직업성 질병자가 동시에 10명 이상 발생한 재해름 말한다.\\n\\n## 지체없이\\n\\n정당한 사유재해 등으로 인한 통신수단의 이용이 곤란하거나 재해자 응급구호; 2차 재해 재발방지루 위한 조치\\n\\n## 3일 이상의 휴업\\n\\n(휴업일수에 사고 발생일은 포함되지 않으나 법정공휴일 또는 근로 제공 의무가 없는 휴무일은 포함)\\n\\n## 작업중지 요건\\n\\n0 고용노동부장관은 . (중락).. 해당 사업장에 산재가 다시 발생할 급박한 위험이 있다고 판단 되는 경우 그 작업의 중지름 명할 수 있음\\n\\n- 중대재해가 발생한 해당 직업 중대재해가 발생한 작업과 동일한 작업\\n\\n0고용노동부장관은 토사 구축물의봉과 화재 폭발 유해하거나 위험한 물질의 누출 등으로 인해 중대재해가 발생해 . (중락). 확산월 수 있다고 판단되는 등 불가피한 경우 해당사업장의\\n\\n<!-- image -->'),\n",
       "   Document(metadata={'filename': '중대재해 처벌 등에 관한 법률(법률)(제17907호)(20220127).pdf', 'page': '4'}, page_content='This page explains 중대재해 처벌 등에 관한 법률(법률)(제17907호)(20220127) that belongs to 안전 and  법령 categories.\\n- ② 제1항에도 불구하고 제16조는 공포한 날부터 시행한다.\\n- 제2조(다른 법률의 개정) 법원조직법 중 일부를 다음과 같이 개정한다.\\n- 제32조제1항제3호에 아목을 다음과 같이 신설한다.\\n- 아. 「중대재해 처벌 등에 관한 법률」 제6조제1항ㆍ제3항 및 제10조제1항에 해당하는 사건'),\n",
       "   Document(metadata={'filename': '사고사례_25.pdf', 'page': '0', 'lv1_cat': '안전', 'lv2_cat': '사고사례'}, page_content=\"This page explains 사고사례_25 that belongs to 안전 and  사고사례 categories.\\n제공 : 한국산업안전보건공단 부산광역본부 조선업재해예방센터\\n\\n## 크레인 불시 작동으로 중량물에 끼임\\n\\n## &lt; 재 해 개 요&gt;\\n\\n'21.4.30.(금) 금) 18시 50분경 경남 소재 ○○○사업장에서 XX자 X자 구조물(X-brace, 약 42톤)톤)을 주 기둥(Leg)에 설치하기 위해 골리앗크레인으로 잡은 상태에서 취부작업 중 , 크레인 불시 상승으로 X자 구조물이 이탈되면서 용접작업 중인 재해자를 덮쳐 구조물과 작업발판 사이에 머리가 끼여 사망함\\n\\n※ 1대의 크레인으로 2가지 작업을 병행하던 중 오작동으로 사고발생\\n\\n## □ 사고형태 및 피해정도 : 끼임 / 사망 1명\\n\\n【재해상황도 및 기인물】\\n\\n<!-- image -->\\n\\n## □ 재해예방대책\\n\\n## ❍ 중량물이 고정되기 전 줄걸이 해제 금지 및 크레인 병행작업 금지\\n\\n- -X자 구조물 등 중량물을 설치하는 경우 안전하게 고정된 후 줄걸이 해제하며 , 크레인 1대로 여러 작업을 동시에 수행하는 병행작업 금지\\n\\n※ 무리한 작업공정 진행 금지\\n\\n본 속보는 동종재해 예방을 위해 조선업재해예방센터에서 제작하여 제공하공하는 것이므로 동종 시설의 자체점검 및 적정한 조치실시 , 근로자교자교육 자료 등으로 활용 바랍니다. 다. 인터넷 주소 www.kosha.or.kr/자료마당/당/재해사례/국내재해사례/례/조선업 클릭\\n\\n<!-- image -->\"),\n",
       "   Document(metadata={'filename': '대법원 2023. 12. 28. 선고 2023도12316 판결.pdf', 'page': '3'}, page_content='This page explains 대법원 2023. 12. 28. 선고 2023도12316 판결 that belongs to 안전 and  판례 categories.\\n<!-- image -->\\n\\n따라서 중대재해처벌법 위반(산업재해치사)죄와 업무상과실치사죄 역시 행위의 동일성이 인정되어 상상적 경 합 관계에 있다 .\\n\\n나 . 결국 원심이 피고인들에 대한 쟁점 공소사실 부분을 상상적 경합 관계로 판단한 것은 정당하고 , 거기에 상고이유 주장과 같이 죄수 판단에 관한 법리를 오해하여 판결에 영향을 미친 잘못이 없다 . 3 . 나머지 부분에 관한 판단\\n\\n검사는 피고인들에 대한 원심판결 전부에 대하여 상고하였으나 , 안전조치 및 보건조치 불이행으로 인한 산업 안전보건법 위반 부분에 관하여는 상고장이나 상고이유서에 구체적인 불복이유의 기재가 없다 .\\n\\n## 4 . 결론\\n\\n상고를 모두 기각하기로 하여 , 관여 대법관의 일치된 의견으로 주문과 같이 판결한다 .\\n\\n## 대법관 노정희(재판장) 안철상 이흥구 오석준(주심)'),\n",
       "   Document(metadata={'filename': '사고사례_16.pdf', 'page': '0', 'lv1_cat': '안전', 'lv2_cat': '사고사례'}, page_content='This page explains 사고사례_16 that belongs to 안전 and  사고사례 categories.\\n## 중 대 재 해 사 례\\n\\n(문의) 061-288-8732\\n\\n제공 : 한국산업안전보건공단 부산광역본부 조선업재해예방센터\\n\\n## 건조중인 FRP 선박 내부에서 원인 미상의 화재로 인해 화상을 입음\\n\\n## &lt; 재 해 개 요&gt;\\n\\n2023. 5. 12.(금) 금) 16:10경 전남 여수시 소재 ○○○ 사업장에서 어창내부 적층작업 중인 FRP 선박 내부에서 원인 미상의 화재가 발생하여 작업자 3명이 화상을 입고 치료하던 중 1명이 2023. 5. 17. 사망한 재해임\\n\\n## □ 사고형태 및 피해정도 : 화상 / 사망 1명 , 부상 2명\\n\\n【화재발생 장면】\\n\\n<!-- image -->\\n\\n## □ 동종재해 예방대책\\n\\n## m 화재예방조치 실시\\n\\n- -사업주는 인화성 액체의 증기가 존재하여 화재가 발생할 우려가 있는 장소에서는 폭발 또는 화재를 예방하기 위해 환풍기 , 배풍기 등 환기장치를 적절하게 설치해야 함 (인화성물질로 인한 화재폭발 분위기를 낮추기 위해 환기팬 등을 사용한 강제환기를 실시해야 함)\\n- -화재의 원인이 될 우려가 있는 물질을 취급하는 장소에는 소화설비를 설치해야 함 .\\n\\n## m 경화제 취급관리 철저\\n\\n- -이물질 혼입을 방지하기 위해 지정된 구역에서만 수지와 경화제를 혼합하고 , 경화제는 뚜껑이 있는 원래의 용기(또는 전용용기)에만 담아서 사용해야 하며 , 사용 후에는 밀 봉해야 함')],\n",
       "  [Document(metadata={'url': 'https://m.blog.naver.com/p8283239/223798953849'}, page_content='중대재해의 정의와 발생 시 보고사항 및 조치순서에 대하여 설명하시오. : 네이버 블로그 \\n 1. 개요. 산업재해는 근로자가 업무 수행 중 발생하는 부상, 질병 또는 사망을 의미하며, 그중에서도 중대재해 는 근로자의 생명과 안전에 큰 영향을 미치는 사고로, 사업주는 즉각적인 대응 및 보고 의무를 가진다. 「산업안전보건법」에 따르면, 중대재해 발생 시 신속한 신고, 초동조치, 원인조사'),\n",
       "   Document(metadata={'url': 'https://m.blog.naver.com/seumlaw/222232760812'}, page_content='#2. 중대재해의 정의 및 분류 : 네이버 블로그 \\n ## 카테고리 이동 설립부터 성장까지, 기업을 세우는 법률파트너 중대재해의 정의 및 분류 지난 기고에서는 중대재해법의 배경과 의의 및 시행을 대비한 방안에 대해 알아보았습니다. 이번 기고에서는 중대재해의 정의와 분류에 대해 살펴보겠습니다. 1. 중대재해의 정의 및 분류 중대산업재해는 「산업안전보건법」상의 ‘중대재해’와는 동일하게 산업재해와 관련된 것이지만 ① 요구되는 부상자의 수, ② 안전∙보건 확보 의무의 내용, ③ 의무 위반시 처벌의 대상 및 정도를 다르게 규정하고 있다는 점에서 차이가 있습니다. 안전 및 보건 확보의무(중대재해처벌법 제4조, 제9조) 1. 재해예방에 필요한 인력 및 예산 등 안전보건관리체계의 구축 및 그 이행에 관한 조치 2. 재해 발생 시 재발방지 대책의 수립 및 그 이행에 관한 조치 이때 위 정의 중 제조물, 공중이용시설, 공중교통수단과 관련하여 관계법령상의 내용을 간략히 정리하면 아래와 같습니다. ## 카테고리'),\n",
       "   Document(metadata={'url': 'https://cu-again.tistory.com/entry/중대재해'}, page_content='산업안전보건법 중대재해처벌법 차이 / 중대재해 3가지 \\n 중대재해 처벌 등에 관한 법률 에 따른 중대재해 (약칭: 중대재해처벌법) 1. 중대재해란 중대산업재해 와 중대시민재해 를 말함. 2. 중대산업재해 . 노무를 제공하는 사람이 업무에 관계되는 건설물·설비·원재료·가스·증기·분진 등에 의하거나 작업 또는 그 밖의 업무로 인하여 사망 또는')],\n",
       "  [Document(metadata={'filename': '중대재해 처벌 등에 관한 법률(법률)(제17907호)(20220127).pdf', 'page': '4'}, page_content='This page explains 중대재해 처벌 등에 관한 법률(법률)(제17907호)(20220127) that belongs to 안전 and  법령 categories.\\n- ② 제1항에도 불구하고 제16조는 공포한 날부터 시행한다.\\n- 제2조(다른 법률의 개정) 법원조직법 중 일부를 다음과 같이 개정한다.\\n- 제32조제1항제3호에 아목을 다음과 같이 신설한다.\\n- 아. 「중대재해 처벌 등에 관한 법률」 제6조제1항ㆍ제3항 및 제10조제1항에 해당하는 사건'),\n",
       "   Document(metadata={'filename': '사고사례_25.pdf', 'page': '0', 'lv1_cat': '안전', 'lv2_cat': '사고사례'}, page_content=\"This page explains 사고사례_25 that belongs to 안전 and  사고사례 categories.\\n제공 : 한국산업안전보건공단 부산광역본부 조선업재해예방센터\\n\\n## 크레인 불시 작동으로 중량물에 끼임\\n\\n## &lt; 재 해 개 요&gt;\\n\\n'21.4.30.(금) 금) 18시 50분경 경남 소재 ○○○사업장에서 XX자 X자 구조물(X-brace, 약 42톤)톤)을 주 기둥(Leg)에 설치하기 위해 골리앗크레인으로 잡은 상태에서 취부작업 중 , 크레인 불시 상승으로 X자 구조물이 이탈되면서 용접작업 중인 재해자를 덮쳐 구조물과 작업발판 사이에 머리가 끼여 사망함\\n\\n※ 1대의 크레인으로 2가지 작업을 병행하던 중 오작동으로 사고발생\\n\\n## □ 사고형태 및 피해정도 : 끼임 / 사망 1명\\n\\n【재해상황도 및 기인물】\\n\\n<!-- image -->\\n\\n## □ 재해예방대책\\n\\n## ❍ 중량물이 고정되기 전 줄걸이 해제 금지 및 크레인 병행작업 금지\\n\\n- -X자 구조물 등 중량물을 설치하는 경우 안전하게 고정된 후 줄걸이 해제하며 , 크레인 1대로 여러 작업을 동시에 수행하는 병행작업 금지\\n\\n※ 무리한 작업공정 진행 금지\\n\\n본 속보는 동종재해 예방을 위해 조선업재해예방센터에서 제작하여 제공하공하는 것이므로 동종 시설의 자체점검 및 적정한 조치실시 , 근로자교자교육 자료 등으로 활용 바랍니다. 다. 인터넷 주소 www.kosha.or.kr/자료마당/당/재해사례/국내재해사례/례/조선업 클릭\\n\\n<!-- image -->\"),\n",
       "   Document(metadata={'filename': '사고사례_16.pdf', 'page': '0', 'lv1_cat': '안전', 'lv2_cat': '사고사례'}, page_content='This page explains 사고사례_16 that belongs to 안전 and  사고사례 categories.\\n## 중 대 재 해 사 례\\n\\n(문의) 061-288-8732\\n\\n제공 : 한국산업안전보건공단 부산광역본부 조선업재해예방센터\\n\\n## 건조중인 FRP 선박 내부에서 원인 미상의 화재로 인해 화상을 입음\\n\\n## &lt; 재 해 개 요&gt;\\n\\n2023. 5. 12.(금) 금) 16:10경 전남 여수시 소재 ○○○ 사업장에서 어창내부 적층작업 중인 FRP 선박 내부에서 원인 미상의 화재가 발생하여 작업자 3명이 화상을 입고 치료하던 중 1명이 2023. 5. 17. 사망한 재해임\\n\\n## □ 사고형태 및 피해정도 : 화상 / 사망 1명 , 부상 2명\\n\\n【화재발생 장면】\\n\\n<!-- image -->\\n\\n## □ 동종재해 예방대책\\n\\n## m 화재예방조치 실시\\n\\n- -사업주는 인화성 액체의 증기가 존재하여 화재가 발생할 우려가 있는 장소에서는 폭발 또는 화재를 예방하기 위해 환풍기 , 배풍기 등 환기장치를 적절하게 설치해야 함 (인화성물질로 인한 화재폭발 분위기를 낮추기 위해 환기팬 등을 사용한 강제환기를 실시해야 함)\\n- -화재의 원인이 될 우려가 있는 물질을 취급하는 장소에는 소화설비를 설치해야 함 .\\n\\n## m 경화제 취급관리 철저\\n\\n- -이물질 혼입을 방지하기 위해 지정된 구역에서만 수지와 경화제를 혼합하고 , 경화제는 뚜껑이 있는 원래의 용기(또는 전용용기)에만 담아서 사용해야 하며 , 사용 후에는 밀 봉해야 함'),\n",
       "   Document(metadata={'filename': '대법원 2023. 12. 28. 선고 2023도12316 판결.pdf', 'page': '3'}, page_content='This page explains 대법원 2023. 12. 28. 선고 2023도12316 판결 that belongs to 안전 and  판례 categories.\\n<!-- image -->\\n\\n따라서 중대재해처벌법 위반(산업재해치사)죄와 업무상과실치사죄 역시 행위의 동일성이 인정되어 상상적 경 합 관계에 있다 .\\n\\n나 . 결국 원심이 피고인들에 대한 쟁점 공소사실 부분을 상상적 경합 관계로 판단한 것은 정당하고 , 거기에 상고이유 주장과 같이 죄수 판단에 관한 법리를 오해하여 판결에 영향을 미친 잘못이 없다 . 3 . 나머지 부분에 관한 판단\\n\\n검사는 피고인들에 대한 원심판결 전부에 대하여 상고하였으나 , 안전조치 및 보건조치 불이행으로 인한 산업 안전보건법 위반 부분에 관하여는 상고장이나 상고이유서에 구체적인 불복이유의 기재가 없다 .\\n\\n## 4 . 결론\\n\\n상고를 모두 기각하기로 하여 , 관여 대법관의 일치된 의견으로 주문과 같이 판결한다 .\\n\\n## 대법관 노정희(재판장) 안철상 이흥구 오석준(주심)'),\n",
       "   Document(metadata={'filename': '사고사례_14.pdf', 'page': '0', 'lv1_cat': '안전', 'lv2_cat': '사고사례'}, page_content='This page explains 사고사례_14 that belongs to 안전 and  사고사례 categories.\\n## 조선 제2023-2호(2023. 3. 15) 중 대 재 해 사 례\\n\\n(문의) 051-520-0635\\n\\n제공 : 한국산업안전보건공단 부산광역본부 조선업재해예방센터\\n\\n## 셀가이드(Cell Guide) 설치 작업 중 , 낙하하는 셀가이드에 깔림\\n\\n## &lt; 재 해 개 요&gt;\\n\\n2023. 2. 27.(월) 09:30경 전남 신안군 소재 OO중공업 내 현장에서 재해자가 선박 블록 하부에 강구조물(셀가이드)을 설치하던 중 , 가용접 부위가 파단되어 낙하하는 셀가이드에 깔려 사망한 사고임\\n\\n## □ 사고형태 및 피해정도 : 깔림 / 사망 1명\\n\\n【재해발생 상황도】\\n\\n<!-- image -->\\n\\n## □ 재해예방대책\\n\\n## ❍ 강구조물(셀가이드) 조립작업 시 낙하위험 방지조치 실시\\n\\n- -셀가이드 조립작업(취부‧용접) 시 , 선박 블록과 셀가이드의 접합부를 본 용접까지 완료하거나 , 가용접 상태의 셀가이드가 낙하하지 않도록 지지대를 설치하는 등 안전조치 실시 후 유압잭을 제거하여야 함\\n\\n## ❍ 작업계획서 작성 및 작업지휘자 배치\\n\\n- -중량물 취급작업과 관련하여 안전한 작업방법을 명시한 작업계획서를 작성하고 , 그 계획에 따라 작업을 이행할 수 있도록 작업지휘자를 배치하여야 함\\n\\n본 속보는 동종재해 예방을 위해 조선업재해예방센터에서 제작하여 제공하는 것이므로 동종 시설의 자체점검 및 적절한 조치실시 , 근로자교육 자료 등으로 활용 바랍니다 . 인터넷 주소 www.kosha.or.kr/자료마당/통합자료실/재해사례/국내재해사례/조선업 클릭')],\n",
       "  [Document(metadata={'url': 'https://esgconsulting.co.kr/safety/중대재해처벌법-처벌-사례/'}, page_content='중대재해처벌법 업종별 처벌 사례 총정리 - 넥스온컨설팅, Esg, 중대재해처벌법 컨설팅 업체 \\n 중대재해처벌법 시행 이후 다양한 업종에서 처벌 사례가 발생했습니다. 건설업, 제조업, 철강업 등 주요 업종별로 중대재해처벌법 위반 사례를 상세히 살펴보겠습니다. 각 사례의 사건 개요, 위반 내용, 처벌 형량을 정리하여 기업들이 참고할 수 있도록 하였습니다. 1. 건설업 중대재해처벌법 위반'),\n",
       "   Document(metadata={'url': 'https://mogamju.com/중대재해처벌법-적용-범위와-실제-사례-총정리-2025년/'}, page_content='중대재해처벌법 적용 범위와 실제 사례 총정리 (2025년 최신) \\n 1. 중대재해처벌법이란 무엇인가? 중대재해처벌법은 사업장에서 중대한 인명 피해가 발생했을 때, 사업주나 경영책임자에게 형사책임을 묻는 법률입니다. 단순한 과태료 부과를 넘어, 징역형과 고액 벌금형까지 가능하다는 점이 특징입니다.'),\n",
       "   Document(metadata={'url': 'https://m.blog.naver.com/cssoffice/223521228423'}, page_content='중대재해처벌법 판결사례 및 위반사항 1호~17호 : 네이버 블로그 \\n 이번 포스팅에서는 중대재해처벌법 판결사례 및 위반사항을 1호부터 17호까지 판결문 내용을 요약하여 공유드립니다. 각 사건마다 판결받은 기업의 사명과 업종 등 간략한 개요와 사고내용, 판결결과와 판결일 등의 정보를 일목요연하게 표로 공유드리오니')]],\n",
       " 'rerank_context': [[Document(metadata={'url': 'https://m.blog.naver.com/seumlaw/222232760812'}, page_content='#2. 중대재해의 정의 및 분류 : 네이버 블로그 \\n ## 카테고리 이동 설립부터 성장까지, 기업을 세우는 법률파트너 중대재해의 정의 및 분류 지난 기고에서는 중대재해법의 배경과 의의 및 시행을 대비한 방안에 대해 알아보았습니다. 이번 기고에서는 중대재해의 정의와 분류에 대해 살펴보겠습니다. 1. 중대재해의 정의 및 분류 중대산업재해는 「산업안전보건법」상의 ‘중대재해’와는 동일하게 산업재해와 관련된 것이지만 ① 요구되는 부상자의 수, ② 안전∙보건 확보 의무의 내용, ③ 의무 위반시 처벌의 대상 및 정도를 다르게 규정하고 있다는 점에서 차이가 있습니다. 안전 및 보건 확보의무(중대재해처벌법 제4조, 제9조) 1. 재해예방에 필요한 인력 및 예산 등 안전보건관리체계의 구축 및 그 이행에 관한 조치 2. 재해 발생 시 재발방지 대책의 수립 및 그 이행에 관한 조치 이때 위 정의 중 제조물, 공중이용시설, 공중교통수단과 관련하여 관계법령상의 내용을 간략히 정리하면 아래와 같습니다. ## 카테고리'),\n",
       "   Document(metadata={'url': 'https://m.blog.naver.com/p8283239/223798953849'}, page_content='중대재해의 정의와 발생 시 보고사항 및 조치순서에 대하여 설명하시오. : 네이버 블로그 \\n 1. 개요. 산업재해는 근로자가 업무 수행 중 발생하는 부상, 질병 또는 사망을 의미하며, 그중에서도 중대재해 는 근로자의 생명과 안전에 큰 영향을 미치는 사고로, 사업주는 즉각적인 대응 및 보고 의무를 가진다. 「산업안전보건법」에 따르면, 중대재해 발생 시 신속한 신고, 초동조치, 원인조사'),\n",
       "   Document(metadata={'filename': '안전보건 실무길잡이_선박건조 및 수리업.pdf', 'page': '32'}, page_content='This page explains 안전보건 실무길잡이_선박건조 및 수리업 that belongs to 안전 and  가이드 categories.\\n<!-- image -->\\n\\n## Check Box\\n\\n## 용어의 정의\\n\\n- 사업주는 산업재해 조사표에 근로자 대표의 확인올 받아야 하여, 그 기재 내용에 대하여\\n- 산업재해가 발생한 경우 다음 사항울 기록하고 3년간 보존한다.\\n- 사업장의 개요 및 근로자의 인적사항, 재해 발생의 일시 및 장소 재해 발생의 원인 및 과정, 재해 재발방지 계획\\n- 하는 경우 갈음활 수있음\\n\\n## 중대재해\\n\\n0 사망자가 1명 이상 발생한 재해   0 3개월 이상의 요양이 필요한 부상자가 동시에 2명 이상 발생한 재해 부상자 또는 직업성 질병자가 동시에 10명 이상 발생한 재해름 말한다.\\n\\n## 지체없이\\n\\n정당한 사유재해 등으로 인한 통신수단의 이용이 곤란하거나 재해자 응급구호; 2차 재해 재발방지루 위한 조치\\n\\n## 3일 이상의 휴업\\n\\n(휴업일수에 사고 발생일은 포함되지 않으나 법정공휴일 또는 근로 제공 의무가 없는 휴무일은 포함)\\n\\n## 작업중지 요건\\n\\n0 고용노동부장관은 . (중락).. 해당 사업장에 산재가 다시 발생할 급박한 위험이 있다고 판단 되는 경우 그 작업의 중지름 명할 수 있음\\n\\n- 중대재해가 발생한 해당 직업 중대재해가 발생한 작업과 동일한 작업\\n\\n0고용노동부장관은 토사 구축물의봉과 화재 폭발 유해하거나 위험한 물질의 누출 등으로 인해 중대재해가 발생해 . (중락). 확산월 수 있다고 판단되는 등 불가피한 경우 해당사업장의\\n\\n<!-- image -->')],\n",
       "  [Document(metadata={'url': 'https://esgconsulting.co.kr/safety/중대재해처벌법-처벌-사례/'}, page_content='중대재해처벌법 업종별 처벌 사례 총정리 - 넥스온컨설팅, Esg, 중대재해처벌법 컨설팅 업체 \\n 중대재해처벌법 시행 이후 다양한 업종에서 처벌 사례가 발생했습니다. 건설업, 제조업, 철강업 등 주요 업종별로 중대재해처벌법 위반 사례를 상세히 살펴보겠습니다. 각 사례의 사건 개요, 위반 내용, 처벌 형량을 정리하여 기업들이 참고할 수 있도록 하였습니다. 1. 건설업 중대재해처벌법 위반'),\n",
       "   Document(metadata={'url': 'https://mogamju.com/중대재해처벌법-적용-범위와-실제-사례-총정리-2025년/'}, page_content='중대재해처벌법 적용 범위와 실제 사례 총정리 (2025년 최신) \\n 1. 중대재해처벌법이란 무엇인가? 중대재해처벌법은 사업장에서 중대한 인명 피해가 발생했을 때, 사업주나 경영책임자에게 형사책임을 묻는 법률입니다. 단순한 과태료 부과를 넘어, 징역형과 고액 벌금형까지 가능하다는 점이 특징입니다.'),\n",
       "   Document(metadata={'url': 'https://m.blog.naver.com/cssoffice/223521228423'}, page_content='중대재해처벌법 판결사례 및 위반사항 1호~17호 : 네이버 블로그 \\n 이번 포스팅에서는 중대재해처벌법 판결사례 및 위반사항을 1호부터 17호까지 판결문 내용을 요약하여 공유드립니다. 각 사건마다 판결받은 기업의 사명과 업종 등 간략한 개요와 사고내용, 판결결과와 판결일 등의 정보를 일목요연하게 표로 공유드리오니')]],\n",
       " 'top_scores': [[[0.9737460157848937, 6],\n",
       "   [0.9583971676126322, 5],\n",
       "   [0.864710137893859, 0]],\n",
       "  [[0.9963191660347478, 5], [0.9857406373690819, 6], [0.9379605198371225, 7]]],\n",
       " 'generations': ['중대재해의 정의 및 요건에 대한 안전 보고서\\n\\n중대재해는 근로자의 생명과 안전에 큰 영향을 미치는 사고로, 사업주는 즉각적인 대응 및 보고 의무를 가진다. 「산업안전보건법」에 따르면, 중대재해 발생 시 신속한 신고, 초동조치, 원인조사 등이 필요하다.\\n\\n중대재해의 정의는 다음과 같다.\\n\\n* 사망자가 1명 이상 발생한 재해\\n* 3개월 이상의 요양이 필요한 부상자가 동시에 2명 이상 발생한 재해\\n* 부상자 또는 직업성 질병자가 동시에 10명 이상 발생한 재해\\n\\n중대재해 발생 시 사업주는 지체없이 신고해야 하며, 재해 발생의 일시 및 장소, 재해 발생의 원인 및 과정, 재해 재발방지 계획 등을 기록하고 3년간 보존해야 한다.\\n\\n또한, 중대재해 발생 시 작업중지 요건이 발생할 수 있다. 고용노동부장관은 해당 사업장에 산재가 다시 발생할 급박한 위험이 있다고 판단되는 경우 그 작업의 중지를 명할 수 있다.\\n\\n중대재해 예방을 위해 사업주는 안전보건관리체계의 구축 및 그 이행에 관한 조치, 재해예방에 필요한 인력 및 예산 등 안전보건관리체계의 구축 및 그 이행에 관한 조치를 취해야 한다.\\n\\n본 보고서의 목적은 중대재해의 정의 및 요건을 이해하고, 중대재해 예방을 위해 필요한 조치를 취하여 근로자의 생명과 안전을 보호하는 것이다. 따라서, 사업주는 중대재해의 정의 및 요건을 이해하고, 안전보건관리체계를 구축하여 중대재해를 예방해야 한다.',\n",
       "  '중대재해 처벌 사례에 대한 안전 보고서\\n\\n중대재해처벌법은 사업장에서 중대한 인명 피해가 발생했을 때, 사업주나 경영책임자에게 형사책임을 묻는 법률입니다. 본 보고서는 중대재해처벌법 위반 사례를 분석하여 안전 수준을 향상시키고 사고 위험을 낮추기 위한 목적으로 작성되었습니다.\\n\\n1. 건설업 중대재해처벌법 위반 사례\\n건설업에서 중대재해처벌법 위반 사례는 다음과 같습니다.\\n- 건설 현장에서 안전 관리 소홀로 인한 사고\\n- 안전 규정 위반으로 인한 사고\\n- 근로자 교육 및 훈련 부족으로 인한 사고\\n\\n2. 제조업 중대재해처벌법 위반 사례\\n제조업에서 중대재해처벌법 위반 사례는 다음과 같습니다.\\n- 안전 장치 미설치 또는 불량으로 인한 사고\\n- 작업자 안전 교육 및 훈련 부족으로 인한 사고\\n- 작업 환경 개선 미흡으로 인한 사고\\n\\n3. 철강업 중대재해처벌법 위반 사례\\n철강업에서 중대재해처벌법 위반 사례는 다음과 같습니다.\\n- 고温 작업 시 안전 대책 미흡으로 인한 사고\\n- 작업자 안전 장비 미 착용으로 인한 사고\\n- 작업 환경 개선 미흡으로 인한 사고\\n\\n4. 중대재해처벌법 위반 사례의 교훈\\n중대재해처벌법 위반 사례를 분석한 결과, 다음과 같은 교훈을 얻을 수 있습니다.\\n- 안전 관리 소홀\\n- 안전 규정 위반\\n- 근로자 교육 및 훈련 부족\\n- 안전 장치 미설치 또는 불량\\n- 작업 환경 개선 미흡\\n\\n5. 안전 수준 향상을 위한 대책\\n중대재해처벌법 위반 사례를 분석한 결과, 다음과 같은 대책을 제안합니다.\\n- 안전 관리 강화\\n- 안전 규정 준수\\n- 근로자 교육 및 훈련 강화\\n- 안전 장치 설치 및 정기 점검\\n- 작업 환경 개선\\n\\n본 보고서는 중대재해처벌법 위반 사례를 분석하여 안전 수준을 향상시키고 사고 위험을 낮추기 위한 목적으로 작성되었습니다. 중대재해처벌법 위반 사례의 교훈을 통해 안전 수준을 향상시키고, 사고 위험을 낮추기 위한 대책을 제안합니다.']}"
      ]
     },
     "execution_count": 126,
     "metadata": {},
     "output_type": "execute_result"
    }
   ],
   "source": [
    "cur_state = app.get_state(config=config)\n",
    "cur_state.values"
   ]
  },
  {
   "cell_type": "code",
   "execution_count": null,
   "id": "cf57434b",
   "metadata": {},
   "outputs": [],
   "source": []
  }
 ],
 "metadata": {
  "kernelspec": {
   "display_name": ".venv",
   "language": "python",
   "name": "python3"
  },
  "language_info": {
   "codemirror_mode": {
    "name": "ipython",
    "version": 3
   },
   "file_extension": ".py",
   "mimetype": "text/x-python",
   "name": "python",
   "nbconvert_exporter": "python",
   "pygments_lexer": "ipython3",
   "version": "3.12.6"
  }
 },
 "nbformat": 4,
 "nbformat_minor": 5
}
